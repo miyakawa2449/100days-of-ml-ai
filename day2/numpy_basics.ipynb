{
 "cells": [
  {
   "cell_type": "markdown",
   "metadata": {},
   "source": [
    "# Day 2: NumPy基礎 - 配列・行列操作\n",
    "\n",
    "## 学習目標\n",
    "- NumPyの基本的な使い方を理解する\n",
    "- 配列の作成、操作、変形を習得する\n",
    "- 行列演算の基本を理解する\n",
    "- 統計関数の使い方を学ぶ"
   ]
  },
  {
   "cell_type": "markdown",
   "metadata": {},
   "source": [
    "## 1. NumPyのインポートと基本"
   ]
  },
  {
   "cell_type": "code",
   "execution_count": 1,
   "metadata": {},
   "outputs": [
    {
     "name": "stdout",
     "output_type": "stream",
     "text": [
      "NumPy version: 2.3.2\n"
     ]
    }
   ],
   "source": [
    "import numpy as np\n",
    "\n",
    "# NumPyのバージョン確認\n",
    "print(f\"NumPy version: {np.__version__}\")"
   ]
  },
  {
   "cell_type": "code",
   "execution_count": 2,
   "metadata": {},
   "outputs": [
    {
     "name": "stdout",
     "output_type": "stream",
     "text": [
      "Numpy version: 2.3.2\n"
     ]
    }
   ],
   "source": [
    "import numpy as np\n",
    "\n",
    "print(f\"Numpy version: {np.__version__}\")"
   ]
  },
  {
   "cell_type": "markdown",
   "metadata": {},
   "source": [
    "## 2. 配列の作成"
   ]
  },
  {
   "cell_type": "code",
   "execution_count": 3,
   "metadata": {},
   "outputs": [
    {
     "name": "stdout",
     "output_type": "stream",
     "text": [
      "1次元配列: [1 2 3 4 5]\n",
      "型: int64\n",
      "形状: (5,)\n",
      "次元数: 1\n",
      "要素数: 5\n"
     ]
    }
   ],
   "source": [
    "# リストから配列を作成\n",
    "arr1 = np.array([1, 2, 3, 4, 5])\n",
    "print(\"1次元配列:\", arr1)\n",
    "print(\"型:\", arr1.dtype)\n",
    "print(\"形状:\", arr1.shape)\n",
    "print(\"次元数:\", arr1.ndim)\n",
    "print(\"要素数:\", arr1.size)"
   ]
  },
  {
   "cell_type": "code",
   "execution_count": 4,
   "metadata": {},
   "outputs": [
    {
     "name": "stdout",
     "output_type": "stream",
     "text": [
      "2次元配列:\n",
      " [[1 2 3]\n",
      " [4 5 6]]\n",
      "形状: (2, 3)\n"
     ]
    }
   ],
   "source": [
    "# 2次元配列（行列）の作成\n",
    "arr2 = np.array([[1, 2, 3], \n",
    "                 [4, 5, 6]])\n",
    "print(\"2次元配列:\\n\", arr2)\n",
    "print(\"形状:\", arr2.shape)  # (行数, 列数)"
   ]
  },
  {
   "cell_type": "code",
   "execution_count": 6,
   "metadata": {},
   "outputs": [
    {
     "name": "stdout",
     "output_type": "stream",
     "text": [
      "ゼロ行列:\n",
      " [[0. 0. 0. 0.]\n",
      " [0. 0. 0. 0.]\n",
      " [0. 0. 0. 0.]]\n",
      "\n",
      "1で埋められた行列:\n",
      " [[1. 1. 1.]\n",
      " [1. 1. 1.]]\n",
      "\n",
      "単位行列:\n",
      " [[1. 0. 0.]\n",
      " [0. 1. 0.]\n",
      " [0. 0. 1.]]\n"
     ]
    }
   ],
   "source": [
    "# 特殊な配列の作成\n",
    "zeros = np.zeros((3, 4))  # 3x4のゼロ行列\n",
    "ones = np.ones((2, 3))    # 2x3の1で埋められた行列\n",
    "eye = np.eye(3)           # 3x3の単位行列\n",
    "\n",
    "print(\"ゼロ行列:\\n\", zeros)\n",
    "print(\"\\n1で埋められた行列:\\n\", ones)\n",
    "print(\"\\n単位行列:\\n\", eye)"
   ]
  },
  {
   "cell_type": "code",
   "execution_count": 15,
   "metadata": {},
   "outputs": [
    {
     "name": "stdout",
     "output_type": "stream",
     "text": [
      "ゼロ行列:\n",
      " [[0. 0. 0. 0.]\n",
      " [0. 0. 0. 0.]\n",
      " [0. 0. 0. 0.]\n",
      " [0. 0. 0. 0.]\n",
      " [0. 0. 0. 0.]]\n",
      "\n",
      "1で埋められた行列:\n",
      " [[1. 1. 1. 1.]\n",
      " [1. 1. 1. 1.]\n",
      " [1. 1. 1. 1.]\n",
      " [1. 1. 1. 1.]\n",
      " [1. 1. 1. 1.]]\n",
      "\n",
      "単位行列:\n",
      " [[1. 0. 0. 0. 0.]\n",
      " [0. 1. 0. 0. 0.]\n",
      " [0. 0. 1. 0. 0.]\n",
      " [0. 0. 0. 1. 0.]\n",
      " [0. 0. 0. 0. 1.]]\n"
     ]
    }
   ],
   "source": [
    "zeros = np.zeros((5,4))\n",
    "ones = np.ones((5,4))\n",
    "eye = np.eye(5)\n",
    "\n",
    "print(\"ゼロ行列:\\n\",zeros)\n",
    "print(\"\\n1で埋められた行列:\\n\", ones)\n",
    "print(\"\\n単位行列:\\n\", eye)"
   ]
  },
  {
   "cell_type": "code",
   "execution_count": 5,
   "metadata": {},
   "outputs": [
    {
     "name": "stdout",
     "output_type": "stream",
     "text": [
      "arange: [0 2 4 6 8]\n",
      "linspace: [0.   0.25 0.5  0.75 1.  ]\n"
     ]
    }
   ],
   "source": [
    "# 連続した値を持つ配列\n",
    "arange = np.arange(0, 10, 2)  # 0から10まで2刻み\n",
    "linspace = np.linspace(0, 1, 5)  # 0から1まで5等分\n",
    "\n",
    "print(\"arange:\", arange)\n",
    "print(\"linspace:\", linspace)"
   ]
  },
  {
   "cell_type": "code",
   "execution_count": 24,
   "metadata": {},
   "outputs": [
    {
     "name": "stdout",
     "output_type": "stream",
     "text": [
      "一様分布:\n",
      " [[0.37454012 0.95071431 0.73199394]\n",
      " [0.59865848 0.15601864 0.15599452]\n",
      " [0.05808361 0.86617615 0.60111501]]\n",
      "\n",
      "正規分布:\n",
      " [[-0.58087813 -0.52516981 -0.57138017]\n",
      " [-0.92408284 -2.61254901  0.95036968]\n",
      " [ 0.81644508 -1.523876   -0.42804606]]\n",
      "\n",
      "整数乱数:\n",
      " [[3 7 4]\n",
      " [9 3 5]\n",
      " [3 7 5]]\n"
     ]
    }
   ],
   "source": [
    "# ランダムな配列\n",
    "np.random.seed(42)  # 再現性のためのシード設定\n",
    "rand_uniform = np.random.rand(3, 3)  # 0-1の一様分布\n",
    "rand_normal = np.random.randn(3, 3)  # 標準正規分布\n",
    "rand_int = np.random.randint(1, 10, size=(3, 3))  # 1-9の整数\n",
    "\n",
    "print(\"一様分布:\\n\", rand_uniform)\n",
    "print(\"\\n正規分布:\\n\", rand_normal)\n",
    "print(\"\\n整数乱数:\\n\", rand_int)"
   ]
  },
  {
   "cell_type": "markdown",
   "metadata": {},
   "source": [
    "## 3. 配列の操作とインデックス"
   ]
  },
  {
   "cell_type": "code",
   "execution_count": 18,
   "metadata": {},
   "outputs": [
    {
     "name": "stdout",
     "output_type": "stream",
     "text": [
      "元の配列: [10 20 30 40 50]\n",
      "最初の要素: 10\n",
      "最後の要素: 50\n",
      "2番目から4番目: [20 30 40]\n",
      "逆順: [50 40 30 20 10]\n"
     ]
    }
   ],
   "source": [
    "# 1次元配列のインデックスとスライス\n",
    "arr = np.array([10, 20, 30, 40, 50])\n",
    "print(\"元の配列:\", arr)\n",
    "print(\"最初の要素:\", arr[0])\n",
    "print(\"最後の要素:\", arr[-1])\n",
    "print(\"2番目から4番目:\", arr[1:4])\n",
    "print(\"逆順:\", arr[::-1])"
   ]
  },
  {
   "cell_type": "code",
   "execution_count": 19,
   "metadata": {},
   "outputs": [
    {
     "name": "stdout",
     "output_type": "stream",
     "text": [
      "行列:\n",
      " [[1 2 3]\n",
      " [4 5 6]\n",
      " [7 8 9]]\n",
      "\n",
      "要素(1,2): 6\n",
      "\n",
      "2行目全体: [4 5 6]\n",
      "\n",
      "2列目全体: [2 5 8]\n",
      "\n",
      "部分行列:\n",
      " [[2 3]\n",
      " [5 6]]\n"
     ]
    }
   ],
   "source": [
    "# 2次元配列のインデックス\n",
    "mat = np.array([[1, 2, 3],\n",
    "                [4, 5, 6],\n",
    "                [7, 8, 9]])\n",
    "print(\"行列:\\n\", mat)\n",
    "print(\"\\n要素(1,2):\", mat[1, 2])  # 2行3列目の要素\n",
    "print(\"\\n2行目全体:\", mat[1, :])\n",
    "print(\"\\n2列目全体:\", mat[:, 1])\n",
    "print(\"\\n部分行列:\\n\", mat[0:2, 1:3])"
   ]
  },
  {
   "cell_type": "code",
   "execution_count": 20,
   "metadata": {},
   "outputs": [
    {
     "name": "stdout",
     "output_type": "stream",
     "text": [
      "条件マスク: [False False False  True  True  True]\n",
      "3より大きい要素: [4 5 6]\n",
      "偶数の要素: [2 4 6]\n"
     ]
    }
   ],
   "source": [
    "# 条件によるインデックス（ブールインデックス）\n",
    "arr = np.array([1, 2, 3, 4, 5, 6])\n",
    "mask = arr > 3\n",
    "print(\"条件マスク:\", mask)\n",
    "print(\"3より大きい要素:\", arr[mask])\n",
    "\n",
    "# 直接条件を使用\n",
    "print(\"偶数の要素:\", arr[arr % 2 == 0])"
   ]
  },
  {
   "cell_type": "markdown",
   "metadata": {},
   "source": [
    "## 4. 配列の形状変更"
   ]
  },
  {
   "cell_type": "code",
   "execution_count": 21,
   "metadata": {},
   "outputs": [
    {
     "name": "stdout",
     "output_type": "stream",
     "text": [
      "元の配列: [ 0  1  2  3  4  5  6  7  8  9 10 11]\n",
      "\n",
      "3x4に変形:\n",
      " [[ 0  1  2  3]\n",
      " [ 4  5  6  7]\n",
      " [ 8  9 10 11]]\n",
      "\n",
      "2x6に変形:\n",
      " [[ 0  1  2  3  4  5]\n",
      " [ 6  7  8  9 10 11]]\n",
      "\n",
      "3x?に変形（自動）:\n",
      " [[ 0  1  2  3]\n",
      " [ 4  5  6  7]\n",
      " [ 8  9 10 11]]\n"
     ]
    }
   ],
   "source": [
    "# reshape\n",
    "arr = np.arange(12)\n",
    "print(\"元の配列:\", arr)\n",
    "\n",
    "# 様々な形状に変更\n",
    "reshaped_3x4 = arr.reshape(3, 4)\n",
    "reshaped_2x6 = arr.reshape(2, 6)\n",
    "reshaped_auto = arr.reshape(3, -1)  # -1は自動計算\n",
    "\n",
    "print(\"\\n3x4に変形:\\n\", reshaped_3x4)\n",
    "print(\"\\n2x6に変形:\\n\", reshaped_2x6)\n",
    "print(\"\\n3x?に変形（自動）:\\n\", reshaped_auto)"
   ]
  },
  {
   "cell_type": "code",
   "execution_count": 22,
   "metadata": {},
   "outputs": [
    {
     "name": "stdout",
     "output_type": "stream",
     "text": [
      "元の行列:\n",
      " [[1 2 3]\n",
      " [4 5 6]]\n",
      "\n",
      "flatten: [1 2 3 4 5 6]\n",
      "ravel: [1 2 3 4 5 6]\n"
     ]
    }
   ],
   "source": [
    "# flatten と ravel\n",
    "mat = np.array([[1, 2, 3], [4, 5, 6]])\n",
    "print(\"元の行列:\\n\", mat)\n",
    "\n",
    "flattened = mat.flatten()  # コピーを作成\n",
    "raveled = mat.ravel()      # ビューを作成（可能な場合）\n",
    "\n",
    "print(\"\\nflatten:\", flattened)\n",
    "print(\"ravel:\", raveled)"
   ]
  },
  {
   "cell_type": "markdown",
   "metadata": {},
   "source": [
    "## latten() と ravel() の目的\n",
    "これらのメソッドは多次元配列を1次元配列に変換するためのものです。「平坦化（flattening）」と呼ばれる操作で、2次元配列を1次元に「潰す」のが目的なんです。\n",
    "\n",
    "## なぜ1次元になるのか？\n",
    "2次元配列 [[1, 2, 3], [4, 5, 6]] は、メモリ上では実際には [1, 2, 3, 4, 5, 6] として連続して格納されています。flatten() と ravel() はその「本来の姿」を見せているとも言えます。"
   ]
  },
  {
   "cell_type": "code",
   "execution_count": 25,
   "metadata": {},
   "outputs": [
    {
     "name": "stdout",
     "output_type": "stream",
     "text": [
      "元の行列 (2x3):\n",
      " [[1 2 3]\n",
      " [4 5 6]]\n",
      "\n",
      "転置行列 (3x2):\n",
      " [[1 4]\n",
      " [2 5]\n",
      " [3 6]]\n",
      "\n",
      "np.transposeを使用:\n",
      " [[1 4]\n",
      " [2 5]\n",
      " [3 6]]\n"
     ]
    }
   ],
   "source": [
    "# 転置\n",
    "mat = np.array([[1, 2, 3], \n",
    "                [4, 5, 6]])\n",
    "print(\"元の行列 (2x3):\\n\", mat)\n",
    "print(\"\\n転置行列 (3x2):\\n\", mat.T)\n",
    "print(\"\\nnp.transposeを使用:\\n\", np.transpose(mat))"
   ]
  },
  {
   "cell_type": "markdown",
   "metadata": {},
   "source": [
    "1. どちらを使うべき？\n",
    "一般的には mat.T を使うことが多いです：\n",
    "pythonimport numpy as np\n",
    "\n",
    "mat = np.array([[1, 2, 3], [4, 5, 6]])\n",
    "\n",
    "# 推奨：簡潔で読みやすい\n",
    "result1 = mat.T\n",
    "\n",
    "# こちらも正しいが、やや冗長\n",
    "result2 = np.transpose(mat)\n",
    "使い分けの目安：\n",
    "\n",
    "2次元配列: mat.T が簡潔で一般的\n",
    "3次元以上で軸を指定したい場合: np.transpose() を使用\n",
    "\n",
    "python# 3次元配列で軸を指定する場合\n",
    "arr_3d = np.random.rand(2, 3, 4)\n",
    "# 軸を指定できるのはnp.transpose()のみ\n",
    "result = np.transpose(arr_3d, (2, 0, 1))  # 軸の順番を変更\n",
    "2. Tはtransposeの略？\n",
    "はい、その通りです！ .T は \"transpose\" の略です。\n",
    "3. 実際の値は入れ替わっていない？\n",
    "正解です！ これは重要なポイントです：\n",
    "pythonimport numpy as np\n",
    "\n",
    "mat = np.array([[1, 2, 3], [4, 5, 6]])\n",
    "print(\"元の配列:\\n\", mat)\n",
    "\n",
    "# 転置はビュー（view）を作成するだけ\n",
    "transposed = mat.T\n",
    "print(\"転置後も元の配列は変わらない:\\n\", mat)\n",
    "\n",
    "# ただし、転置したビューを変更すると元の配列も変わる！\n",
    "transposed[0, 0] = 999\n",
    "print(\"転置ビューを変更後の元の配列:\\n\", mat)\n",
    "出力：\n",
    "元の配列:\n",
    " [[1 2 3]\n",
    " [4 5 6]]\n",
    "\n",
    "転置後も元の配列は変わらない:\n",
    " [[1 2 3]\n",
    " [4 5 6]]\n",
    "\n",
    "転置ビューを変更後の元の配列:\n",
    " [[999   2   3]\n",
    " [  4   5   6]]\n",
    "ビューとコピーの確認方法\n",
    "pythonmat = np.array([[1, 2, 3], [4, 5, 6]])\n",
    "transposed = mat.T\n",
    "\n",
    "# 同じメモリを共有しているか確認\n",
    "print(\"同じメモリを共有:\", np.shares_memory(mat, transposed))  # True\n",
    "\n",
    "# もしコピーが欲しい場合\n",
    "transposed_copy = mat.T.copy()\n",
    "print(\"コピーとはメモリを共有しない:\", np.shares_memory(mat, transposed_copy))  # False\n",
    "まとめ：\n",
    "\n",
    "mat.T は簡潔で推奨\n",
    "実際の配列は変更されず、ビューが作成される\n",
    "ビューを変更すると元の配列も変わるので注意！\n",
    "再試行Claudeは間違えることがあります。回答内容を必ずご確認ください。リサーチ Sonnet 4"
   ]
  },
  {
   "cell_type": "markdown",
   "metadata": {},
   "source": [
    "## 5. 配列の演算"
   ]
  },
  {
   "cell_type": "code",
   "execution_count": 26,
   "metadata": {},
   "outputs": [
    {
     "name": "stdout",
     "output_type": "stream",
     "text": [
      "a: [1 2 3 4]\n",
      "b: [5 6 7 8]\n",
      "\n",
      "加算 (a + b): [ 6  8 10 12]\n",
      "減算 (a - b): [-4 -4 -4 -4]\n",
      "乗算 (a * b): [ 5 12 21 32]\n",
      "除算 (a / b): [0.2        0.33333333 0.42857143 0.5       ]\n",
      "べき乗 (a ** 2): [ 1  4  9 16]\n"
     ]
    }
   ],
   "source": [
    "# 要素ごとの演算\n",
    "a = np.array([1, 2, 3, 4])\n",
    "b = np.array([5, 6, 7, 8])\n",
    "\n",
    "print(\"a:\", a)\n",
    "print(\"b:\", b)\n",
    "print(\"\\n加算 (a + b):\", a + b)\n",
    "print(\"減算 (a - b):\", a - b)\n",
    "print(\"乗算 (a * b):\", a * b)\n",
    "print(\"除算 (a / b):\", a / b)\n",
    "print(\"べき乗 (a ** 2):\", a ** 2)"
   ]
  },
  {
   "cell_type": "code",
   "execution_count": 27,
   "metadata": {},
   "outputs": [
    {
     "name": "stdout",
     "output_type": "stream",
     "text": [
      "元の配列:\n",
      " [[1 2]\n",
      " [3 4]]\n",
      "\n",
      "全要素に10を加算:\n",
      " [[11 12]\n",
      " [13 14]]\n",
      "\n",
      "全要素を2倍:\n",
      " [[2 4]\n",
      " [6 8]]\n"
     ]
    }
   ],
   "source": [
    "# スカラーとの演算\n",
    "arr = np.array([[1, 2], [3, 4]])\n",
    "print(\"元の配列:\\n\", arr)\n",
    "print(\"\\n全要素に10を加算:\\n\", arr + 10)\n",
    "print(\"\\n全要素を2倍:\\n\", arr * 2)"
   ]
  },
  {
   "cell_type": "code",
   "execution_count": 28,
   "metadata": {},
   "outputs": [
    {
     "name": "stdout",
     "output_type": "stream",
     "text": [
      "行列A:\n",
      " [[1 2]\n",
      " [3 4]]\n",
      "\n",
      "行列B:\n",
      " [[5 6]\n",
      " [7 8]]\n",
      "\n",
      "要素ごとの積 (A * B):\n",
      " [[ 5 12]\n",
      " [21 32]]\n",
      "\n",
      "行列積 (A @ B):\n",
      " [[19 22]\n",
      " [43 50]]\n",
      "\n",
      "np.dotを使用:\n",
      " [[19 22]\n",
      " [43 50]]\n"
     ]
    }
   ],
   "source": [
    "# 行列積\n",
    "A = np.array([[1, 2], \n",
    "              [3, 4]])\n",
    "B = np.array([[5, 6], \n",
    "              [7, 8]])\n",
    "\n",
    "print(\"行列A:\\n\", A)\n",
    "print(\"\\n行列B:\\n\", B)\n",
    "print(\"\\n要素ごとの積 (A * B):\\n\", A * B)\n",
    "print(\"\\n行列積 (A @ B):\\n\", A @ B)\n",
    "print(\"\\nnp.dotを使用:\\n\", np.dot(A, B))"
   ]
  },
  {
   "cell_type": "code",
   "execution_count": 29,
   "metadata": {},
   "outputs": [
    {
     "name": "stdout",
     "output_type": "stream",
     "text": [
      "行列:\n",
      " [[1 2 3]\n",
      " [4 5 6]\n",
      " [7 8 9]]\n",
      "\n",
      "行ベクトル: [10 20 30]\n",
      "\n",
      "列ベクトル:\n",
      " [[100]\n",
      " [200]\n",
      " [300]]\n",
      "\n",
      "行列 + 行ベクトル:\n",
      " [[11 22 33]\n",
      " [14 25 36]\n",
      " [17 28 39]]\n",
      "\n",
      "行列 + 列ベクトル:\n",
      " [[101 102 103]\n",
      " [204 205 206]\n",
      " [307 308 309]]\n"
     ]
    }
   ],
   "source": [
    "# ブロードキャスティング\n",
    "# 異なる形状の配列間での演算\n",
    "mat = np.array([[1, 2, 3],\n",
    "                [4, 5, 6],\n",
    "                [7, 8, 9]])\n",
    "row_vec = np.array([10, 20, 30])\n",
    "col_vec = np.array([[100], [200], [300]])\n",
    "\n",
    "print(\"行列:\\n\", mat)\n",
    "print(\"\\n行ベクトル:\", row_vec)\n",
    "print(\"\\n列ベクトル:\\n\", col_vec)\n",
    "print(\"\\n行列 + 行ベクトル:\\n\", mat + row_vec)\n",
    "print(\"\\n行列 + 列ベクトル:\\n\", mat + col_vec)"
   ]
  },
  {
   "cell_type": "markdown",
   "metadata": {},
   "source": [
    "## 6. 統計関数と集約関数"
   ]
  },
  {
   "cell_type": "code",
   "execution_count": 30,
   "metadata": {},
   "outputs": [
    {
     "name": "stdout",
     "output_type": "stream",
     "text": [
      "データ:\n",
      " [[ 1  2  3  4  5]\n",
      " [ 6  7  8  9 10]\n",
      " [11 12 13 14 15]]\n",
      "\n",
      "全体の統計:\n",
      "合計: 120\n",
      "平均: 8.00\n",
      "標準偏差: 4.32\n",
      "分散: 18.67\n",
      "最小値: 1\n",
      "最大値: 15\n"
     ]
    }
   ],
   "source": [
    "# 基本的な統計関数\n",
    "data = np.array([[1, 2, 3, 4, 5],\n",
    "                 [6, 7, 8, 9, 10],\n",
    "                 [11, 12, 13, 14, 15]])\n",
    "\n",
    "print(\"データ:\\n\", data)\n",
    "print(\"\\n全体の統計:\")\n",
    "print(f\"合計: {np.sum(data)}\")\n",
    "print(f\"平均: {np.mean(data):.2f}\")\n",
    "print(f\"標準偏差: {np.std(data):.2f}\")\n",
    "print(f\"分散: {np.var(data):.2f}\")\n",
    "print(f\"最小値: {np.min(data)}\")\n",
    "print(f\"最大値: {np.max(data)}\")"
   ]
  },
  {
   "cell_type": "code",
   "execution_count": 31,
   "metadata": {},
   "outputs": [
    {
     "name": "stdout",
     "output_type": "stream",
     "text": [
      "各列の合計 (axis=0): [18 21 24 27 30]\n",
      "各行の合計 (axis=1): [15 40 65]\n",
      "\n",
      "各列の平均: [ 6.  7.  8.  9. 10.]\n",
      "各行の平均: [ 3.  8. 13.]\n"
     ]
    }
   ],
   "source": [
    "# 軸に沿った集約\n",
    "print(\"各列の合計 (axis=0):\", np.sum(data, axis=0))\n",
    "print(\"各行の合計 (axis=1):\", np.sum(data, axis=1))\n",
    "print(\"\\n各列の平均:\", np.mean(data, axis=0))\n",
    "print(\"各行の平均:\", np.mean(data, axis=1))"
   ]
  },
  {
   "cell_type": "code",
   "execution_count": 32,
   "metadata": {},
   "outputs": [
    {
     "name": "stdout",
     "output_type": "stream",
     "text": [
      "配列: [3 1 4 1 5 9 2 6]\n",
      "\n",
      "累積和: [ 3  4  8  9 14 23 25 31]\n",
      "累積積: [   3    3   12   12   60  540 1080 6480]\n",
      "\n",
      "最大値のインデックス: 5\n",
      "最小値のインデックス: 1\n",
      "\n",
      "ソート済み: [1 1 2 3 4 5 6 9]\n",
      "ソートのインデックス: [1 3 6 0 2 4 7 5]\n"
     ]
    }
   ],
   "source": [
    "# その他の便利な関数\n",
    "arr = np.array([3, 1, 4, 1, 5, 9, 2, 6])\n",
    "print(\"配列:\", arr)\n",
    "print(\"\\n累積和:\", np.cumsum(arr))\n",
    "print(\"累積積:\", np.cumprod(arr))\n",
    "print(\"\\n最大値のインデックス:\", np.argmax(arr))\n",
    "print(\"最小値のインデックス:\", np.argmin(arr))\n",
    "print(\"\\nソート済み:\", np.sort(arr))\n",
    "print(\"ソートのインデックス:\", np.argsort(arr))"
   ]
  },
  {
   "cell_type": "markdown",
   "metadata": {},
   "source": [
    "## 7. 実践演習"
   ]
  },
  {
   "cell_type": "markdown",
   "metadata": {},
   "source": [
    "### 演習1: 行列の基本操作\n",
    "以下の要件を満たすコードを書いてください：\n",
    "1. 5×5の単位行列を作成\n",
    "2. その対角要素を[1, 2, 3, 4, 5]に変更\n",
    "3. 結果を表示"
   ]
  },
  {
   "cell_type": "code",
   "execution_count": 36,
   "metadata": {},
   "outputs": [
    {
     "name": "stdout",
     "output_type": "stream",
     "text": [
      "対角要素を変更した行列：\n",
      " [[1. 0. 0. 0. 0.]\n",
      " [0. 2. 0. 0. 0.]\n",
      " [0. 0. 3. 0. 0.]\n",
      " [0. 0. 0. 4. 0.]\n",
      " [0. 0. 0. 0. 5.]]\n"
     ]
    }
   ],
   "source": [
    "# 演習1の解答\n",
    "# ここにコードを書いてください\n",
    "mat = np.eye(5)\n",
    "np.fill_diagonal(mat, [1,2,3,4,5])\n",
    "print(\"対角要素を変更した行列：\\n\", mat)"
   ]
  },
  {
   "cell_type": "markdown",
   "metadata": {},
   "source": [
    "### 演習2: データ分析\n",
    "1. 平均50、標準偏差10の正規分布から100個のデータを生成\n",
    "2. データの基本統計量（平均、標準偏差、最小、最大）を計算\n",
    "3. 60以上の値の個数を数える"
   ]
  },
  {
   "cell_type": "code",
   "execution_count": 37,
   "metadata": {},
   "outputs": [
    {
     "name": "stdout",
     "output_type": "stream",
     "text": [
      "平均: 48.96\n",
      "標準偏差: 9.04\n",
      "最小値: 23.80\n",
      "最大値: 68.52\n",
      "60以上の値の個数: 11\n"
     ]
    }
   ],
   "source": [
    "# 演習2の解答\n",
    "# ここにコードを書いてください\n",
    "np.random.seed(42)\n",
    "data = np.random.normal(50, 10, 100)\n",
    "\n",
    "print(f\"平均: {np.mean(data):.2f}\")\n",
    "print(f\"標準偏差: {np.std(data):.2f}\")\n",
    "print(f\"最小値: {np.min(data):.2f}\")\n",
    "print(f\"最大値: {np.max(data):.2f}\")\n",
    "print(f\"60以上の値の個数: {np.sum(data >= 60)}\")"
   ]
  },
  {
   "cell_type": "markdown",
   "metadata": {},
   "source": [
    "### 演習3: 画像データのシミュレーション\n",
    "1. 28×28のランダムな「画像」（0-255の整数値）を作成\n",
    "2. 画像を上下反転\n",
    "3. 画像を90度回転\n",
    "4. 画像の明るさを調整（全ピクセルの値を0.5倍）"
   ]
  },
  {
   "cell_type": "code",
   "execution_count": 38,
   "metadata": {},
   "outputs": [
    {
     "name": "stdout",
     "output_type": "stream",
     "text": [
      "元の画像の形状: (28, 28)\n",
      "最初の5x5ピクセル:\n",
      " [[102 179  92  14 106]\n",
      " [191 187  20 160 203]\n",
      " [ 63 248 130 228  50]\n",
      " [174  34 205  80 163]\n",
      " [199 205 214 251 248]]\n",
      "\n",
      "処理後の画像の統計:\n",
      "明るさ調整前の平均: 132.38\n",
      "明るさ調整後の平均: 65.93\n"
     ]
    }
   ],
   "source": [
    "# 演習3の解答\n",
    "# ここにコードを書いてください\n",
    "np.random.seed(42)\n",
    "image = np.random.randint(0, 256, size=(28, 28))\n",
    "print(\"元の画像の形状:\", image.shape)\n",
    "print(\"最初の5x5ピクセル:\\n\", image[:5, :5])\n",
    "\n",
    "# 上下反転\n",
    "flipped = np.flipud(image)\n",
    "# または image[::-1, :]\n",
    "\n",
    "# 90度回転（反時計回り）\n",
    "rotated = np.rot90(image)\n",
    "\n",
    "# 明るさ調整\n",
    "darkened = (image * 0.5).astype(int)\n",
    "\n",
    "print(\"\\n処理後の画像の統計:\")\n",
    "print(f\"明るさ調整前の平均: {np.mean(image):.2f}\")\n",
    "print(f\"明るさ調整後の平均: {np.mean(darkened):.2f}\")"
   ]
  },
  {
   "cell_type": "markdown",
   "metadata": {},
   "source": [
    "## 演習の解答例"
   ]
  },
  {
   "cell_type": "code",
   "execution_count": null,
   "metadata": {},
   "outputs": [],
   "source": [
    "# 演習1の解答例\n",
    "mat = np.eye(5)\n",
    "np.fill_diagonal(mat, [1, 2, 3, 4, 5])\n",
    "print(\"対角要素を変更した行列:\\n\", mat)"
   ]
  },
  {
   "cell_type": "code",
   "execution_count": null,
   "metadata": {},
   "outputs": [],
   "source": [
    "# 演習2の解答例\n",
    "np.random.seed(42)\n",
    "data = np.random.normal(50, 10, 100)\n",
    "\n",
    "print(f\"平均: {np.mean(data):.2f}\")\n",
    "print(f\"標準偏差: {np.std(data):.2f}\")\n",
    "print(f\"最小値: {np.min(data):.2f}\")\n",
    "print(f\"最大値: {np.max(data):.2f}\")\n",
    "print(f\"60以上の値の個数: {np.sum(data >= 60)}\")"
   ]
  },
  {
   "cell_type": "code",
   "execution_count": null,
   "metadata": {},
   "outputs": [],
   "source": [
    "# 演習3の解答例\n",
    "np.random.seed(42)\n",
    "image = np.random.randint(0, 256, size=(28, 28))\n",
    "print(\"元の画像の形状:\", image.shape)\n",
    "print(\"最初の5x5ピクセル:\\n\", image[:5, :5])\n",
    "\n",
    "# 上下反転\n",
    "flipped = np.flipud(image)\n",
    "# または image[::-1, :]\n",
    "\n",
    "# 90度回転（反時計回り）\n",
    "rotated = np.rot90(image)\n",
    "\n",
    "# 明るさ調整\n",
    "darkened = (image * 0.5).astype(int)\n",
    "\n",
    "print(\"\\n処理後の画像の統計:\")\n",
    "print(f\"明るさ調整前の平均: {np.mean(image):.2f}\")\n",
    "print(f\"明るさ調整後の平均: {np.mean(darkened):.2f}\")"
   ]
  },
  {
   "cell_type": "markdown",
   "metadata": {},
   "source": [
    "## まとめ\n",
    "\n",
    "今日学んだこと：\n",
    "1. **配列の作成**: array, zeros, ones, arange, linspace, random\n",
    "2. **インデックスとスライス**: 基本的なインデックス、ブールインデックス\n",
    "3. **形状変更**: reshape, flatten, transpose\n",
    "4. **演算**: 要素ごとの演算、行列積、ブロードキャスティング\n",
    "5. **統計関数**: sum, mean, std, min, max とその軸指定\n",
    "\n",
    "NumPyは機械学習やデータ分析の基礎となるライブラリです。\n",
    "これらの操作を習得することで、より複雑なデータ処理が可能になります。"
   ]
  }
 ],
 "metadata": {
  "kernelspec": {
   "display_name": "Python 3 (ipykernel)",
   "language": "python",
   "name": "python3"
  },
  "language_info": {
   "codemirror_mode": {
    "name": "ipython",
    "version": 3
   },
   "file_extension": ".py",
   "mimetype": "text/x-python",
   "name": "python",
   "nbconvert_exporter": "python",
   "pygments_lexer": "ipython3",
   "version": "3.11.13"
  }
 },
 "nbformat": 4,
 "nbformat_minor": 4
}
