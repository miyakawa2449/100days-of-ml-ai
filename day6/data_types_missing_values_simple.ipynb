{
 "cells": [
  {
   "cell_type": "markdown",
   "metadata": {},
   "source": [
    "# Day 6: データ型と欠損値処理 - 基礎編\n",
    "\n",
    "## 今日の目標\n",
    "- Pythonとpandasのデータ型を理解する\n",
    "- 欠損値（NaN）の基本的な処理方法を学ぶ\n",
    "- データの品質を確認・改善する方法を身につける\n",
    "\n",
    "## なぜデータ型と欠損値処理が重要？\n",
    "- **データ型**: 計算の精度やメモリ使用量に影響\n",
    "- **欠損値**: 分析結果の正確性に大きく影響\n",
    "- **データ品質**: 機械学習の性能を左右する基礎要素"
   ]
  },
  {
   "cell_type": "markdown",
   "metadata": {},
   "source": [
    "## 1. 必要なライブラリの読み込み"
   ]
  },
  {
   "cell_type": "code",
   "execution_count": 1,
   "metadata": {},
   "outputs": [
    {
     "name": "stdout",
     "output_type": "stream",
     "text": [
      "ライブラリの読み込み完了！\n"
     ]
    }
   ],
   "source": [
    "import pandas as pd\n",
    "import numpy as np\n",
    "import matplotlib.pyplot as plt\n",
    "import japanize_matplotlib  # 日本語表示用\n",
    "import seaborn as sns\n",
    "\n",
    "# 表示設定\n",
    "pd.set_option('display.max_columns', None)\n",
    "pd.set_option('display.max_rows', 20)\n",
    "\n",
    "print(\"ライブラリの読み込み完了！\")"
   ]
  },
  {
   "cell_type": "markdown",
   "metadata": {},
   "source": [
    "## 2. データ型の基礎\n",
    "\n",
    "### 2.1 主要なデータ型"
   ]
  },
  {
   "cell_type": "code",
   "execution_count": 2,
   "metadata": {},
   "outputs": [
    {
     "name": "stdout",
     "output_type": "stream",
     "text": [
      "サンプルデータ:\n",
      "   整数   小数  文字列         日付    真偽値\n",
      "0   1  1.1  りんご 2024-01-01   True\n",
      "1   2  2.2  みかん 2024-01-02  False\n",
      "2   3  3.3  バナナ 2024-01-03   True\n",
      "3   4  4.4  ぶどう 2024-01-04  False\n",
      "4   5  5.5  いちご 2024-01-05   True\n",
      "\n",
      "データ型:\n",
      "整数              int64\n",
      "小数            float64\n",
      "文字列            object\n",
      "日付     datetime64[ns]\n",
      "真偽値              bool\n",
      "dtype: object\n"
     ]
    }
   ],
   "source": [
    "# サンプルデータの作成\n",
    "sample_data = pd.DataFrame({\n",
    "    '整数': [1, 2, 3, 4, 5],\n",
    "    '小数': [1.1, 2.2, 3.3, 4.4, 5.5],\n",
    "    '文字列': ['りんご', 'みかん', 'バナナ', 'ぶどう', 'いちご'],\n",
    "    '日付': pd.date_range('2024-01-01', periods=5),\n",
    "    '真偽値': [True, False, True, False, True]\n",
    "})\n",
    "\n",
    "print(\"サンプルデータ:\")\n",
    "print(sample_data)\n",
    "print(\"\\nデータ型:\")\n",
    "print(sample_data.dtypes)"
   ]
  },
  {
   "cell_type": "markdown",
   "metadata": {},
   "source": [
    "### 2.2 データ型の確認と変換"
   ]
  },
  {
   "cell_type": "code",
   "execution_count": 3,
   "metadata": {},
   "outputs": [
    {
     "name": "stdout",
     "output_type": "stream",
     "text": [
      "データの詳細情報:\n",
      "<class 'pandas.core.frame.DataFrame'>\n",
      "RangeIndex: 5 entries, 0 to 4\n",
      "Data columns (total 5 columns):\n",
      " #   Column  Non-Null Count  Dtype         \n",
      "---  ------  --------------  -----         \n",
      " 0   整数      5 non-null      int64         \n",
      " 1   小数      5 non-null      float64       \n",
      " 2   文字列     5 non-null      object        \n",
      " 3   日付      5 non-null      datetime64[ns]\n",
      " 4   真偽値     5 non-null      bool          \n",
      "dtypes: bool(1), datetime64[ns](1), float64(1), int64(1), object(1)\n",
      "memory usage: 297.0+ bytes\n",
      "None\n",
      "\n",
      "メモリ使用量:\n",
      "Index    132\n",
      "整数        40\n",
      "小数        40\n",
      "文字列      440\n",
      "日付        40\n",
      "真偽値        5\n",
      "dtype: int64\n"
     ]
    }
   ],
   "source": [
    "# より詳細な情報を表示\n",
    "print(\"データの詳細情報:\")\n",
    "print(sample_data.info())\n",
    "print(\"\\nメモリ使用量:\")\n",
    "print(sample_data.memory_usage(deep=True))"
   ]
  },
  {
   "cell_type": "code",
   "execution_count": 4,
   "metadata": {},
   "outputs": [
    {
     "name": "stdout",
     "output_type": "stream",
     "text": [
      "変換前:\n",
      "数値（文字列）    object\n",
      "小数（文字列）    object\n",
      "カテゴリ       object\n",
      "dtype: object\n",
      "\n",
      "データ:\n",
      "  数値（文字列） 小数（文字列） カテゴリ\n",
      "0     100     1.5    小\n",
      "1     200     2.5    中\n",
      "2     300     3.5    大\n",
      "3     400     4.5    小\n",
      "4     500     5.5    中\n",
      "\n",
      "変換後:\n",
      "数値（文字列）       int64\n",
      "小数（文字列）     float64\n",
      "カテゴリ       category\n",
      "dtype: object\n",
      "\n",
      "カテゴリデータの詳細:\n",
      "Index(['中', '大', '小'], dtype='object')\n"
     ]
    }
   ],
   "source": [
    "# データ型の変換例\n",
    "conversion_df = pd.DataFrame({\n",
    "    '数値（文字列）': ['100', '200', '300', '400', '500'],\n",
    "    '小数（文字列）': ['1.5', '2.5', '3.5', '4.5', '5.5'],\n",
    "    'カテゴリ': ['小', '中', '大', '小', '中']\n",
    "})\n",
    "\n",
    "print(\"変換前:\")\n",
    "print(conversion_df.dtypes)\n",
    "print(\"\\nデータ:\")\n",
    "print(conversion_df)\n",
    "\n",
    "# データ型を変換\n",
    "conversion_df['数値（文字列）'] = conversion_df['数値（文字列）'].astype('int64')\n",
    "conversion_df['小数（文字列）'] = conversion_df['小数（文字列）'].astype('float64')\n",
    "\n",
    "# カテゴリ型への変換とメモリ効率化を行っている\n",
    "# astype('category'): 実際の変換＆メモリ効率化を実行\n",
    "conversion_df['カテゴリ'] = conversion_df['カテゴリ'].astype('category')\n",
    "\n",
    "print(\"\\n変換後:\")\n",
    "print(conversion_df.dtypes)\n",
    "\n",
    "print(\"\\nカテゴリデータの詳細:\")\n",
    "# cat.categories: 変換後の状態を確認するための表示機能\n",
    "print(conversion_df['カテゴリ'].cat.categories)"
   ]
  },
  {
   "cell_type": "markdown",
   "metadata": {},
   "source": [
    "## 3. 欠損値の基礎\n",
    "\n",
    "### 3.1 欠損値のあるデータを作成"
   ]
  },
  {
   "cell_type": "code",
   "execution_count": 5,
   "metadata": {},
   "outputs": [
    {
     "name": "stdout",
     "output_type": "stream",
     "text": [
      "学生の成績データ（欠損値あり）:\n",
      "    学生ID    名前    数学    英語    理科   出席率\n",
      "0      1   学生1  85.0  78.0   NaN  95.5\n",
      "1      2   学生2  92.0   NaN  88.0  98.2\n",
      "2      3   学生3   NaN  85.0  92.0  87.3\n",
      "3      4   学生4  78.0  92.0   NaN   NaN\n",
      "4      5   学生5  88.0   NaN  85.0  92.1\n",
      "5      6   学生6  95.0  88.0  90.0  99.0\n",
      "6      7   学生7   NaN  79.0  87.0  85.7\n",
      "7      8   学生8  82.0   NaN  83.0  91.4\n",
      "8      9   学生9  90.0  86.0   NaN   NaN\n",
      "9     10  学生10  87.0  90.0  91.0  96.8\n",
      "10    11  学生11   NaN  83.0  89.0  88.9\n",
      "11    12  学生12  79.0   NaN  86.0  93.2\n",
      "12    13  学生13  93.0  87.0   NaN   NaN\n",
      "13    14  学生14  86.0   NaN  94.0  97.1\n",
      "14    15  学生15   NaN  91.0  82.0  89.6\n",
      "15    16  学生16  91.0  84.0   NaN  94.3\n",
      "16    17  学生17  84.0   NaN  88.0   NaN\n",
      "17    18  学生18  89.0  89.0  85.0  90.7\n",
      "18    19  学生19  77.0  93.0  90.0  95.8\n",
      "19    20  学生20  94.0  80.0   NaN  92.5\n"
     ]
    }
   ],
   "source": [
    "# 欠損値を含むサンプルデータ\n",
    "np.random.seed(42)\n",
    "\n",
    "# 学生の成績データを模擬\n",
    "students_data = {\n",
    "    '学生ID': range(1, 21),\n",
    "    '名前': [f'学生{i}' for i in range(1, 21)],\n",
    "    '数学': [85, 92, None, 78, 88, 95, None, 82, 90, 87, \n",
    "             None, 79, 93, 86, None, 91, 84, 89, 77, 94],\n",
    "    '英語': [78, None, 85, 92, None, 88, 79, None, 86, 90,\n",
    "             83, None, 87, None, 91, 84, None, 89, 93, 80],\n",
    "    '理科': [None, 88, 92, None, 85, 90, 87, 83, None, 91,\n",
    "             89, 86, None, 94, 82, None, 88, 85, 90, None],\n",
    "    '出席率': [95.5, 98.2, 87.3, None, 92.1, 99.0, 85.7, 91.4, None, 96.8,\n",
    "              88.9, 93.2, None, 97.1, 89.6, 94.3, None, 90.7, 95.8, 92.5]\n",
    "}\n",
    "\n",
    "df = pd.DataFrame(students_data)\n",
    "print(\"学生の成績データ（欠損値あり）:\")\n",
    "print(df)"
   ]
  },
  {
   "cell_type": "markdown",
   "metadata": {},
   "source": [
    "### 3.2 欠損値の確認"
   ]
  },
  {
   "cell_type": "code",
   "execution_count": 6,
   "metadata": {},
   "outputs": [
    {
     "name": "stdout",
     "output_type": "stream",
     "text": [
      "欠損値の有無（True=欠損値）:\n",
      "    学生ID     名前     数学     英語     理科    出席率\n",
      "0  False  False  False  False   True  False\n",
      "1  False  False  False   True  False  False\n",
      "2  False  False   True  False  False  False\n",
      "3  False  False  False  False   True   True\n",
      "4  False  False  False   True  False  False\n",
      "5  False  False  False  False  False  False\n",
      "6  False  False   True  False  False  False\n",
      "7  False  False  False   True  False  False\n",
      "8  False  False  False  False   True   True\n",
      "9  False  False  False  False  False  False\n",
      "\n",
      "各列の欠損値数:\n",
      "学生ID    0\n",
      "名前      0\n",
      "数学      4\n",
      "英語      6\n",
      "理科      6\n",
      "出席率     4\n",
      "dtype: int64\n",
      "\n",
      "欠損値の割合（%）:\n",
      "学生ID     0.0\n",
      "名前       0.0\n",
      "数学      20.0\n",
      "英語      30.0\n",
      "理科      30.0\n",
      "出席率     20.0\n",
      "dtype: float64\n",
      "\n",
      "データの基本情報:\n",
      "<class 'pandas.core.frame.DataFrame'>\n",
      "RangeIndex: 20 entries, 0 to 19\n",
      "Data columns (total 6 columns):\n",
      " #   Column  Non-Null Count  Dtype  \n",
      "---  ------  --------------  -----  \n",
      " 0   学生ID    20 non-null     int64  \n",
      " 1   名前      20 non-null     object \n",
      " 2   数学      16 non-null     float64\n",
      " 3   英語      14 non-null     float64\n",
      " 4   理科      14 non-null     float64\n",
      " 5   出席率     16 non-null     float64\n",
      "dtypes: float64(4), int64(1), object(1)\n",
      "memory usage: 1.1+ KB\n",
      "None\n"
     ]
    }
   ],
   "source": [
    "# 欠損値の確認方法\n",
    "print(\"欠損値の有無（True=欠損値）:\")\n",
    "print(df.isnull().head(10))\n",
    "\n",
    "# （ Trueは 1、Falseは 0 として計算）\n",
    "print(\"\\n各列の欠損値数:\")\n",
    "print(df.isnull().sum())\n",
    "\n",
    "print(\"\\n欠損値の割合（%）:\")\n",
    "print((df.isnull().sum() / len(df) * 100).round(2))\n",
    "\n",
    "print(\"\\nデータの基本情報:\")\n",
    "print(df.info())"
   ]
  },
  {
   "cell_type": "markdown",
   "metadata": {},
   "source": [
    "### 3.3 欠損値の可視化"
   ]
  },
  {
   "cell_type": "code",
   "execution_count": 7,
   "metadata": {},
   "outputs": [
    {
     "data": {
      "image/png": "[encoded data removed]",
      "text/plain": [
       "<Figure size 1200x600 with 3 Axes>"
      ]
     },
     "metadata": {},
     "output_type": "display_data"
    }
   ],
   "source": [
    "# 欠損値パターンの可視化\n",
    "plt.figure(figsize=(12, 6))\n",
    "\n",
    "# 1. 欠損値の位置を可視化\n",
    "plt.subplot(1, 2, 1)\n",
    "sns.heatmap(df.isnull(), cbar=True, yticklabels=False, cmap='viridis')\n",
    "plt.title('欠損値の位置')\n",
    "plt.xlabel('列名')\n",
    "plt.ylabel('行番号')\n",
    "\n",
    "# 2. 欠損値の数を棒グラフで表示\n",
    "plt.subplot(1, 2, 2)\n",
    "missing_counts = df.isnull().sum()\n",
    "missing_counts.plot(kind='bar', color='lightcoral')\n",
    "plt.title('各列の欠損値数')\n",
    "plt.xlabel('列名')\n",
    "plt.ylabel('欠損値数')\n",
    "plt.xticks(rotation=45)\n",
    "\n",
    "plt.tight_layout()\n",
    "plt.show()"
   ]
  },
  {
   "cell_type": "markdown",
   "metadata": {},
   "source": [
    "## 4. 基本的な欠損値処理\n",
    "\n",
    "### 4.1 欠損値の削除"
   ]
  },
  {
   "cell_type": "code",
   "execution_count": 8,
   "metadata": {},
   "outputs": [
    {
     "name": "stdout",
     "output_type": "stream",
     "text": [
      "元のデータサイズ: (20, 6)\n",
      "欠損値のある行を削除後: (4, 6)\n",
      "削除後のデータ:\n",
      "    学生ID    名前    数学    英語    理科   出席率\n",
      "5      6   学生6  95.0  88.0  90.0  99.0\n",
      "9     10  学生10  87.0  90.0  91.0  96.8\n",
      "17    18  学生18  89.0  89.0  85.0  90.7\n",
      "18    19  学生19  77.0  93.0  90.0  95.8\n",
      "\n",
      "数学の欠損値のある行のみ削除後: (16, 6)\n",
      "数学の欠損データのみ削除後のデータ:\n",
      "    学生ID    名前    数学    英語    理科   出席率\n",
      "0      1   学生1  85.0  78.0   NaN  95.5\n",
      "1      2   学生2  92.0   NaN  88.0  98.2\n",
      "3      4   学生4  78.0  92.0   NaN   NaN\n",
      "4      5   学生5  88.0   NaN  85.0  92.1\n",
      "5      6   学生6  95.0  88.0  90.0  99.0\n",
      "7      8   学生8  82.0   NaN  83.0  91.4\n",
      "8      9   学生9  90.0  86.0   NaN   NaN\n",
      "9     10  学生10  87.0  90.0  91.0  96.8\n",
      "11    12  学生12  79.0   NaN  86.0  93.2\n",
      "12    13  学生13  93.0  87.0   NaN   NaN\n",
      "13    14  学生14  86.0   NaN  94.0  97.1\n",
      "15    16  学生16  91.0  84.0   NaN  94.3\n",
      "16    17  学生17  84.0   NaN  88.0   NaN\n",
      "17    18  学生18  89.0  89.0  85.0  90.7\n",
      "18    19  学生19  77.0  93.0  90.0  95.8\n",
      "19    20  学生20  94.0  80.0   NaN  92.5\n"
     ]
    }
   ],
   "source": [
    "# 元のデータのサイズ\n",
    "print(f\"元のデータサイズ: {df.shape}\")\n",
    "\n",
    "# 方法1: 欠損値がある行を全て削除\n",
    "# dropna()はデータクリーニングの基本的なメソッドですが、使いすぎると重要なデータまで失ってしまうので注意が必要です！\n",
    "df_dropna_rows = df.dropna()\n",
    "print(f\"欠損値のある行を削除後: {df_dropna_rows.shape}\")\n",
    "print(\"削除後のデータ:\")\n",
    "print(df_dropna_rows)\n",
    "\n",
    "# 方法2: 特定の列の欠損値がある行のみ削除\n",
    "df_dropna_math = df.dropna(subset=['数学'])\n",
    "print(f\"\\n数学の欠損値のある行のみ削除後: {df_dropna_math.shape}\")\n",
    "print(\"数学の欠損データのみ削除後のデータ:\")\n",
    "print(df_dropna_math)"
   ]
  },
  {
   "cell_type": "markdown",
   "metadata": {},
   "source": [
    "### 4.2 欠損値の補完（基本的な方法）"
   ]
  },
  {
   "cell_type": "code",
   "execution_count": 14,
   "metadata": {},
   "outputs": [
    {
     "name": "stdout",
     "output_type": "stream",
     "text": [
      "補完前の欠損値数:\n",
      "学生ID    0\n",
      "名前      0\n",
      "数学      4\n",
      "英語      6\n",
      "理科      6\n",
      "出席率     4\n",
      "dtype: int64\n",
      "\n",
      "数学の平均値: 86.88\n",
      "英語の中央値: 86.50\n",
      "\n",
      "補完後の欠損値数:\n",
      "学生ID    0\n",
      "名前      0\n",
      "数学      0\n",
      "英語      0\n",
      "理科      1\n",
      "出席率     0\n",
      "dtype: int64\n",
      "\n",
      "補完後のデータ（最初の10行）:\n",
      "   学生ID    名前      数学    英語    理科   出席率\n",
      "0     1   学生1  85.000  78.0   NaN  95.5\n",
      "1     2   学生2  92.000  86.5  88.0  98.2\n",
      "2     3   学生3  86.875  85.0  92.0  87.3\n",
      "3     4   学生4  78.000  92.0  92.0  90.0\n",
      "4     5   学生5  88.000  86.5  85.0  92.1\n",
      "5     6   学生6  95.000  88.0  90.0  99.0\n",
      "6     7   学生7  86.875  79.0  87.0  85.7\n",
      "7     8   学生8  82.000  86.5  83.0  91.4\n",
      "8     9   学生9  90.000  86.0  83.0  90.0\n",
      "9    10  学生10  87.000  90.0  91.0  96.8\n"
     ]
    }
   ],
   "source": [
    "# データのコピーを作成（元データを保持）\n",
    "df_filled = df.copy()\n",
    "\n",
    "print(\"補完前の欠損値数:\")\n",
    "print(df_filled.isnull().sum())\n",
    "\n",
    "# 方法1: 平均値で補完\n",
    "df_filled['数学'] = df_filled['数学'].fillna(df_filled['数学'].mean())\n",
    "print(f\"\\n数学の平均値: {df['数学'].mean():.2f}\")\n",
    "\n",
    "# 方法2: 中央値で補完\n",
    "df_filled['英語'] = df_filled['英語'].fillna(df_filled['英語'].median())\n",
    "print(f\"英語の中央値: {df['英語'].median():.2f}\")\n",
    "\n",
    "# 方法3: 最頻値で補完（文字列データに有効）\n",
    "# 理科は前方補完（forward fill）\n",
    "# 新しい推奨方法: ffill()を使用\n",
    "df_filled['理科'] = df_filled['理科'].ffill()  # fillna(method='ffill')の代わり\n",
    "\n",
    "# 方法4: 固定値で補完\n",
    "df_filled['出席率'] = df_filled['出席率'].fillna(90.0)  # 90%で補完\n",
    "\n",
    "print(\"\\n補完後の欠損値数:\")\n",
    "print(df_filled.isnull().sum())\n",
    "\n",
    "print(\"\\n補完後のデータ（最初の10行）:\")\n",
    "print(df_filled.head(10))"
   ]
  },
  {
   "cell_type": "markdown",
   "metadata": {},
   "source": [
    "## fillna()の基本\n",
    "fillna()は欠損値を指定した値で埋めるメソッド\n",
    "\n",
    "df['列名'].fillna(埋める値)\n",
    "\n",
    "### なぜ平均値と中央値を使い分ける？\n",
    "- 平均値: 外れ値の影響を受けやすい\n",
    "- 中央値: 外れ値に強い、より安定した値\n",
    "\n",
    "## ffill()の動作\n",
    "ffill() = forward fill = 直前の有効な値で欠損値を埋める\n",
    "\n",
    "### 特徴\n",
    "- 時系列データでよく使われる手法\n",
    "- **「最後に確認できた値がそのまま続く」**という仮定\n",
    "- 例：体温測定で欠損があった場合、前回の体温がそのまま続いていると仮定\n",
    "\n",
    "### 対になるメソッド\n",
    "df['列名'].ffill()  # 前方埋め（forward fill）\n",
    "df['列名'].bfill()  # 後方埋め（backward fill）← 後ろの値で埋める\n",
    "\n",
    "ffill()は統計的な計算（平均・中央値）ではなく、データの順序性を活用した埋め方"
   ]
  },
  {
   "cell_type": "markdown",
   "metadata": {},
   "source": [
    "### 4.3 補完方法の比較"
   ]
  },
  {
   "cell_type": "code",
   "execution_count": 15,
   "metadata": {},
   "outputs": [
    {
     "name": "stdout",
     "output_type": "stream",
     "text": [
      "数学の統計情報（補完方法による比較）:\n",
      "元データの平均: 86.88\n",
      "元データの中央値: 87.50\n",
      "元データの標準偏差: 5.70\n",
      "\n",
      "補完方法別の統計:\n",
      "平均値補完: 平均=86.88, 標準偏差=5.07\n",
      "中央値補完: 平均=87.00, 標準偏差=5.07\n",
      "最小値補完: 平均=84.90, 標準偏差=6.49\n",
      "最大値補完: 平均=88.50, 標準偏差=6.07\n"
     ]
    }
   ],
   "source": [
    "# 数学の点数について、補完方法による違いを比較\n",
    "math_scores = df['数学'].dropna()  # 欠損値を除いた実際のデータ\n",
    "\n",
    "print(\"数学の統計情報（補完方法による比較）:\")\n",
    "print(f\"元データの平均: {math_scores.mean():.2f}\")\n",
    "print(f\"元データの中央値: {math_scores.median():.2f}\")\n",
    "print(f\"元データの標準偏差: {math_scores.std():.2f}\")\n",
    "\n",
    "# 異なる補完方法を試す\n",
    "methods = {\n",
    "    '平均値補完': df['数学'].fillna(df['数学'].mean()),\n",
    "    '中央値補完': df['数学'].fillna(df['数学'].median()),\n",
    "    '最小値補完': df['数学'].fillna(df['数学'].min()),\n",
    "    '最大値補完': df['数学'].fillna(df['数学'].max())\n",
    "}\n",
    "\n",
    "print(\"\\n補完方法別の統計:\")\n",
    "for method_name, filled_data in methods.items():\n",
    "    print(f\"{method_name}: 平均={filled_data.mean():.2f}, 標準偏差={filled_data.std():.2f}\")"
   ]
  },
  {
   "cell_type": "markdown",
   "metadata": {},
   "source": [
    "# 補完前後の分布を比較\n",
    "plt.figure(figsize=(15, 4))\n",
    "\n",
    "# 数学の分布比較\n",
    "plt.subplot(1, 3, 1)\n",
    "# 元データを先にプロット（青）\n",
    "plt.hist(df['数学'].dropna(), bins=10, alpha=0.7, label='元データ', color='blue')\n",
    "# 補完後を後にプロット（赤）\n",
    "plt.hist(df_filled['数学'], bins=10, alpha=0.7, label='平均値補完後', color='red')\n",
    "plt.title('数学の点数分布')\n",
    "plt.xlabel('点数')\n",
    "plt.ylabel('人数')\n",
    "plt.legend()\n",
    "\n",
    "# 英語の分布比較\n",
    "plt.subplot(1, 3, 2)\n",
    "# 元データを先にプロット（青）\n",
    "plt.hist(df['英語'].dropna(), bins=10, alpha=0.7, label='元データ', color='blue')\n",
    "# 補完後を後にプロット（緑）\n",
    "plt.hist(df_filled['英語'], bins=10, alpha=0.7, label='中央値補完後', color='green')\n",
    "plt.title('英語の点数分布')\n",
    "plt.xlabel('点数')\n",
    "plt.ylabel('人数')\n",
    "plt.legend()\n",
    "\n",
    "# 出席率の分布比較\n",
    "plt.subplot(1, 3, 3)\n",
    "# 元データを先にプロット（青）\n",
    "plt.hist(df['出席率'].dropna(), bins=10, alpha=0.7, label='元データ', color='blue')\n",
    "# 補完後を後にプロット（オレンジ）\n",
    "plt.hist(df_filled['出席率'], bins=10, alpha=0.7, label='固定値補完後', color='orange')\n",
    "plt.title('出席率の分布')\n",
    "plt.xlabel('出席率(%)')\n",
    "plt.ylabel('人数')\n",
    "plt.legend()\n",
    "\n",
    "plt.tight_layout()\n",
    "plt.show()"
   ]
  },
  {
   "cell_type": "code",
   "execution_count": 18,
   "metadata": {},
   "outputs": [
    {
     "data": {
      "image/png": "[encoded data removed]",
      "text/plain": [
       "<Figure size 1500x400 with 3 Axes>"
      ]
     },
     "metadata": {},
     "output_type": "display_data"
    }
   ],
   "source": [
    "# 補完前後の分布を比較\n",
    "plt.figure(figsize=(15, 4))\n",
    "\n",
    "# 数学の分布比較\n",
    "plt.subplot(1, 3, 1)\n",
    "plt.hist(df['数学'].dropna(), bins=10, alpha=0.7, label='元データ', color='blue')\n",
    "plt.hist(df_filled['数学'], bins=10, alpha=0.7, label='平均値補完後', color='red')\n",
    "plt.title('数学の点数分布')\n",
    "plt.xlabel('点数')\n",
    "plt.ylabel('人数')\n",
    "plt.legend()\n",
    "\n",
    "# 英語の分布比較\n",
    "plt.subplot(1, 3, 2)\n",
    "plt.hist(df['英語'].dropna(), bins=10, alpha=0.7, label='元データ', color='blue')\n",
    "plt.hist(df_filled['英語'], bins=10, alpha=0.7, label='中央値補完後', color='green')\n",
    "plt.title('英語の点数分布')\n",
    "plt.xlabel('点数')\n",
    "plt.ylabel('人数')\n",
    "plt.legend()\n",
    "\n",
    "# 出席率の分布比較\n",
    "plt.subplot(1, 3, 3)\n",
    "plt.hist(df['出席率'].dropna(), bins=10, alpha=0.7, label='元データ', color='blue')\n",
    "plt.hist(df_filled['出席率'], bins=10, alpha=0.7, label='固定値補完後', color='orange')\n",
    "plt.title('出席率の分布')\n",
    "plt.xlabel('出席率(%)')\n",
    "plt.ylabel('人数')\n",
    "plt.legend()\n",
    "\n",
    "plt.tight_layout()\n",
    "plt.show()"
   ]
  },
  {
   "cell_type": "markdown",
   "metadata": {},
   "source": [
    "## 5. 実践的な例: ECサイトの顧客データ"
   ]
  },
  {
   "cell_type": "code",
   "execution_count": 22,
   "metadata": {},
   "outputs": [
    {
     "name": "stdout",
     "output_type": "stream",
     "text": [
      "ECサイト顧客データ（最初の10行）:\n",
      "   顧客ID  年齢  性別          年収  購入回数         購入金額 会員ランク\n",
      "0     1  56  男性  618.450921     6  2250.101728  シルバー\n",
      "1     2  69  男性  564.723419     5  6703.692741  シルバー\n",
      "2     3  46  男性  335.487155     4  2472.756561  ゴールド\n",
      "3     4  32  男性  397.654765     3  4707.877316  ゴールド\n",
      "4     5  60  男性  633.126742     4  3781.742504  シルバー\n",
      "5     6  25  男性  590.822470     6  1395.047302  ゴールド\n",
      "6     7  38  男性  391.955301     3  3170.070780  ブロンズ\n",
      "7     8  56  女性  459.509935     2   929.492631  ブロンズ\n",
      "8     9  36  女性  478.480666     2  1674.309858  ブロンズ\n",
      "9    10  40  女性  592.550566     5  9513.686994  ブロンズ\n",
      "\n",
      "欠損値の状況:\n",
      "顧客ID      0\n",
      "年齢        0\n",
      "性別        8\n",
      "年収        2\n",
      "購入回数      0\n",
      "購入金額     15\n",
      "会員ランク     9\n",
      "dtype: int64\n",
      "\n",
      "欠損値の割合（%）:\n",
      "顧客ID      0.0\n",
      "年齢        0.0\n",
      "性別        8.0\n",
      "年収        2.0\n",
      "購入回数      0.0\n",
      "購入金額     15.0\n",
      "会員ランク     9.0\n",
      "dtype: float64\n"
     ]
    }
   ],
   "source": [
    "# より実践的なデータセットを作成\n",
    "np.random.seed(42)\n",
    "n_customers = 100\n",
    "\n",
    "# 顧客データの生成\n",
    "customer_data = {\n",
    "    '顧客ID': range(1, n_customers + 1),\n",
    "    '年齢': np.random.randint(18, 70, n_customers),\n",
    "    '性別': np.random.choice(['男性', '女性', None], n_customers, p=[0.45, 0.45, 0.1]),\n",
    "    '年収': np.random.normal(500, 150, n_customers),  # 万円\n",
    "    '購入回数': np.random.poisson(5, n_customers),\n",
    "    '購入金額': np.random.gamma(2, 2000, n_customers),  # 円\n",
    "    '会員ランク': np.random.choice(['ブロンズ', 'シルバー', 'ゴールド', None], \n",
    "                                  n_customers, p=[0.4, 0.3, 0.2, 0.1])\n",
    "}\n",
    "\n",
    "# 一部のデータをランダムに欠損させる\n",
    "customer_df = pd.DataFrame(customer_data)\n",
    "\n",
    "# 年収の一部を欠損させる（低所得者が回答しない傾向を模擬）\n",
    "low_income_mask = customer_df['年収'] < 300\n",
    "customer_df.loc[low_income_mask & (np.random.random(len(customer_df)) < 0.3), '年収'] = None\n",
    "\n",
    "# 購入金額の一部を欠損させる\n",
    "customer_df.loc[np.random.random(len(customer_df)) < 0.15, '購入金額'] = None\n",
    "\n",
    "print(\"ECサイト顧客データ（最初の10行）:\")\n",
    "print(customer_df.head(10))\n",
    "\n",
    "print(\"\\n欠損値の状況:\")\n",
    "print(customer_df.isnull().sum())\n",
    "print(\"\\n欠損値の割合（%）:\")\n",
    "print((customer_df.isnull().sum() / len(customer_df) * 100).round(2))"
   ]
  },
  {
   "cell_type": "markdown",
   "metadata": {},
   "source": [
    "### 5.1 データ型の最適化"
   ]
  },
  {
   "cell_type": "code",
   "execution_count": 23,
   "metadata": {},
   "outputs": [
    {
     "name": "stdout",
     "output_type": "stream",
     "text": [
      "最適化前のメモリ使用量:\n",
      "20642 bytes\n",
      "\n",
      "データ型:\n",
      "顧客ID       int64\n",
      "年齢         int64\n",
      "性別        object\n",
      "年収       float64\n",
      "購入回数       int64\n",
      "購入金額     float64\n",
      "会員ランク     object\n",
      "dtype: object\n",
      "\n",
      "最適化後のメモリ使用量:\n",
      "2890 bytes\n",
      "\n",
      "最適化後のデータ型:\n",
      "顧客ID        int64\n",
      "年齢           int8\n",
      "性別       category\n",
      "年収        float32\n",
      "購入回数        int16\n",
      "購入金額      float32\n",
      "会員ランク    category\n",
      "dtype: object\n",
      "\n",
      "メモリ使用量削減: 86.0%\n"
     ]
    }
   ],
   "source": [
    "# データ型の最適化前\n",
    "print(\"最適化前のメモリ使用量:\")\n",
    "print(customer_df.memory_usage(deep=True).sum(), \"bytes\")\n",
    "print(\"\\nデータ型:\")\n",
    "print(customer_df.dtypes)\n",
    "\n",
    "# データ型を最適化\n",
    "customer_df_optimized = customer_df.copy()\n",
    "\n",
    "# カテゴリカルデータをcategory型に変換\n",
    "customer_df_optimized['性別'] = customer_df_optimized['性別'].astype('category')\n",
    "customer_df_optimized['会員ランク'] = customer_df_optimized['会員ランク'].astype('category')\n",
    "\n",
    "# 整数の範囲を考慮して最適な型を選択\n",
    "customer_df_optimized['年齢'] = customer_df_optimized['年齢'].astype('int8')\n",
    "customer_df_optimized['購入回数'] = customer_df_optimized['購入回数'].astype('int16')\n",
    "\n",
    "# 浮動小数点数の精度を調整\n",
    "customer_df_optimized['年収'] = customer_df_optimized['年収'].astype('float32')\n",
    "customer_df_optimized['購入金額'] = customer_df_optimized['購入金額'].astype('float32')\n",
    "\n",
    "print(\"\\n最適化後のメモリ使用量:\")\n",
    "print(customer_df_optimized.memory_usage(deep=True).sum(), \"bytes\")\n",
    "print(\"\\n最適化後のデータ型:\")\n",
    "print(customer_df_optimized.dtypes)\n",
    "\n",
    "# メモリ削減率を計算\n",
    "before = customer_df.memory_usage(deep=True).sum()\n",
    "after = customer_df_optimized.memory_usage(deep=True).sum()\n",
    "reduction = (before - after) / before * 100\n",
    "print(f\"\\nメモリ使用量削減: {reduction:.1f}%\")"
   ]
  },
  {
   "cell_type": "markdown",
   "metadata": {},
   "source": [
    "### 5.2 業務ロジックに基づく欠損値処理"
   ]
  },
  {
   "cell_type": "code",
   "execution_count": 24,
   "metadata": {},
   "outputs": [
    {
     "name": "stdout",
     "output_type": "stream",
     "text": [
      "処理後の欠損値数:\n",
      "顧客ID     0\n",
      "年齢       0\n",
      "性別       0\n",
      "年収       0\n",
      "購入回数     0\n",
      "購入金額     0\n",
      "会員ランク    0\n",
      "dtype: int64\n",
      "\n",
      "処理後のデータ概要:\n",
      "             顧客ID          年齢          年収        購入回数         購入金額\n",
      "count  100.000000  100.000000  100.000000  100.000000   100.000000\n",
      "mean    50.500000   43.350000  499.535958    5.160000  3774.161332\n",
      "std     29.011492   14.904663  148.218731    2.431776  2109.385656\n",
      "min      1.000000   19.000000  152.289764    0.000000   139.186264\n",
      "25%     25.750000   31.750000  397.472000    4.000000  2369.280640\n",
      "50%     50.500000   42.000000  496.924805    5.000000  3303.475586\n",
      "75%     75.250000   57.000000  593.196915    7.000000  5248.515503\n",
      "max    100.000000   69.000000  959.164307   12.000000  9513.686523\n"
     ]
    }
   ],
   "source": [
    "# 業務ロジックを考慮した欠損値処理\n",
    "customer_processed = customer_df_optimized.copy()\n",
    "\n",
    "# 1. 性別の欠損値を「不明」で補完\n",
    "customer_processed['性別'] = customer_processed['性別'].cat.add_categories(['不明'])\n",
    "customer_processed['性別'] = customer_processed['性別'].fillna('不明')\n",
    "\n",
    "# 2. 年収の欠損値を年齢グループの中央値で補完\n",
    "def fill_income_by_age_group(row):\n",
    "    if pd.isna(row['年収']):\n",
    "        age = row['年齢']\n",
    "        if age < 30:\n",
    "            age_group = customer_processed[customer_processed['年齢'] < 30]\n",
    "        elif age < 50:\n",
    "            age_group = customer_processed[(customer_processed['年齢'] >= 30) & \n",
    "                                         (customer_processed['年齢'] < 50)]\n",
    "        else:\n",
    "            age_group = customer_processed[customer_processed['年齢'] >= 50]\n",
    "        \n",
    "        return age_group['年収'].median()\n",
    "    return row['年収']\n",
    "\n",
    "customer_processed['年収'] = customer_processed.apply(fill_income_by_age_group, axis=1)\n",
    "\n",
    "# 3. 購入金額の欠損値を購入回数との関係を考慮して補完\n",
    "# 購入回数が多い人ほど購入金額も多い傾向があると仮定\n",
    "purchase_relation = customer_processed.dropna(subset=['購入金額']).groupby('購入回数')['購入金額'].median()\n",
    "\n",
    "def fill_purchase_amount(row):\n",
    "    if pd.isna(row['購入金額']):\n",
    "        purchase_count = row['購入回数']\n",
    "        if purchase_count in purchase_relation.index:\n",
    "            return purchase_relation[purchase_count]\n",
    "        else:\n",
    "            return customer_processed['購入金額'].median()\n",
    "    return row['購入金額']\n",
    "\n",
    "customer_processed['購入金額'] = customer_processed.apply(fill_purchase_amount, axis=1)\n",
    "\n",
    "# 4. 会員ランクの欠損値を「ブロンズ」（最低ランク）で補完\n",
    "customer_processed['会員ランク'] = customer_processed['会員ランク'].cat.add_categories(['未設定'])\n",
    "customer_processed['会員ランク'] = customer_processed['会員ランク'].fillna('ブロンズ')\n",
    "\n",
    "print(\"処理後の欠損値数:\")\n",
    "print(customer_processed.isnull().sum())\n",
    "\n",
    "print(\"\\n処理後のデータ概要:\")\n",
    "print(customer_processed.describe())"
   ]
  },
  {
   "cell_type": "markdown",
   "metadata": {},
   "source": [
    "## 6. 練習問題\n",
    "\n",
    "### 練習1: 基本的な欠損値処理"
   ]
  },
  {
   "cell_type": "code",
   "execution_count": 28,
   "metadata": {},
   "outputs": [
    {
     "name": "stdout",
     "output_type": "stream",
     "text": [
      "練習用データ:\n",
      "   商品ID      価格  カテゴリ    在庫数\n",
      "0     1  1000.0    食品   50.0\n",
      "1     2  1500.0  None   30.0\n",
      "2     3     NaN    衣類   20.0\n",
      "3     4  2000.0    食品    NaN\n",
      "4     5     NaN    家電  100.0\n",
      "5     6  1800.0  None   80.0\n",
      "6     7  1200.0    食品    NaN\n",
      "7     8     NaN    衣類   40.0\n",
      "8     9  1600.0  None   60.0\n",
      "9    10  1400.0    家電    NaN\n",
      "\n",
      "欠損値の状況:\n",
      "商品ID    0\n",
      "価格      3\n",
      "カテゴリ    3\n",
      "在庫数     3\n",
      "dtype: int64\n",
      "練習1 解答:\n",
      "   商品ID      価格 カテゴリ    在庫数\n",
      "0     1  1000.0   食品   50.0\n",
      "1     2  1500.0   食品   30.0\n",
      "2     3  1500.0   衣類   20.0\n",
      "3     4  2000.0   食品   50.0\n",
      "4     5  1500.0   家電  100.0\n",
      "5     6  1800.0   食品   80.0\n",
      "6     7  1200.0   食品   50.0\n",
      "7     8  1500.0   衣類   40.0\n",
      "8     9  1600.0   食品   60.0\n",
      "9    10  1400.0   家電   50.0\n",
      "\n",
      "欠損値数:\n",
      "商品ID    0\n",
      "価格      0\n",
      "カテゴリ    0\n",
      "在庫数     0\n",
      "dtype: int64\n"
     ]
    }
   ],
   "source": [
    "# 練習用データ\n",
    "practice_data = pd.DataFrame({\n",
    "    '商品ID': [1, 2, 3, 4, 5, 6, 7, 8, 9, 10],\n",
    "    '価格': [1000, 1500, None, 2000, None, 1800, 1200, None, 1600, 1400],\n",
    "    'カテゴリ': ['食品', None, '衣類', '食品', '家電', None, '食品', '衣類', None, '家電'],\n",
    "    '在庫数': [50, 30, 20, None, 100, 80, None, 40, 60, None]\n",
    "})\n",
    "\n",
    "print(\"練習用データ:\")\n",
    "print(practice_data)\n",
    "print(\"\\n欠損値の状況:\")\n",
    "print(practice_data.isnull().sum())\n",
    "\n",
    "# TODO: 以下の処理を実行してください\n",
    "# 1. 価格の欠損値を平均値で補完\n",
    "# 2. カテゴリの欠損値を最頻値で補完\n",
    "# 3. 在庫数の欠損値を中央値で補完\n",
    "# 4. 処理後のデータを表示\n",
    "\n",
    "# ここにコードを書いてください\n",
    "# 練習1の解答例\n",
    "practice_solved = practice_data.copy()\n",
    "\n",
    "# 1. 価格の欠損値を平均値で補完\n",
    "practice_solved['価格'] = practice_solved['価格'].fillna(practice_solved['価格'].mean())\n",
    "\n",
    "# 2. カテゴリの欠損値を最頻値で補完\n",
    "most_frequent_category = practice_solved['カテゴリ'].mode()[0]\n",
    "practice_solved['カテゴリ'] = practice_solved['カテゴリ'].fillna(most_frequent_category)\n",
    "\n",
    "# 3. 在庫数の欠損値を中央値で補完\n",
    "practice_solved['在庫数'] = practice_solved['在庫数'].fillna(practice_solved['在庫数'].median())\n",
    "\n",
    "print(\"練習1 解答:\")\n",
    "print(practice_solved)\n",
    "print(\"\\n欠損値数:\")\n",
    "print(practice_solved.isnull().sum())"
   ]
  },
  {
   "cell_type": "markdown",
   "metadata": {},
   "source": [
    "### 練習2: データ型の最適化"
   ]
  },
  {
   "cell_type": "code",
   "execution_count": 29,
   "metadata": {},
   "outputs": [
    {
     "name": "stdout",
     "output_type": "stream",
     "text": [
      "最適化前のデータ型:\n",
      "商品ID      int64\n",
      "価格      float64\n",
      "カテゴリ     object\n",
      "在庫数     float64\n",
      "dtype: object\n",
      "最適化前のメモリ使用量: 1232 bytes\n",
      "\n",
      "最適化後のデータ型:\n",
      "商品ID        int8\n",
      "価格         int16\n",
      "カテゴリ    category\n",
      "在庫数        int16\n",
      "dtype: object\n",
      "最適化後のメモリ使用量: 579 bytes\n",
      "\n",
      "最適化後のデータ:\n",
      "   商品ID    価格 カテゴリ  在庫数\n",
      "0     1  1000   食品   50\n",
      "1     2  1500   食品   30\n",
      "2     3  1500   衣類   20\n",
      "3     4  2000   食品   50\n",
      "4     5  1500   家電  100\n",
      "5     6  1800   食品   80\n",
      "6     7  1200   食品   50\n",
      "7     8  1500   衣類   40\n",
      "8     9  1600   食品   60\n",
      "9    10  1400   家電   50\n"
     ]
    }
   ],
   "source": [
    "# TODO: 上記の練習用データについて、適切なデータ型に変換してください\n",
    "# ヒント:\n",
    "# - カテゴリはcategory型\n",
    "# - 商品IDは適切な整数型\n",
    "# - 価格と在庫数は適切な数値型\n",
    "\n",
    "# ここにコードを書いてください\n",
    "\n",
    "practice_optimized = practice_solved.copy()\n",
    "\n",
    "print(\"最適化前のデータ型:\")\n",
    "print(practice_optimized.dtypes)\n",
    "print(\"最適化前のメモリ使用量:\", practice_optimized.memory_usage(deep=True).sum(), \"bytes\")\n",
    "\n",
    "# データ型の最適化\n",
    "practice_optimized['商品ID'] = practice_optimized['商品ID'].astype('int8')\n",
    "practice_optimized['価格'] = practice_optimized['価格'].astype('int16')\n",
    "practice_optimized['カテゴリ'] = practice_optimized['カテゴリ'].astype('category')\n",
    "practice_optimized['在庫数'] = practice_optimized['在庫数'].astype('int16')\n",
    "\n",
    "print(\"\\n最適化後のデータ型:\")\n",
    "print(practice_optimized.dtypes)\n",
    "print(\"最適化後のメモリ使用量:\", practice_optimized.memory_usage(deep=True).sum(), \"bytes\")\n",
    "\n",
    "print(\"\\n最適化後のデータ:\")\n",
    "print(practice_optimized)"
   ]
  },
  {
   "cell_type": "markdown",
   "metadata": {},
   "source": [
    "## 7. まとめ\n",
    "\n",
    "### 今日学んだポイント\n",
    "1. **データ型の重要性**\n",
    "   - メモリ使用量の最適化\n",
    "   - 計算の精度向上\n",
    "   - カテゴリカルデータの効率的な処理\n",
    "\n",
    "2. **欠損値処理の基本戦略**\n",
    "   - 削除: データ量が十分で欠損が少ない場合\n",
    "   - 補完: データを保持したい場合\n",
    "   - 業務ロジックの考慮: 実用的な処理\n",
    "\n",
    "3. **補完方法の選択基準**\n",
    "   - 平均値: 正規分布に近いデータ\n",
    "   - 中央値: 外れ値の影響を受けやすいデータ\n",
    "   - 最頻値: カテゴリカルデータ\n",
    "   - 業務ルール: 実際のビジネス要件に基づく処理\n",
    "\n",
    "### 次のステップ\n",
    "- より高度な補完手法（KNN補完、回帰補完）\n",
    "- 欠損値パターンの分析\n",
    "- 時系列データの欠損値処理"
   ]
  },
  {
   "cell_type": "markdown",
   "metadata": {},
   "source": [
    "## 解答例"
   ]
  },
  {
   "cell_type": "code",
   "execution_count": null,
   "metadata": {},
   "outputs": [],
   "source": [
    "# 練習1の解答例\n",
    "practice_solved = practice_data.copy()\n",
    "\n",
    "# 1. 価格の欠損値を平均値で補完\n",
    "practice_solved['価格'] = practice_solved['価格'].fillna(practice_solved['価格'].mean())\n",
    "\n",
    "# 2. カテゴリの欠損値を最頻値で補完\n",
    "most_frequent_category = practice_solved['カテゴリ'].mode()[0]\n",
    "practice_solved['カテゴリ'] = practice_solved['カテゴリ'].fillna(most_frequent_category)\n",
    "\n",
    "# 3. 在庫数の欠損値を中央値で補完\n",
    "practice_solved['在庫数'] = practice_solved['在庫数'].fillna(practice_solved['在庫数'].median())\n",
    "\n",
    "print(\"練習1 解答:\")\n",
    "print(practice_solved)\n",
    "print(\"\\n欠損値数:\")\n",
    "print(practice_solved.isnull().sum())"
   ]
  },
  {
   "cell_type": "code",
   "execution_count": null,
   "metadata": {},
   "outputs": [],
   "source": [
    "# 練習2の解答例\n",
    "practice_optimized = practice_solved.copy()\n",
    "\n",
    "print(\"最適化前のデータ型:\")\n",
    "print(practice_optimized.dtypes)\n",
    "print(\"最適化前のメモリ使用量:\", practice_optimized.memory_usage(deep=True).sum(), \"bytes\")\n",
    "\n",
    "# データ型の最適化\n",
    "practice_optimized['商品ID'] = practice_optimized['商品ID'].astype('int8')\n",
    "practice_optimized['価格'] = practice_optimized['価格'].astype('int16')\n",
    "practice_optimized['カテゴリ'] = practice_optimized['カテゴリ'].astype('category')\n",
    "practice_optimized['在庫数'] = practice_optimized['在庫数'].astype('int16')\n",
    "\n",
    "print(\"\\n最適化後のデータ型:\")\n",
    "print(practice_optimized.dtypes)\n",
    "print(\"最適化後のメモリ使用量:\", practice_optimized.memory_usage(deep=True).sum(), \"bytes\")\n",
    "\n",
    "print(\"\\n最適化後のデータ:\")\n",
    "print(practice_optimized)"
   ]
  }
 ],
 "metadata": {
  "kernelspec": {
   "display_name": "Python 3 (ipykernel)",
   "language": "python",
   "name": "python3"
  },
  "language_info": {
   "codemirror_mode": {
    "name": "ipython",
    "version": 3
   },
   "file_extension": ".py",
   "mimetype": "text/x-python",
   "name": "python",
   "nbconvert_exporter": "python",
   "pygments_lexer": "ipython3",
   "version": "3.11.13"
  }
 },
 "nbformat": 4,
 "nbformat_minor": 4
}
