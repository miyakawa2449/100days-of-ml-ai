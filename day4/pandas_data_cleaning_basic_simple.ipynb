{
 "cells": [
  {
   "cell_type": "markdown",
   "metadata": {},
   "source": [
    "# Pandas基礎② - データクリーニング（Excelユーザー向けシンプル版）\n",
    "\n",
    "Day 4 - Pandas Data Cleaning Basic Simple\n",
    "\n",
    "このノートブックでは、Excelユーザーがデータクリーニングの基本を学ぶためのシンプル版を提供します。\n",
    "実務でよく使うデータクリーニング手法を、分かりやすく解説しています。"
   ]
  },
  {
   "cell_type": "code",
   "execution_count": 1,
   "metadata": {},
   "outputs": [
    {
     "name": "stdout",
     "output_type": "stream",
     "text": [
      "=== Pandas データクリーニング基礎（シンプル版） ===\n"
     ]
    }
   ],
   "source": [
    "import pandas as pd\n",
    "import numpy as np\n",
    "\n",
    "print(\"=== Pandas データクリーニング基礎（シンプル版） ===\")"
   ]
  },
  {
   "cell_type": "markdown",
   "metadata": {},
   "source": [
    "## 1. サンプルデータの作成（よくある問題を含むデータ）\n",
    "\n",
    "実務でよく遭遇する問題を含んだ顧客データを作成します。"
   ]
  },
  {
   "cell_type": "code",
   "execution_count": 2,
   "metadata": {},
   "outputs": [
    {
     "name": "stdout",
     "output_type": "stream",
     "text": [
      "元のデータ:\n"
     ]
    },
    {
     "data": {
      "text/html": [
       "<div>\n",
       "<style scoped>\n",
       "    .dataframe tbody tr th:only-of-type {\n",
       "        vertical-align: middle;\n",
       "    }\n",
       "\n",
       "    .dataframe tbody tr th {\n",
       "        vertical-align: top;\n",
       "    }\n",
       "\n",
       "    .dataframe thead th {\n",
       "        text-align: right;\n",
       "    }\n",
       "</style>\n",
       "<table border=\"1\" class=\"dataframe\">\n",
       "  <thead>\n",
       "    <tr style=\"text-align: right;\">\n",
       "      <th></th>\n",
       "      <th>顧客ID</th>\n",
       "      <th>名前</th>\n",
       "      <th>年齢</th>\n",
       "      <th>メール</th>\n",
       "      <th>購入金額</th>\n",
       "      <th>会員ランク</th>\n",
       "    </tr>\n",
       "  </thead>\n",
       "  <tbody>\n",
       "    <tr>\n",
       "      <th>0</th>\n",
       "      <td>C001</td>\n",
       "      <td>山田太郎</td>\n",
       "      <td>25.0</td>\n",
       "      <td>yamada@email.com</td>\n",
       "      <td>1,500</td>\n",
       "      <td>Bronze</td>\n",
       "    </tr>\n",
       "    <tr>\n",
       "      <th>1</th>\n",
       "      <td>C002</td>\n",
       "      <td>佐藤花子</td>\n",
       "      <td>32.0</td>\n",
       "      <td>sato@email.com</td>\n",
       "      <td>2,300</td>\n",
       "      <td>Silver</td>\n",
       "    </tr>\n",
       "    <tr>\n",
       "      <th>2</th>\n",
       "      <td>C003</td>\n",
       "      <td>NaN</td>\n",
       "      <td>45.0</td>\n",
       "      <td>tanaka@email.com</td>\n",
       "      <td>980</td>\n",
       "      <td>bronze</td>\n",
       "    </tr>\n",
       "    <tr>\n",
       "      <th>3</th>\n",
       "      <td>C004</td>\n",
       "      <td>鈴木一郎</td>\n",
       "      <td>NaN</td>\n",
       "      <td>suzuki@email.com</td>\n",
       "      <td>3,200</td>\n",
       "      <td>Gold</td>\n",
       "    </tr>\n",
       "    <tr>\n",
       "      <th>4</th>\n",
       "      <td>C005</td>\n",
       "      <td>田中美咲</td>\n",
       "      <td>28.0</td>\n",
       "      <td>tanaka@email.com</td>\n",
       "      <td>1,800</td>\n",
       "      <td>Silver</td>\n",
       "    </tr>\n",
       "    <tr>\n",
       "      <th>5</th>\n",
       "      <td>C006</td>\n",
       "      <td>高橋健太</td>\n",
       "      <td>35.0</td>\n",
       "      <td>None</td>\n",
       "      <td>2,500</td>\n",
       "      <td>GOLD</td>\n",
       "    </tr>\n",
       "    <tr>\n",
       "      <th>6</th>\n",
       "      <td>C007</td>\n",
       "      <td>伊藤さくら</td>\n",
       "      <td>29.0</td>\n",
       "      <td>ito@email.com</td>\n",
       "      <td>1,200</td>\n",
       "      <td>Bronze</td>\n",
       "    </tr>\n",
       "  </tbody>\n",
       "</table>\n",
       "</div>"
      ],
      "text/plain": [
       "   顧客ID     名前    年齢               メール   購入金額   会員ランク\n",
       "0  C001   山田太郎  25.0  yamada@email.com  1,500  Bronze\n",
       "1  C002   佐藤花子  32.0    sato@email.com  2,300  Silver\n",
       "2  C003    NaN  45.0  tanaka@email.com    980  bronze\n",
       "3  C004   鈴木一郎   NaN  suzuki@email.com  3,200    Gold\n",
       "4  C005   田中美咲  28.0  tanaka@email.com  1,800  Silver\n",
       "5  C006   高橋健太  35.0              None  2,500    GOLD\n",
       "6  C007  伊藤さくら  29.0     ito@email.com  1,200  Bronze"
      ]
     },
     "execution_count": 2,
     "metadata": {},
     "output_type": "execute_result"
    }
   ],
   "source": [
    "# 顧客データのサンプル（実務でよくある問題を含む）\n",
    "data = {\n",
    "    '顧客ID': ['C001', 'C002', 'C003', 'C004', 'C005', 'C006', 'C007'],\n",
    "    '名前': ['山田太郎', '佐藤花子', np.nan, '鈴木一郎', '田中美咲', '高橋健太', '伊藤さくら'],\n",
    "    '年齢': [25, 32, 45, np.nan, 28, 35, 29],\n",
    "    'メール': ['yamada@email.com', 'sato@email.com', 'tanaka@email.com', \n",
    "               'suzuki@email.com', 'tanaka@email.com', None, 'ito@email.com'],\n",
    "    '購入金額': ['1,500', '2,300', '980', '3,200', '1,800', '2,500', '1,200'],\n",
    "    '会員ランク': ['Bronze', 'Silver', 'bronze', 'Gold', 'Silver', 'GOLD', 'Bronze']\n",
    "}\n",
    "\n",
    "df = pd.DataFrame(data)\n",
    "print(\"元のデータ:\")\n",
    "df"
   ]
  },
  {
   "cell_type": "markdown",
   "metadata": {},
   "source": [
    "## 2. 欠損値（空白セル）の確認\n",
    "\n",
    "Excelでいう「空白セル」をPandasでは「欠損値（NaN）」と呼びます。"
   ]
  },
  {
   "cell_type": "code",
   "execution_count": 4,
   "metadata": {},
   "outputs": [
    {
     "name": "stdout",
     "output_type": "stream",
     "text": [
      "各列の欠損値の数:\n",
      "顧客ID     0\n",
      "名前       1\n",
      "年齢       1\n",
      "メール      1\n",
      "購入金額     0\n",
      "会員ランク    0\n",
      "dtype: int64\n",
      "\n",
      "欠損値を含む行だけを表示:\n"
     ]
    },
    {
     "data": {
      "text/html": [
       "<div>\n",
       "<style scoped>\n",
       "    .dataframe tbody tr th:only-of-type {\n",
       "        vertical-align: middle;\n",
       "    }\n",
       "\n",
       "    .dataframe tbody tr th {\n",
       "        vertical-align: top;\n",
       "    }\n",
       "\n",
       "    .dataframe thead th {\n",
       "        text-align: right;\n",
       "    }\n",
       "</style>\n",
       "<table border=\"1\" class=\"dataframe\">\n",
       "  <thead>\n",
       "    <tr style=\"text-align: right;\">\n",
       "      <th></th>\n",
       "      <th>顧客ID</th>\n",
       "      <th>名前</th>\n",
       "      <th>年齢</th>\n",
       "      <th>メール</th>\n",
       "      <th>購入金額</th>\n",
       "      <th>会員ランク</th>\n",
       "    </tr>\n",
       "  </thead>\n",
       "  <tbody>\n",
       "    <tr>\n",
       "      <th>2</th>\n",
       "      <td>C003</td>\n",
       "      <td>NaN</td>\n",
       "      <td>45.0</td>\n",
       "      <td>tanaka@email.com</td>\n",
       "      <td>980</td>\n",
       "      <td>bronze</td>\n",
       "    </tr>\n",
       "    <tr>\n",
       "      <th>3</th>\n",
       "      <td>C004</td>\n",
       "      <td>鈴木一郎</td>\n",
       "      <td>NaN</td>\n",
       "      <td>suzuki@email.com</td>\n",
       "      <td>3,200</td>\n",
       "      <td>Gold</td>\n",
       "    </tr>\n",
       "    <tr>\n",
       "      <th>5</th>\n",
       "      <td>C006</td>\n",
       "      <td>高橋健太</td>\n",
       "      <td>35.0</td>\n",
       "      <td>None</td>\n",
       "      <td>2,500</td>\n",
       "      <td>GOLD</td>\n",
       "    </tr>\n",
       "  </tbody>\n",
       "</table>\n",
       "</div>"
      ],
      "text/plain": [
       "   顧客ID    名前    年齢               メール   購入金額   会員ランク\n",
       "2  C003   NaN  45.0  tanaka@email.com    980  bronze\n",
       "3  C004  鈴木一郎   NaN  suzuki@email.com  3,200    Gold\n",
       "5  C006  高橋健太  35.0              None  2,500    GOLD"
      ]
     },
     "execution_count": 4,
     "metadata": {},
     "output_type": "execute_result"
    }
   ],
   "source": [
    "# df.isnull()は各セルが欠損値かどうかのBoolean値（True/False）を返します\n",
    "print(\"各列の欠損値の数:\")\n",
    "print(df.isnull().sum())\n",
    "print()\n",
    "\n",
    "# axis=1は「行方向」を指定します（axis=0は列方向）\n",
    "# any()は「 1つでも True があれば True 」を返す関数です\n",
    "print(\"欠損値を含む行だけを表示:\")\n",
    "df[df.isnull().any(axis=1)]"
   ]
  },
  {
   "cell_type": "markdown",
   "metadata": {},
   "source": [
    "## 3. 欠損値の処理方法① - 削除\n",
    "\n",
    "重要なデータが欠けている場合は、その行を削除します。"
   ]
  },
  {
   "cell_type": "code",
   "execution_count": 5,
   "metadata": {},
   "outputs": [
    {
     "name": "stdout",
     "output_type": "stream",
     "text": [
      "名前が空白の行を削除後:\n"
     ]
    },
    {
     "data": {
      "text/html": [
       "<div>\n",
       "<style scoped>\n",
       "    .dataframe tbody tr th:only-of-type {\n",
       "        vertical-align: middle;\n",
       "    }\n",
       "\n",
       "    .dataframe tbody tr th {\n",
       "        vertical-align: top;\n",
       "    }\n",
       "\n",
       "    .dataframe thead th {\n",
       "        text-align: right;\n",
       "    }\n",
       "</style>\n",
       "<table border=\"1\" class=\"dataframe\">\n",
       "  <thead>\n",
       "    <tr style=\"text-align: right;\">\n",
       "      <th></th>\n",
       "      <th>顧客ID</th>\n",
       "      <th>名前</th>\n",
       "      <th>年齢</th>\n",
       "      <th>メール</th>\n",
       "      <th>購入金額</th>\n",
       "      <th>会員ランク</th>\n",
       "    </tr>\n",
       "  </thead>\n",
       "  <tbody>\n",
       "    <tr>\n",
       "      <th>0</th>\n",
       "      <td>C001</td>\n",
       "      <td>山田太郎</td>\n",
       "      <td>25.0</td>\n",
       "      <td>yamada@email.com</td>\n",
       "      <td>1,500</td>\n",
       "      <td>Bronze</td>\n",
       "    </tr>\n",
       "    <tr>\n",
       "      <th>1</th>\n",
       "      <td>C002</td>\n",
       "      <td>佐藤花子</td>\n",
       "      <td>32.0</td>\n",
       "      <td>sato@email.com</td>\n",
       "      <td>2,300</td>\n",
       "      <td>Silver</td>\n",
       "    </tr>\n",
       "    <tr>\n",
       "      <th>3</th>\n",
       "      <td>C004</td>\n",
       "      <td>鈴木一郎</td>\n",
       "      <td>NaN</td>\n",
       "      <td>suzuki@email.com</td>\n",
       "      <td>3,200</td>\n",
       "      <td>Gold</td>\n",
       "    </tr>\n",
       "    <tr>\n",
       "      <th>4</th>\n",
       "      <td>C005</td>\n",
       "      <td>田中美咲</td>\n",
       "      <td>28.0</td>\n",
       "      <td>tanaka@email.com</td>\n",
       "      <td>1,800</td>\n",
       "      <td>Silver</td>\n",
       "    </tr>\n",
       "    <tr>\n",
       "      <th>5</th>\n",
       "      <td>C006</td>\n",
       "      <td>高橋健太</td>\n",
       "      <td>35.0</td>\n",
       "      <td>None</td>\n",
       "      <td>2,500</td>\n",
       "      <td>GOLD</td>\n",
       "    </tr>\n",
       "    <tr>\n",
       "      <th>6</th>\n",
       "      <td>C007</td>\n",
       "      <td>伊藤さくら</td>\n",
       "      <td>29.0</td>\n",
       "      <td>ito@email.com</td>\n",
       "      <td>1,200</td>\n",
       "      <td>Bronze</td>\n",
       "    </tr>\n",
       "  </tbody>\n",
       "</table>\n",
       "</div>"
      ],
      "text/plain": [
       "   顧客ID     名前    年齢               メール   購入金額   会員ランク\n",
       "0  C001   山田太郎  25.0  yamada@email.com  1,500  Bronze\n",
       "1  C002   佐藤花子  32.0    sato@email.com  2,300  Silver\n",
       "3  C004   鈴木一郎   NaN  suzuki@email.com  3,200    Gold\n",
       "4  C005   田中美咲  28.0  tanaka@email.com  1,800  Silver\n",
       "5  C006   高橋健太  35.0              None  2,500    GOLD\n",
       "6  C007  伊藤さくら  29.0     ito@email.com  1,200  Bronze"
      ]
     },
     "execution_count": 5,
     "metadata": {},
     "output_type": "execute_result"
    }
   ],
   "source": [
    "# 名前が欠損している行を削除\n",
    "df_cleaned1 = df.dropna(subset=['名前'])\n",
    "print(\"名前が空白の行を削除後:\")\n",
    "df_cleaned1"
   ]
  },
  {
   "cell_type": "markdown",
   "metadata": {},
   "source": [
    "## 4. 欠損値の処理方法② - 穴埋め\n",
    "\n",
    "数値データの場合は、平均値や中央値で穴埋めすることができます。"
   ]
  },
  {
   "cell_type": "code",
   "execution_count": 6,
   "metadata": {},
   "outputs": [
    {
     "name": "stdout",
     "output_type": "stream",
     "text": [
      "年齢の平均値: 32.3\n",
      "\n",
      "年齢の空白を平均値で埋めた後:\n"
     ]
    },
    {
     "data": {
      "text/html": [
       "<div>\n",
       "<style scoped>\n",
       "    .dataframe tbody tr th:only-of-type {\n",
       "        vertical-align: middle;\n",
       "    }\n",
       "\n",
       "    .dataframe tbody tr th {\n",
       "        vertical-align: top;\n",
       "    }\n",
       "\n",
       "    .dataframe thead th {\n",
       "        text-align: right;\n",
       "    }\n",
       "</style>\n",
       "<table border=\"1\" class=\"dataframe\">\n",
       "  <thead>\n",
       "    <tr style=\"text-align: right;\">\n",
       "      <th></th>\n",
       "      <th>顧客ID</th>\n",
       "      <th>名前</th>\n",
       "      <th>年齢</th>\n",
       "    </tr>\n",
       "  </thead>\n",
       "  <tbody>\n",
       "    <tr>\n",
       "      <th>0</th>\n",
       "      <td>C001</td>\n",
       "      <td>山田太郎</td>\n",
       "      <td>25.000000</td>\n",
       "    </tr>\n",
       "    <tr>\n",
       "      <th>1</th>\n",
       "      <td>C002</td>\n",
       "      <td>佐藤花子</td>\n",
       "      <td>32.000000</td>\n",
       "    </tr>\n",
       "    <tr>\n",
       "      <th>2</th>\n",
       "      <td>C003</td>\n",
       "      <td>NaN</td>\n",
       "      <td>45.000000</td>\n",
       "    </tr>\n",
       "    <tr>\n",
       "      <th>3</th>\n",
       "      <td>C004</td>\n",
       "      <td>鈴木一郎</td>\n",
       "      <td>32.333333</td>\n",
       "    </tr>\n",
       "    <tr>\n",
       "      <th>4</th>\n",
       "      <td>C005</td>\n",
       "      <td>田中美咲</td>\n",
       "      <td>28.000000</td>\n",
       "    </tr>\n",
       "    <tr>\n",
       "      <th>5</th>\n",
       "      <td>C006</td>\n",
       "      <td>高橋健太</td>\n",
       "      <td>35.000000</td>\n",
       "    </tr>\n",
       "    <tr>\n",
       "      <th>6</th>\n",
       "      <td>C007</td>\n",
       "      <td>伊藤さくら</td>\n",
       "      <td>29.000000</td>\n",
       "    </tr>\n",
       "  </tbody>\n",
       "</table>\n",
       "</div>"
      ],
      "text/plain": [
       "   顧客ID     名前         年齢\n",
       "0  C001   山田太郎  25.000000\n",
       "1  C002   佐藤花子  32.000000\n",
       "2  C003    NaN  45.000000\n",
       "3  C004   鈴木一郎  32.333333\n",
       "4  C005   田中美咲  28.000000\n",
       "5  C006   高橋健太  35.000000\n",
       "6  C007  伊藤さくら  29.000000"
      ]
     },
     "execution_count": 6,
     "metadata": {},
     "output_type": "execute_result"
    }
   ],
   "source": [
    "# 年齢の欠損値を平均値で埋める\n",
    "# fillna()は「欠損値（NaN）を指定した値で埋める」メソッドです。\n",
    "df_copy = df.copy()\n",
    "average_age = df_copy['年齢'].mean()\n",
    "df_copy['年齢'] = df_copy['年齢'].fillna(average_age)\n",
    "\n",
    "# df_copy['年齢']：年齢列を取得\n",
    "# .fillna(average_age)：その列の欠損値をaverage_age（平均値）で置き換え\n",
    "# df_copy['年齢'] = ：結果を元の年齢列に代入\n",
    "\n",
    "print(f\"年齢の平均値: {average_age:.1f}\")\n",
    "print(\"\\n年齢の空白を平均値で埋めた後:\")\n",
    "df_copy[['顧客ID', '名前', '年齢']]"
   ]
  },
  {
   "cell_type": "markdown",
   "metadata": {},
   "source": [
    "## 5. 重複データの確認と削除\n",
    "\n",
    "同じメールアドレスが複数回登録されているケースを確認します。"
   ]
  },
  {
   "cell_type": "code",
   "execution_count": 7,
   "metadata": {},
   "outputs": [
    {
     "name": "stdout",
     "output_type": "stream",
     "text": [
      "メールアドレスの重複チェック:\n",
      "   顧客ID    名前    年齢               メール   購入金額   会員ランク\n",
      "2  C003   NaN  45.0  tanaka@email.com    980  bronze\n",
      "4  C005  田中美咲  28.0  tanaka@email.com  1,800  Silver\n",
      "\n",
      "重複メールアドレスを削除後:\n"
     ]
    },
    {
     "data": {
      "text/html": [
       "<div>\n",
       "<style scoped>\n",
       "    .dataframe tbody tr th:only-of-type {\n",
       "        vertical-align: middle;\n",
       "    }\n",
       "\n",
       "    .dataframe tbody tr th {\n",
       "        vertical-align: top;\n",
       "    }\n",
       "\n",
       "    .dataframe thead th {\n",
       "        text-align: right;\n",
       "    }\n",
       "</style>\n",
       "<table border=\"1\" class=\"dataframe\">\n",
       "  <thead>\n",
       "    <tr style=\"text-align: right;\">\n",
       "      <th></th>\n",
       "      <th>顧客ID</th>\n",
       "      <th>名前</th>\n",
       "      <th>メール</th>\n",
       "    </tr>\n",
       "  </thead>\n",
       "  <tbody>\n",
       "    <tr>\n",
       "      <th>0</th>\n",
       "      <td>C001</td>\n",
       "      <td>山田太郎</td>\n",
       "      <td>yamada@email.com</td>\n",
       "    </tr>\n",
       "    <tr>\n",
       "      <th>1</th>\n",
       "      <td>C002</td>\n",
       "      <td>佐藤花子</td>\n",
       "      <td>sato@email.com</td>\n",
       "    </tr>\n",
       "    <tr>\n",
       "      <th>2</th>\n",
       "      <td>C003</td>\n",
       "      <td>NaN</td>\n",
       "      <td>tanaka@email.com</td>\n",
       "    </tr>\n",
       "    <tr>\n",
       "      <th>3</th>\n",
       "      <td>C004</td>\n",
       "      <td>鈴木一郎</td>\n",
       "      <td>suzuki@email.com</td>\n",
       "    </tr>\n",
       "    <tr>\n",
       "      <th>5</th>\n",
       "      <td>C006</td>\n",
       "      <td>高橋健太</td>\n",
       "      <td>None</td>\n",
       "    </tr>\n",
       "    <tr>\n",
       "      <th>6</th>\n",
       "      <td>C007</td>\n",
       "      <td>伊藤さくら</td>\n",
       "      <td>ito@email.com</td>\n",
       "    </tr>\n",
       "  </tbody>\n",
       "</table>\n",
       "</div>"
      ],
      "text/plain": [
       "   顧客ID     名前               メール\n",
       "0  C001   山田太郎  yamada@email.com\n",
       "1  C002   佐藤花子    sato@email.com\n",
       "2  C003    NaN  tanaka@email.com\n",
       "3  C004   鈴木一郎  suzuki@email.com\n",
       "5  C006   高橋健太              None\n",
       "6  C007  伊藤さくら     ito@email.com"
      ]
     },
     "execution_count": 7,
     "metadata": {},
     "output_type": "execute_result"
    }
   ],
   "source": [
    "# duplicated()は「重複している行を検出する」メソッド\n",
    "# keep=False\n",
    "#keepパラメータは「重複のうちどれを残すか」を指定します：\n",
    "\n",
    "# keep='first'（デフォルト）：最初の行を残し、2番目以降を True とする\n",
    "# keep='last'：最後の行を残し、それ以前を True とする\n",
    "# keep=False：重複するすべての行を True とする\n",
    "\n",
    "print(\"メールアドレスの重複チェック:\")\n",
    "print(df[df.duplicated(subset=['メール'], keep=False)])\n",
    "print()\n",
    "\n",
    "# 重複を削除（最初のものを残す）\n",
    "df_no_dup = df.drop_duplicates(subset=['メール'], keep='first')\n",
    "print(\"重複メールアドレスを削除後:\")\n",
    "df_no_dup[['顧客ID', '名前', 'メール']]"
   ]
  },
  {
   "cell_type": "markdown",
   "metadata": {},
   "source": [
    "## 6. データ型の変換（文字列→数値）\n",
    "\n",
    "カンマ付きの数値を、計算可能な数値型に変換します。"
   ]
  },
  {
   "cell_type": "code",
   "execution_count": 8,
   "metadata": {},
   "outputs": [
    {
     "name": "stdout",
     "output_type": "stream",
     "text": [
      "購入金額を数値型に変換後:\n",
      "   顧客ID    購入金額\n",
      "0  C001  1500.0\n",
      "1  C002  2300.0\n",
      "2  C003   980.0\n",
      "3  C004  3200.0\n",
      "4  C005  1800.0\n",
      "5  C006  2500.0\n",
      "6  C007  1200.0\n",
      "\n",
      "購入金額の合計: 13,480円\n"
     ]
    }
   ],
   "source": [
    "# カンマ付き数値を数値型に変換\n",
    "df_copy2 = df.copy()\n",
    "df_copy2['購入金額'] = df_copy2['購入金額'].str.replace(',', '').astype(float)\n",
    "\n",
    "# .str アクセサ\n",
    "# 役割： 文字列操作のためのアクセサ\n",
    "# pythondf['列名'].str\n",
    "# pandasのSeriesが文字列型の場合に使用\n",
    "# 文字列に対する様々な操作を可能にする\n",
    "# 重要： .str自体はメソッドではなく「文字列操作へのアクセス手段」\n",
    "\n",
    "print(\"購入金額を数値型に変換後:\")\n",
    "print(df_copy2[['顧客ID', '購入金額']])\n",
    "print(f\"\\n購入金額の合計: {df_copy2['購入金額'].sum():,.0f}円\")\n",
    "\n",
    "# {値:,.0f}\n",
    "# : フォーマット指定の開始\n",
    "# , 3桁区切りのカンマを表示\n",
    "# . 0小数点以下0桁（整数表示）\n",
    "# f 浮動小数点数として表示"
   ]
  },
  {
   "cell_type": "markdown",
   "metadata": {},
   "source": [
    "## 7. 文字列の統一（大文字小文字の統一）\n",
    "\n",
    "同じ会員ランクなのに、大文字小文字が混在している問題を解決します。"
   ]
  },
  {
   "cell_type": "code",
   "execution_count": 14,
   "metadata": {},
   "outputs": [
    {
     "name": "stdout",
     "output_type": "stream",
     "text": [
      "変換前の会員ランク:\n",
      "会員ランク\n",
      "Bronze    2\n",
      "Silver    2\n",
      "bronze    1\n",
      "Gold      1\n",
      "GOLD      1\n",
      "Name: count, dtype: int64\n",
      "\n",
      "変換後の会員ランク:\n",
      "会員ランク\n",
      "Bronze    3\n",
      "Silver    2\n",
      "Gold      2\n",
      "Name: count, dtype: int64\n",
      "\n",
      "他の似たメソッド：\n",
      "capitalize(): Hello world\n",
      "title():      Hello World\n",
      "lower():      hello world\n",
      "upper():      HELLO WORLD\n"
     ]
    }
   ],
   "source": [
    "print(\"変換前の会員ランク:\")\n",
    "print(df['会員ランク'].value_counts())\n",
    "print()\n",
    "\n",
    "# 会員ランクを統一（最初を大文字、残りを小文字に）\n",
    "df_copy3 = df.copy()\n",
    "df_copy3['会員ランク'] = df_copy3['会員ランク'].str.capitalize()\n",
    "\n",
    "print(\"変換後の会員ランク:\")\n",
    "print(df_copy3['会員ランク'].value_counts())\n",
    "\n",
    "print(\"\\n他の似たメソッド：\")\n",
    "text = \"HELLO world\"\n",
    "print(f\"capitalize(): {text.capitalize()}\")  # Hello world\n",
    "print(f\"title():      {text.title()}\")      # Hello World\n",
    "print(f\"lower():      {text.lower()}\")      # hello world\n",
    "print(f\"upper():      {text.upper()}\")      # HELLO WORLD"
   ]
  },
  {
   "cell_type": "markdown",
   "metadata": {},
   "source": [
    "## 8. 実践的な例：すべてのクリーニングを組み合わせる\n",
    "\n",
    "ここまで学んだ技術を組み合わせて、データを一括でクリーニングする関数を作成します。"
   ]
  },
  {
   "cell_type": "code",
   "execution_count": 15,
   "metadata": {},
   "outputs": [
    {
     "name": "stdout",
     "output_type": "stream",
     "text": [
      "クリーニング後の最終データ:\n"
     ]
    },
    {
     "data": {
      "text/html": [
       "<div>\n",
       "<style scoped>\n",
       "    .dataframe tbody tr th:only-of-type {\n",
       "        vertical-align: middle;\n",
       "    }\n",
       "\n",
       "    .dataframe tbody tr th {\n",
       "        vertical-align: top;\n",
       "    }\n",
       "\n",
       "    .dataframe thead th {\n",
       "        text-align: right;\n",
       "    }\n",
       "</style>\n",
       "<table border=\"1\" class=\"dataframe\">\n",
       "  <thead>\n",
       "    <tr style=\"text-align: right;\">\n",
       "      <th></th>\n",
       "      <th>顧客ID</th>\n",
       "      <th>名前</th>\n",
       "      <th>年齢</th>\n",
       "      <th>メール</th>\n",
       "      <th>購入金額</th>\n",
       "      <th>会員ランク</th>\n",
       "    </tr>\n",
       "  </thead>\n",
       "  <tbody>\n",
       "    <tr>\n",
       "      <th>0</th>\n",
       "      <td>C001</td>\n",
       "      <td>山田太郎</td>\n",
       "      <td>25.0</td>\n",
       "      <td>yamada@email.com</td>\n",
       "      <td>1500.0</td>\n",
       "      <td>Bronze</td>\n",
       "    </tr>\n",
       "    <tr>\n",
       "      <th>1</th>\n",
       "      <td>C002</td>\n",
       "      <td>佐藤花子</td>\n",
       "      <td>32.0</td>\n",
       "      <td>sato@email.com</td>\n",
       "      <td>2300.0</td>\n",
       "      <td>Silver</td>\n",
       "    </tr>\n",
       "    <tr>\n",
       "      <th>3</th>\n",
       "      <td>C004</td>\n",
       "      <td>鈴木一郎</td>\n",
       "      <td>29.8</td>\n",
       "      <td>suzuki@email.com</td>\n",
       "      <td>3200.0</td>\n",
       "      <td>Gold</td>\n",
       "    </tr>\n",
       "    <tr>\n",
       "      <th>4</th>\n",
       "      <td>C005</td>\n",
       "      <td>田中美咲</td>\n",
       "      <td>28.0</td>\n",
       "      <td>tanaka@email.com</td>\n",
       "      <td>1800.0</td>\n",
       "      <td>Silver</td>\n",
       "    </tr>\n",
       "    <tr>\n",
       "      <th>5</th>\n",
       "      <td>C006</td>\n",
       "      <td>高橋健太</td>\n",
       "      <td>35.0</td>\n",
       "      <td>未登録</td>\n",
       "      <td>2500.0</td>\n",
       "      <td>Gold</td>\n",
       "    </tr>\n",
       "    <tr>\n",
       "      <th>6</th>\n",
       "      <td>C007</td>\n",
       "      <td>伊藤さくら</td>\n",
       "      <td>29.0</td>\n",
       "      <td>ito@email.com</td>\n",
       "      <td>1200.0</td>\n",
       "      <td>Bronze</td>\n",
       "    </tr>\n",
       "  </tbody>\n",
       "</table>\n",
       "</div>"
      ],
      "text/plain": [
       "   顧客ID     名前    年齢               メール    購入金額   会員ランク\n",
       "0  C001   山田太郎  25.0  yamada@email.com  1500.0  Bronze\n",
       "1  C002   佐藤花子  32.0    sato@email.com  2300.0  Silver\n",
       "3  C004   鈴木一郎  29.8  suzuki@email.com  3200.0    Gold\n",
       "4  C005   田中美咲  28.0  tanaka@email.com  1800.0  Silver\n",
       "5  C006   高橋健太  35.0               未登録  2500.0    Gold\n",
       "6  C007  伊藤さくら  29.0     ito@email.com  1200.0  Bronze"
      ]
     },
     "execution_count": 15,
     "metadata": {},
     "output_type": "execute_result"
    }
   ],
   "source": [
    "def clean_customer_data(df):\n",
    "    \"\"\"顧客データをクリーニングする関数\"\"\"\n",
    "    # コピーを作成\n",
    "    cleaned_df = df.copy()\n",
    "    \n",
    "    # 1. 名前が欠損している行を削除\n",
    "    cleaned_df = cleaned_df.dropna(subset=['名前'])\n",
    "    \n",
    "    # 2. 年齢の欠損値を平均値で埋める\n",
    "    avg_age = cleaned_df['年齢'].mean()\n",
    "    cleaned_df['年齢'] = cleaned_df['年齢'].fillna(avg_age)\n",
    "    \n",
    "    # 3. メールの欠損値を'未登録'で埋める\n",
    "    cleaned_df['メール'] = cleaned_df['メール'].fillna('未登録')\n",
    "    \n",
    "    # 4. 購入金額を数値型に変換\n",
    "    cleaned_df['購入金額'] = cleaned_df['購入金額'].str.replace(',', '').astype(float)\n",
    "    \n",
    "    # 5. 会員ランクを統一\n",
    "    cleaned_df['会員ランク'] = cleaned_df['会員ランク'].str.capitalize()\n",
    "    \n",
    "    return cleaned_df\n",
    "\n",
    "# クリーニング実行\n",
    "cleaned_data = clean_customer_data(df)\n",
    "print(\"クリーニング後の最終データ:\")\n",
    "cleaned_data"
   ]
  },
  {
   "cell_type": "code",
   "execution_count": 16,
   "metadata": {},
   "outputs": [
    {
     "name": "stdout",
     "output_type": "stream",
     "text": [
      "クリーニング結果のサマリー:\n",
      "- 削除された行数: 1\n",
      "- 欠損値の残り: 0\n",
      "- 購入金額の合計: 12,500円\n",
      "- 購入金額の平均: 2,083円\n"
     ]
    }
   ],
   "source": [
    "# クリーニング結果のサマリー\n",
    "print(\"クリーニング結果のサマリー:\")\n",
    "print(f\"- 削除された行数: {len(df) - len(cleaned_data)}\")\n",
    "print(f\"- 欠損値の残り: {cleaned_data.isnull().sum().sum()}\")\n",
    "print(f\"- 購入金額の合計: {cleaned_data['購入金額'].sum():,.0f}円\")\n",
    "print(f\"- 購入金額の平均: {cleaned_data['購入金額'].mean():,.0f}円\")"
   ]
  },
  {
   "cell_type": "markdown",
   "metadata": {},
   "source": [
    "## 9. 便利なTips\n",
    "\n",
    "Excelユーザーのための、よく使うデータクリーニング操作の対応表です。"
   ]
  },
  {
   "cell_type": "code",
   "execution_count": 17,
   "metadata": {},
   "outputs": [
    {
     "name": "stdout",
     "output_type": "stream",
     "text": [
      "=== 便利なTips ===\n",
      "--------------------------------------------------\n",
      "1. Excelでよくやる操作とPandasの対応:\n",
      "   - 空白セルの削除 → dropna()\n",
      "   - 検索と置換 → replace()\n",
      "   - 重複の削除 → drop_duplicates()\n",
      "   - テキストの統一 → str.capitalize(), str.upper(), str.lower()\n",
      "\n",
      "2. よくあるデータクリーニングのパターン:\n",
      "   - 数値に混じった文字を除去: str.replace(',', '')\n",
      "   - 前後の空白を削除: str.strip()\n",
      "   - 特定の文字で分割: str.split()\n",
      "\n",
      "3. 欠損値の処理方法の選び方:\n",
      "   - 重要なデータ → 削除（dropna）\n",
      "   - 数値データ → 平均値や中央値で穴埋め（fillna）\n",
      "   - カテゴリデータ → '不明'や'未登録'で穴埋め\n"
     ]
    }
   ],
   "source": [
    "print(\"=== 便利なTips ===\")\n",
    "print(\"-\" * 50)\n",
    "\n",
    "print(\"1. Excelでよくやる操作とPandasの対応:\")\n",
    "print(\"   - 空白セルの削除 → dropna()\")\n",
    "print(\"   - 検索と置換 → replace()\")\n",
    "print(\"   - 重複の削除 → drop_duplicates()\")\n",
    "print(\"   - テキストの統一 → str.capitalize(), str.upper(), str.lower()\")\n",
    "print()\n",
    "\n",
    "print(\"2. よくあるデータクリーニングのパターン:\")\n",
    "print(\"   - 数値に混じった文字を除去: str.replace(',', '')\")\n",
    "print(\"   - 前後の空白を削除: str.strip()\")\n",
    "print(\"   - 特定の文字で分割: str.split()\")\n",
    "print()\n",
    "\n",
    "print(\"3. 欠損値の処理方法の選び方:\")\n",
    "print(\"   - 重要なデータ → 削除（dropna）\")\n",
    "print(\"   - 数値データ → 平均値や中央値で穴埋め（fillna）\")\n",
    "print(\"   - カテゴリデータ → '不明'や'未登録'で穴埋め\")"
   ]
  },
  {
   "cell_type": "markdown",
   "metadata": {},
   "source": [
    "## 練習問題\n",
    "\n",
    "以下の売上データをクリーニングしてみましょう。"
   ]
  },
  {
   "cell_type": "code",
   "execution_count": 18,
   "metadata": {},
   "outputs": [
    {
     "name": "stdout",
     "output_type": "stream",
     "text": [
      "練習問題のデータ:\n",
      "    商品名  売上個数     単価     担当者\n",
      "0   りんご  100個  150.0      田中\n",
      "1   バナナ  150個   80.0  TANAKA\n",
      "2  None   80個  120.0      佐藤\n",
      "3   みかん  200個    NaN      田中\n",
      "4   りんご  100個  150.0      山田\n",
      "\n",
      "ヒント: 商品名の欠損値処理、売上個数の数値変換、単価の欠損値処理、担当者名の統一を行ってください。\n"
     ]
    }
   ],
   "source": [
    "# 練習用データ\n",
    "practice_data = {\n",
    "    '商品名': ['りんご', 'バナナ', None, 'みかん', 'りんご'],\n",
    "    '売上個数': ['100個', '150個', '80個', '200個', '100個'],\n",
    "    '単価': [150, 80, 120, np.nan, 150],\n",
    "    '担当者': ['田中', 'TANAKA', '佐藤', '田中', '山田']\n",
    "}\n",
    "practice_df = pd.DataFrame(practice_data)\n",
    "print(\"練習問題のデータ:\")\n",
    "print(practice_df)\n",
    "print(\"\\nヒント: 商品名の欠損値処理、売上個数の数値変換、単価の欠損値処理、担当者名の統一を行ってください。\")"
   ]
  },
  {
   "cell_type": "code",
   "execution_count": 33,
   "metadata": {},
   "outputs": [
    {
     "name": "stdout",
     "output_type": "stream",
     "text": [
      "   商品名  売上個数          単価 担当者\n",
      "0  りんご   100  150.000000  田中\n",
      "1  バナナ   150   80.000000  田中\n",
      "3  みかん   200  126.666667  田中\n",
      "4  りんご   100  150.000000  山田\n"
     ]
    }
   ],
   "source": [
    "# ここに解答を書いてみましょう\n",
    "# practice_df_cleaned = practice_df.copy()\n",
    "practice_df_cleaned = practice_df.copy()\n",
    "\n",
    "# 1. 商品名の欠損値処理\n",
    "practice_df_cleaned = practice_df_cleaned.dropna(subset=['商品名'])\n",
    "\n",
    "# 2. 売上個数の数値変換\n",
    "practice_df_cleaned['売上個数'] = practice_df_cleaned['売上個数'].str.replace('個', '').astype(int)\n",
    "\n",
    "# 3. 単価の欠損値処理（変数名は正確につけること）\n",
    "average_price = practice_df_cleaned['単価'].mean()\n",
    "practice_df_cleaned['単価'] = practice_df_cleaned['単価'] .fillna(average_price)\n",
    "\n",
    "# 4. 担当者名の統一\n",
    "practice_df_cleaned['担当者'] = practice_df_cleaned['担当者'].str.replace('TANAKA', '田中')\n",
    "\n",
    "print(practice_df_cleaned)\n",
    "\n"
   ]
  },
  {
   "cell_type": "code",
   "execution_count": null,
   "metadata": {},
   "outputs": [],
   "source": []
  }
 ],
 "metadata": {
  "kernelspec": {
   "display_name": "Python 3 (ipykernel)",
   "language": "python",
   "name": "python3"
  },
  "language_info": {
   "codemirror_mode": {
    "name": "ipython",
    "version": 3
   },
   "file_extension": ".py",
   "mimetype": "text/x-python",
   "name": "python",
   "nbconvert_exporter": "python",
   "pygments_lexer": "ipython3",
   "version": "3.11.13"
  }
 },
 "nbformat": 4,
 "nbformat_minor": 4
}
