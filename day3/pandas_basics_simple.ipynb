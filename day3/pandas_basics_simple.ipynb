{
 "cells": [
  {
   "cell_type": "markdown",
   "id": "header",
   "metadata": {},
   "source": [
    "# Day 3: Pandas基礎① - DataFrame操作（シンプル版）\n",
    "\n",
    "## Excelユーザーのための Pandas 入門\n",
    "\n",
    "PandasのDataFrameは、Excelのシートと同じような表形式のデータです。\n",
    "今日は最も基本的な操作だけに絞って学習します。\n",
    "\n",
    "### 今日の目標\n",
    "1. データの読み込みと表示\n",
    "2. 基本的なデータ選択\n",
    "3. 簡単なフィルタリング\n",
    "4. 基本的な集計"
   ]
  },
  {
   "cell_type": "markdown",
   "id": "import",
   "metadata": {},
   "source": [
    "## 準備"
   ]
  },
  {
   "cell_type": "code",
   "execution_count": 3,
   "id": "import-cell",
   "metadata": {},
   "outputs": [],
   "source": [
    "import pandas as pd\n",
    "import numpy as np\n",
    "\n",
    "# 表示設定（見やすくするため）\n",
    "pd.set_option('display.max_columns', None)\n",
    "pd.set_option('display.width', None)"
   ]
  },
  {
   "cell_type": "markdown",
   "id": "section1",
   "metadata": {},
   "source": [
    "## 1. まずはシンプルなデータを作ってみる\n",
    "\n",
    "Excelで表を作るように、Pandasでもデータを作れます。"
   ]
  },
  {
   "cell_type": "code",
   "execution_count": 4,
   "id": "create-data",
   "metadata": {},
   "outputs": [
    {
     "name": "stdout",
     "output_type": "stream",
     "text": [
      "社員リスト:\n"
     ]
    },
    {
     "data": {
      "text/html": [
       "<div>\n",
       "<style scoped>\n",
       "    .dataframe tbody tr th:only-of-type {\n",
       "        vertical-align: middle;\n",
       "    }\n",
       "\n",
       "    .dataframe tbody tr th {\n",
       "        vertical-align: top;\n",
       "    }\n",
       "\n",
       "    .dataframe thead th {\n",
       "        text-align: right;\n",
       "    }\n",
       "</style>\n",
       "<table border=\"1\" class=\"dataframe\">\n",
       "  <thead>\n",
       "    <tr style=\"text-align: right;\">\n",
       "      <th></th>\n",
       "      <th>名前</th>\n",
       "      <th>部署</th>\n",
       "      <th>年齢</th>\n",
       "      <th>給与</th>\n",
       "    </tr>\n",
       "  </thead>\n",
       "  <tbody>\n",
       "    <tr>\n",
       "      <th>0</th>\n",
       "      <td>田中</td>\n",
       "      <td>営業</td>\n",
       "      <td>25</td>\n",
       "      <td>300000</td>\n",
       "    </tr>\n",
       "    <tr>\n",
       "      <th>1</th>\n",
       "      <td>鈴木</td>\n",
       "      <td>IT</td>\n",
       "      <td>30</td>\n",
       "      <td>400000</td>\n",
       "    </tr>\n",
       "    <tr>\n",
       "      <th>2</th>\n",
       "      <td>佐藤</td>\n",
       "      <td>営業</td>\n",
       "      <td>35</td>\n",
       "      <td>350000</td>\n",
       "    </tr>\n",
       "    <tr>\n",
       "      <th>3</th>\n",
       "      <td>高橋</td>\n",
       "      <td>IT</td>\n",
       "      <td>28</td>\n",
       "      <td>380000</td>\n",
       "    </tr>\n",
       "    <tr>\n",
       "      <th>4</th>\n",
       "      <td>山田</td>\n",
       "      <td>人事</td>\n",
       "      <td>33</td>\n",
       "      <td>320000</td>\n",
       "    </tr>\n",
       "  </tbody>\n",
       "</table>\n",
       "</div>"
      ],
      "text/plain": [
       "   名前  部署  年齢      給与\n",
       "0  田中  営業  25  300000\n",
       "1  鈴木  IT  30  400000\n",
       "2  佐藤  営業  35  350000\n",
       "3  高橋  IT  28  380000\n",
       "4  山田  人事  33  320000"
      ]
     },
     "execution_count": 4,
     "metadata": {},
     "output_type": "execute_result"
    }
   ],
   "source": [
    "# Excelで作るような社員リストを作成\n",
    "社員データ = {\n",
    "    '名前': ['田中', '鈴木', '佐藤', '高橋', '山田'],\n",
    "    '部署': ['営業', 'IT', '営業', 'IT', '人事'],\n",
    "    '年齢': [25, 30, 35, 28, 33],\n",
    "    '給与': [300000, 400000, 350000, 380000, 320000]\n",
    "}\n",
    "\n",
    "# DataFrameを作成（Excelのシートのようなもの）\n",
    "df = pd.DataFrame(社員データ)\n",
    "\n",
    "print(\"社員リスト:\")\n",
    "df"
   ]
  },
  {
   "cell_type": "markdown",
   "id": "excel-comparison1",
   "metadata": {},
   "source": [
    "### 📊 Excel との比較\n",
    "- **Excel**: セルに直接データを入力\n",
    "- **Pandas**: 辞書形式でデータを定義してDataFrameを作成"
   ]
  },
  {
   "cell_type": "markdown",
   "id": "section2",
   "metadata": {},
   "source": [
    "## 2. データを見る - Excelのように"
   ]
  },
  {
   "cell_type": "code",
   "execution_count": 5,
   "id": "view-data",
   "metadata": {},
   "outputs": [
    {
     "name": "stdout",
     "output_type": "stream",
     "text": [
      "最初の3行:\n"
     ]
    },
    {
     "data": {
      "text/html": [
       "<div>\n",
       "<style scoped>\n",
       "    .dataframe tbody tr th:only-of-type {\n",
       "        vertical-align: middle;\n",
       "    }\n",
       "\n",
       "    .dataframe tbody tr th {\n",
       "        vertical-align: top;\n",
       "    }\n",
       "\n",
       "    .dataframe thead th {\n",
       "        text-align: right;\n",
       "    }\n",
       "</style>\n",
       "<table border=\"1\" class=\"dataframe\">\n",
       "  <thead>\n",
       "    <tr style=\"text-align: right;\">\n",
       "      <th></th>\n",
       "      <th>名前</th>\n",
       "      <th>部署</th>\n",
       "      <th>年齢</th>\n",
       "      <th>給与</th>\n",
       "    </tr>\n",
       "  </thead>\n",
       "  <tbody>\n",
       "    <tr>\n",
       "      <th>0</th>\n",
       "      <td>田中</td>\n",
       "      <td>営業</td>\n",
       "      <td>25</td>\n",
       "      <td>300000</td>\n",
       "    </tr>\n",
       "    <tr>\n",
       "      <th>1</th>\n",
       "      <td>鈴木</td>\n",
       "      <td>IT</td>\n",
       "      <td>30</td>\n",
       "      <td>400000</td>\n",
       "    </tr>\n",
       "    <tr>\n",
       "      <th>2</th>\n",
       "      <td>佐藤</td>\n",
       "      <td>営業</td>\n",
       "      <td>35</td>\n",
       "      <td>350000</td>\n",
       "    </tr>\n",
       "  </tbody>\n",
       "</table>\n",
       "</div>"
      ],
      "text/plain": [
       "   名前  部署  年齢      給与\n",
       "0  田中  営業  25  300000\n",
       "1  鈴木  IT  30  400000\n",
       "2  佐藤  営業  35  350000"
      ]
     },
     "execution_count": 5,
     "metadata": {},
     "output_type": "execute_result"
    }
   ],
   "source": [
    "# 最初の3行だけ見る（Excelで上の方だけ見るような感じ）\n",
    "print(\"最初の3行:\")\n",
    "df.head(3)"
   ]
  },
  {
   "cell_type": "code",
   "execution_count": 6,
   "id": "basic-info",
   "metadata": {},
   "outputs": [
    {
     "name": "stdout",
     "output_type": "stream",
     "text": [
      "行数: 5\n",
      "列数: 4\n",
      "\n",
      "列名: ['名前', '部署', '年齢', '給与']\n"
     ]
    }
   ],
   "source": [
    "# データの基本情報（Excelのステータスバーのような情報）\n",
    "print(f\"行数: {len(df)}\")\n",
    "print(f\"列数: {len(df.columns)}\")\n",
    "print(f\"\\n列名: {df.columns.tolist()}\")"
   ]
  },
  {
   "cell_type": "markdown",
   "id": "section3",
   "metadata": {},
   "source": [
    "## 3. 列を選ぶ - Excelで列を選択するように"
   ]
  },
  {
   "cell_type": "code",
   "execution_count": 7,
   "id": "select-column",
   "metadata": {},
   "outputs": [
    {
     "name": "stdout",
     "output_type": "stream",
     "text": [
      "名前の列だけ:\n"
     ]
    },
    {
     "data": {
      "text/plain": [
       "0    田中\n",
       "1    鈴木\n",
       "2    佐藤\n",
       "3    高橋\n",
       "4    山田\n",
       "Name: 名前, dtype: object"
      ]
     },
     "execution_count": 7,
     "metadata": {},
     "output_type": "execute_result"
    }
   ],
   "source": [
    "# 1つの列を選ぶ（ExcelでB列を選ぶような感じ）\n",
    "print(\"名前の列だけ:\")\n",
    "df['名前']"
   ]
  },
  {
   "cell_type": "code",
   "execution_count": 8,
   "id": "select-multiple",
   "metadata": {},
   "outputs": [
    {
     "name": "stdout",
     "output_type": "stream",
     "text": [
      "名前と給与の列:\n"
     ]
    },
    {
     "data": {
      "text/html": [
       "<div>\n",
       "<style scoped>\n",
       "    .dataframe tbody tr th:only-of-type {\n",
       "        vertical-align: middle;\n",
       "    }\n",
       "\n",
       "    .dataframe tbody tr th {\n",
       "        vertical-align: top;\n",
       "    }\n",
       "\n",
       "    .dataframe thead th {\n",
       "        text-align: right;\n",
       "    }\n",
       "</style>\n",
       "<table border=\"1\" class=\"dataframe\">\n",
       "  <thead>\n",
       "    <tr style=\"text-align: right;\">\n",
       "      <th></th>\n",
       "      <th>名前</th>\n",
       "      <th>給与</th>\n",
       "    </tr>\n",
       "  </thead>\n",
       "  <tbody>\n",
       "    <tr>\n",
       "      <th>0</th>\n",
       "      <td>田中</td>\n",
       "      <td>300000</td>\n",
       "    </tr>\n",
       "    <tr>\n",
       "      <th>1</th>\n",
       "      <td>鈴木</td>\n",
       "      <td>400000</td>\n",
       "    </tr>\n",
       "    <tr>\n",
       "      <th>2</th>\n",
       "      <td>佐藤</td>\n",
       "      <td>350000</td>\n",
       "    </tr>\n",
       "    <tr>\n",
       "      <th>3</th>\n",
       "      <td>高橋</td>\n",
       "      <td>380000</td>\n",
       "    </tr>\n",
       "    <tr>\n",
       "      <th>4</th>\n",
       "      <td>山田</td>\n",
       "      <td>320000</td>\n",
       "    </tr>\n",
       "  </tbody>\n",
       "</table>\n",
       "</div>"
      ],
      "text/plain": [
       "   名前      給与\n",
       "0  田中  300000\n",
       "1  鈴木  400000\n",
       "2  佐藤  350000\n",
       "3  高橋  380000\n",
       "4  山田  320000"
      ]
     },
     "execution_count": 8,
     "metadata": {},
     "output_type": "execute_result"
    }
   ],
   "source": [
    "# 複数の列を選ぶ（ExcelでCtrlを押しながら複数列を選ぶような感じ）\n",
    "print(\"名前と給与の列:\")\n",
    "df[['名前', '給与']]"
   ]
  },
  {
   "cell_type": "markdown",
   "id": "excel-comparison2",
   "metadata": {},
   "source": [
    "### 📊 Excel との比較\n",
    "- **Excel**: 列のヘッダーをクリックして選択\n",
    "- **Pandas**: `df['列名']` または `df[['列1', '列2']]`"
   ]
  },
  {
   "cell_type": "markdown",
   "id": "section4",
   "metadata": {},
   "source": [
    "## 4. フィルタリング - Excelのオートフィルタのように"
   ]
  },
  {
   "cell_type": "code",
   "execution_count": 9,
   "id": "simple-filter",
   "metadata": {},
   "outputs": [
    {
     "name": "stdout",
     "output_type": "stream",
     "text": [
      "30歳以上の社員:\n"
     ]
    },
    {
     "data": {
      "text/html": [
       "<div>\n",
       "<style scoped>\n",
       "    .dataframe tbody tr th:only-of-type {\n",
       "        vertical-align: middle;\n",
       "    }\n",
       "\n",
       "    .dataframe tbody tr th {\n",
       "        vertical-align: top;\n",
       "    }\n",
       "\n",
       "    .dataframe thead th {\n",
       "        text-align: right;\n",
       "    }\n",
       "</style>\n",
       "<table border=\"1\" class=\"dataframe\">\n",
       "  <thead>\n",
       "    <tr style=\"text-align: right;\">\n",
       "      <th></th>\n",
       "      <th>名前</th>\n",
       "      <th>部署</th>\n",
       "      <th>年齢</th>\n",
       "      <th>給与</th>\n",
       "    </tr>\n",
       "  </thead>\n",
       "  <tbody>\n",
       "    <tr>\n",
       "      <th>1</th>\n",
       "      <td>鈴木</td>\n",
       "      <td>IT</td>\n",
       "      <td>30</td>\n",
       "      <td>400000</td>\n",
       "    </tr>\n",
       "    <tr>\n",
       "      <th>2</th>\n",
       "      <td>佐藤</td>\n",
       "      <td>営業</td>\n",
       "      <td>35</td>\n",
       "      <td>350000</td>\n",
       "    </tr>\n",
       "    <tr>\n",
       "      <th>4</th>\n",
       "      <td>山田</td>\n",
       "      <td>人事</td>\n",
       "      <td>33</td>\n",
       "      <td>320000</td>\n",
       "    </tr>\n",
       "  </tbody>\n",
       "</table>\n",
       "</div>"
      ],
      "text/plain": [
       "   名前  部署  年齢      給与\n",
       "1  鈴木  IT  30  400000\n",
       "2  佐藤  営業  35  350000\n",
       "4  山田  人事  33  320000"
      ]
     },
     "execution_count": 9,
     "metadata": {},
     "output_type": "execute_result"
    }
   ],
   "source": [
    "# 年齢が30歳以上の人だけ表示\n",
    "print(\"30歳以上の社員:\")\n",
    "df[df['年齢'] >= 30]"
   ]
  },
  {
   "cell_type": "code",
   "execution_count": 10,
   "id": "filter-dept",
   "metadata": {},
   "outputs": [
    {
     "name": "stdout",
     "output_type": "stream",
     "text": [
      "IT部署の社員:\n"
     ]
    },
    {
     "data": {
      "text/html": [
       "<div>\n",
       "<style scoped>\n",
       "    .dataframe tbody tr th:only-of-type {\n",
       "        vertical-align: middle;\n",
       "    }\n",
       "\n",
       "    .dataframe tbody tr th {\n",
       "        vertical-align: top;\n",
       "    }\n",
       "\n",
       "    .dataframe thead th {\n",
       "        text-align: right;\n",
       "    }\n",
       "</style>\n",
       "<table border=\"1\" class=\"dataframe\">\n",
       "  <thead>\n",
       "    <tr style=\"text-align: right;\">\n",
       "      <th></th>\n",
       "      <th>名前</th>\n",
       "      <th>部署</th>\n",
       "      <th>年齢</th>\n",
       "      <th>給与</th>\n",
       "    </tr>\n",
       "  </thead>\n",
       "  <tbody>\n",
       "    <tr>\n",
       "      <th>1</th>\n",
       "      <td>鈴木</td>\n",
       "      <td>IT</td>\n",
       "      <td>30</td>\n",
       "      <td>400000</td>\n",
       "    </tr>\n",
       "    <tr>\n",
       "      <th>3</th>\n",
       "      <td>高橋</td>\n",
       "      <td>IT</td>\n",
       "      <td>28</td>\n",
       "      <td>380000</td>\n",
       "    </tr>\n",
       "  </tbody>\n",
       "</table>\n",
       "</div>"
      ],
      "text/plain": [
       "   名前  部署  年齢      給与\n",
       "1  鈴木  IT  30  400000\n",
       "3  高橋  IT  28  380000"
      ]
     },
     "execution_count": 10,
     "metadata": {},
     "output_type": "execute_result"
    }
   ],
   "source": [
    "# IT部署の人だけ表示\n",
    "print(\"IT部署の社員:\")\n",
    "df[df['部署'] == 'IT']"
   ]
  },
  {
   "cell_type": "code",
   "execution_count": 11,
   "id": "multiple-filter",
   "metadata": {},
   "outputs": [
    {
     "name": "stdout",
     "output_type": "stream",
     "text": [
      "営業部で給与35万以上:\n"
     ]
    },
    {
     "data": {
      "text/html": [
       "<div>\n",
       "<style scoped>\n",
       "    .dataframe tbody tr th:only-of-type {\n",
       "        vertical-align: middle;\n",
       "    }\n",
       "\n",
       "    .dataframe tbody tr th {\n",
       "        vertical-align: top;\n",
       "    }\n",
       "\n",
       "    .dataframe thead th {\n",
       "        text-align: right;\n",
       "    }\n",
       "</style>\n",
       "<table border=\"1\" class=\"dataframe\">\n",
       "  <thead>\n",
       "    <tr style=\"text-align: right;\">\n",
       "      <th></th>\n",
       "      <th>名前</th>\n",
       "      <th>部署</th>\n",
       "      <th>年齢</th>\n",
       "      <th>給与</th>\n",
       "    </tr>\n",
       "  </thead>\n",
       "  <tbody>\n",
       "    <tr>\n",
       "      <th>2</th>\n",
       "      <td>佐藤</td>\n",
       "      <td>営業</td>\n",
       "      <td>35</td>\n",
       "      <td>350000</td>\n",
       "    </tr>\n",
       "  </tbody>\n",
       "</table>\n",
       "</div>"
      ],
      "text/plain": [
       "   名前  部署  年齢      給与\n",
       "2  佐藤  営業  35  350000"
      ]
     },
     "execution_count": 11,
     "metadata": {},
     "output_type": "execute_result"
    }
   ],
   "source": [
    "# 複数条件（営業部で給与35万以上）\n",
    "print(\"営業部で給与35万以上:\")\n",
    "df[(df['部署'] == '営業') & (df['給与'] >= 350000)]"
   ]
  },
  {
   "cell_type": "markdown",
   "id": "excel-comparison3",
   "metadata": {},
   "source": [
    "### 📊 Excel との比較\n",
    "- **Excel**: オートフィルタで条件を設定\n",
    "- **Pandas**: `df[条件]` で条件に合う行を抽出"
   ]
  },
  {
   "cell_type": "markdown",
   "id": "section5",
   "metadata": {},
   "source": [
    "## 5. 並べ替え - Excelのソート機能のように"
   ]
  },
  {
   "cell_type": "code",
   "execution_count": 12,
   "id": "sort-data",
   "metadata": {},
   "outputs": [
    {
     "name": "stdout",
     "output_type": "stream",
     "text": [
      "給与の高い順:\n"
     ]
    },
    {
     "data": {
      "text/html": [
       "<div>\n",
       "<style scoped>\n",
       "    .dataframe tbody tr th:only-of-type {\n",
       "        vertical-align: middle;\n",
       "    }\n",
       "\n",
       "    .dataframe tbody tr th {\n",
       "        vertical-align: top;\n",
       "    }\n",
       "\n",
       "    .dataframe thead th {\n",
       "        text-align: right;\n",
       "    }\n",
       "</style>\n",
       "<table border=\"1\" class=\"dataframe\">\n",
       "  <thead>\n",
       "    <tr style=\"text-align: right;\">\n",
       "      <th></th>\n",
       "      <th>名前</th>\n",
       "      <th>部署</th>\n",
       "      <th>年齢</th>\n",
       "      <th>給与</th>\n",
       "    </tr>\n",
       "  </thead>\n",
       "  <tbody>\n",
       "    <tr>\n",
       "      <th>1</th>\n",
       "      <td>鈴木</td>\n",
       "      <td>IT</td>\n",
       "      <td>30</td>\n",
       "      <td>400000</td>\n",
       "    </tr>\n",
       "    <tr>\n",
       "      <th>3</th>\n",
       "      <td>高橋</td>\n",
       "      <td>IT</td>\n",
       "      <td>28</td>\n",
       "      <td>380000</td>\n",
       "    </tr>\n",
       "    <tr>\n",
       "      <th>2</th>\n",
       "      <td>佐藤</td>\n",
       "      <td>営業</td>\n",
       "      <td>35</td>\n",
       "      <td>350000</td>\n",
       "    </tr>\n",
       "    <tr>\n",
       "      <th>4</th>\n",
       "      <td>山田</td>\n",
       "      <td>人事</td>\n",
       "      <td>33</td>\n",
       "      <td>320000</td>\n",
       "    </tr>\n",
       "    <tr>\n",
       "      <th>0</th>\n",
       "      <td>田中</td>\n",
       "      <td>営業</td>\n",
       "      <td>25</td>\n",
       "      <td>300000</td>\n",
       "    </tr>\n",
       "  </tbody>\n",
       "</table>\n",
       "</div>"
      ],
      "text/plain": [
       "   名前  部署  年齢      給与\n",
       "1  鈴木  IT  30  400000\n",
       "3  高橋  IT  28  380000\n",
       "2  佐藤  営業  35  350000\n",
       "4  山田  人事  33  320000\n",
       "0  田中  営業  25  300000"
      ]
     },
     "execution_count": 12,
     "metadata": {},
     "output_type": "execute_result"
    }
   ],
   "source": [
    "# 給与の高い順に並べ替え。ascending=上昇する。 True =上昇する（昇順）、False=上昇しない（降順）\n",
    "print(\"給与の高い順:\")\n",
    "df.sort_values('給与', ascending=False)"
   ]
  },
  {
   "cell_type": "code",
   "execution_count": 13,
   "id": "sort-age",
   "metadata": {},
   "outputs": [
    {
     "name": "stdout",
     "output_type": "stream",
     "text": [
      "年齢の若い順:\n"
     ]
    },
    {
     "data": {
      "text/html": [
       "<div>\n",
       "<style scoped>\n",
       "    .dataframe tbody tr th:only-of-type {\n",
       "        vertical-align: middle;\n",
       "    }\n",
       "\n",
       "    .dataframe tbody tr th {\n",
       "        vertical-align: top;\n",
       "    }\n",
       "\n",
       "    .dataframe thead th {\n",
       "        text-align: right;\n",
       "    }\n",
       "</style>\n",
       "<table border=\"1\" class=\"dataframe\">\n",
       "  <thead>\n",
       "    <tr style=\"text-align: right;\">\n",
       "      <th></th>\n",
       "      <th>名前</th>\n",
       "      <th>部署</th>\n",
       "      <th>年齢</th>\n",
       "      <th>給与</th>\n",
       "    </tr>\n",
       "  </thead>\n",
       "  <tbody>\n",
       "    <tr>\n",
       "      <th>0</th>\n",
       "      <td>田中</td>\n",
       "      <td>営業</td>\n",
       "      <td>25</td>\n",
       "      <td>300000</td>\n",
       "    </tr>\n",
       "    <tr>\n",
       "      <th>3</th>\n",
       "      <td>高橋</td>\n",
       "      <td>IT</td>\n",
       "      <td>28</td>\n",
       "      <td>380000</td>\n",
       "    </tr>\n",
       "    <tr>\n",
       "      <th>1</th>\n",
       "      <td>鈴木</td>\n",
       "      <td>IT</td>\n",
       "      <td>30</td>\n",
       "      <td>400000</td>\n",
       "    </tr>\n",
       "    <tr>\n",
       "      <th>4</th>\n",
       "      <td>山田</td>\n",
       "      <td>人事</td>\n",
       "      <td>33</td>\n",
       "      <td>320000</td>\n",
       "    </tr>\n",
       "    <tr>\n",
       "      <th>2</th>\n",
       "      <td>佐藤</td>\n",
       "      <td>営業</td>\n",
       "      <td>35</td>\n",
       "      <td>350000</td>\n",
       "    </tr>\n",
       "  </tbody>\n",
       "</table>\n",
       "</div>"
      ],
      "text/plain": [
       "   名前  部署  年齢      給与\n",
       "0  田中  営業  25  300000\n",
       "3  高橋  IT  28  380000\n",
       "1  鈴木  IT  30  400000\n",
       "4  山田  人事  33  320000\n",
       "2  佐藤  営業  35  350000"
      ]
     },
     "execution_count": 13,
     "metadata": {},
     "output_type": "execute_result"
    }
   ],
   "source": [
    "# 年齢の若い順に並べ替え。 ascendingを省略すると、昇順になる。基本は明示的につけるべき。\n",
    "print(\"年齢の若い順:\")\n",
    "df.sort_values('年齢')"
   ]
  },
  {
   "cell_type": "markdown",
   "id": "section6",
   "metadata": {},
   "source": [
    "## 6. 基本的な集計 - ExcelのSUM、AVERAGE関数のように"
   ]
  },
  {
   "cell_type": "code",
   "execution_count": 14,
   "id": "basic-stats",
   "metadata": {},
   "outputs": [
    {
     "name": "stdout",
     "output_type": "stream",
     "text": [
      "給与の合計: 1,750,000円\n",
      "給与の平均: 350,000円\n",
      "最高給与: 400,000円\n",
      "最低給与: 300,000円\n"
     ]
    }
   ],
   "source": [
    "# 基本的な統計\n",
    "print(f\"給与の合計: {df['給与'].sum():,}円\")\n",
    "print(f\"給与の平均: {df['給与'].mean():,.0f}円\")\n",
    "print(f\"最高給与: {df['給与'].max():,}円\")\n",
    "print(f\"最低給与: {df['給与'].min():,}円\")"
   ]
  },
  {
   "cell_type": "code",
   "execution_count": 15,
   "id": "group-stats",
   "metadata": {},
   "outputs": [
    {
     "name": "stdout",
     "output_type": "stream",
     "text": [
      "部署ごとの平均給与:\n"
     ]
    },
    {
     "data": {
      "text/plain": [
       "部署\n",
       "IT    390000.0\n",
       "人事    320000.0\n",
       "営業    325000.0\n",
       "Name: 給与, dtype: float64"
      ]
     },
     "execution_count": 15,
     "metadata": {},
     "output_type": "execute_result"
    }
   ],
   "source": [
    "# 部署ごとの平均給与（Excelのピボットテーブルのようなもの）\n",
    "print(\"部署ごとの平均給与:\")\n",
    "df.groupby('部署')['給与'].mean()"
   ]
  },
  {
   "cell_type": "markdown",
   "id": "excel-comparison4",
   "metadata": {},
   "source": [
    "### 📊 Excel との比較\n",
    "- **Excel**: SUM()、AVERAGE()、MAX()、MIN()関数\n",
    "- **Pandas**: `.sum()`、`.mean()`、`.max()`、`.min()`メソッド"
   ]
  },
  {
   "cell_type": "markdown",
   "id": "section7",
   "metadata": {},
   "source": [
    "## 7. 新しい列を追加 - Excelで計算列を作るように"
   ]
  },
  {
   "cell_type": "code",
   "execution_count": 18,
   "id": "add-column",
   "metadata": {},
   "outputs": [
    {
     "name": "stdout",
     "output_type": "stream",
     "text": [
      "ボーナス列を追加:\n"
     ]
    },
    {
     "data": {
      "text/html": [
       "<div>\n",
       "<style scoped>\n",
       "    .dataframe tbody tr th:only-of-type {\n",
       "        vertical-align: middle;\n",
       "    }\n",
       "\n",
       "    .dataframe tbody tr th {\n",
       "        vertical-align: top;\n",
       "    }\n",
       "\n",
       "    .dataframe thead th {\n",
       "        text-align: right;\n",
       "    }\n",
       "</style>\n",
       "<table border=\"1\" class=\"dataframe\">\n",
       "  <thead>\n",
       "    <tr style=\"text-align: right;\">\n",
       "      <th></th>\n",
       "      <th>名前</th>\n",
       "      <th>部署</th>\n",
       "      <th>年齢</th>\n",
       "      <th>給与</th>\n",
       "      <th>ボーナス</th>\n",
       "      <th>年収</th>\n",
       "    </tr>\n",
       "  </thead>\n",
       "  <tbody>\n",
       "    <tr>\n",
       "      <th>0</th>\n",
       "      <td>田中</td>\n",
       "      <td>営業</td>\n",
       "      <td>25</td>\n",
       "      <td>300000</td>\n",
       "      <td>450000.0</td>\n",
       "      <td>3720000.0</td>\n",
       "    </tr>\n",
       "    <tr>\n",
       "      <th>1</th>\n",
       "      <td>鈴木</td>\n",
       "      <td>IT</td>\n",
       "      <td>30</td>\n",
       "      <td>400000</td>\n",
       "      <td>600000.0</td>\n",
       "      <td>4960000.0</td>\n",
       "    </tr>\n",
       "    <tr>\n",
       "      <th>2</th>\n",
       "      <td>佐藤</td>\n",
       "      <td>営業</td>\n",
       "      <td>35</td>\n",
       "      <td>350000</td>\n",
       "      <td>525000.0</td>\n",
       "      <td>4340000.0</td>\n",
       "    </tr>\n",
       "    <tr>\n",
       "      <th>3</th>\n",
       "      <td>高橋</td>\n",
       "      <td>IT</td>\n",
       "      <td>28</td>\n",
       "      <td>380000</td>\n",
       "      <td>570000.0</td>\n",
       "      <td>4712000.0</td>\n",
       "    </tr>\n",
       "    <tr>\n",
       "      <th>4</th>\n",
       "      <td>山田</td>\n",
       "      <td>人事</td>\n",
       "      <td>33</td>\n",
       "      <td>320000</td>\n",
       "      <td>480000.0</td>\n",
       "      <td>3968000.0</td>\n",
       "    </tr>\n",
       "  </tbody>\n",
       "</table>\n",
       "</div>"
      ],
      "text/plain": [
       "   名前  部署  年齢      給与      ボーナス         年収\n",
       "0  田中  営業  25  300000  450000.0  3720000.0\n",
       "1  鈴木  IT  30  400000  600000.0  4960000.0\n",
       "2  佐藤  営業  35  350000  525000.0  4340000.0\n",
       "3  高橋  IT  28  380000  570000.0  4712000.0\n",
       "4  山田  人事  33  320000  480000.0  3968000.0"
      ]
     },
     "execution_count": 18,
     "metadata": {},
     "output_type": "execute_result"
    }
   ],
   "source": [
    "# ボーナス列を追加（給与の20%）\n",
    "df['ボーナス'] = df['給与'] * 1.5\n",
    "\n",
    "print(\"ボーナス列を追加:\")\n",
    "df"
   ]
  },
  {
   "cell_type": "code",
   "execution_count": 19,
   "id": "add-total",
   "metadata": {},
   "outputs": [
    {
     "name": "stdout",
     "output_type": "stream",
     "text": [
      "年収列を追加:\n"
     ]
    },
    {
     "data": {
      "text/html": [
       "<div>\n",
       "<style scoped>\n",
       "    .dataframe tbody tr th:only-of-type {\n",
       "        vertical-align: middle;\n",
       "    }\n",
       "\n",
       "    .dataframe tbody tr th {\n",
       "        vertical-align: top;\n",
       "    }\n",
       "\n",
       "    .dataframe thead th {\n",
       "        text-align: right;\n",
       "    }\n",
       "</style>\n",
       "<table border=\"1\" class=\"dataframe\">\n",
       "  <thead>\n",
       "    <tr style=\"text-align: right;\">\n",
       "      <th></th>\n",
       "      <th>名前</th>\n",
       "      <th>給与</th>\n",
       "      <th>ボーナス</th>\n",
       "      <th>年収</th>\n",
       "    </tr>\n",
       "  </thead>\n",
       "  <tbody>\n",
       "    <tr>\n",
       "      <th>0</th>\n",
       "      <td>田中</td>\n",
       "      <td>300000</td>\n",
       "      <td>450000.0</td>\n",
       "      <td>4500000.0</td>\n",
       "    </tr>\n",
       "    <tr>\n",
       "      <th>1</th>\n",
       "      <td>鈴木</td>\n",
       "      <td>400000</td>\n",
       "      <td>600000.0</td>\n",
       "      <td>6000000.0</td>\n",
       "    </tr>\n",
       "    <tr>\n",
       "      <th>2</th>\n",
       "      <td>佐藤</td>\n",
       "      <td>350000</td>\n",
       "      <td>525000.0</td>\n",
       "      <td>5250000.0</td>\n",
       "    </tr>\n",
       "    <tr>\n",
       "      <th>3</th>\n",
       "      <td>高橋</td>\n",
       "      <td>380000</td>\n",
       "      <td>570000.0</td>\n",
       "      <td>5700000.0</td>\n",
       "    </tr>\n",
       "    <tr>\n",
       "      <th>4</th>\n",
       "      <td>山田</td>\n",
       "      <td>320000</td>\n",
       "      <td>480000.0</td>\n",
       "      <td>4800000.0</td>\n",
       "    </tr>\n",
       "  </tbody>\n",
       "</table>\n",
       "</div>"
      ],
      "text/plain": [
       "   名前      給与      ボーナス         年収\n",
       "0  田中  300000  450000.0  4500000.0\n",
       "1  鈴木  400000  600000.0  6000000.0\n",
       "2  佐藤  350000  525000.0  5250000.0\n",
       "3  高橋  380000  570000.0  5700000.0\n",
       "4  山田  320000  480000.0  4800000.0"
      ]
     },
     "execution_count": 19,
     "metadata": {},
     "output_type": "execute_result"
    }
   ],
   "source": [
    "# 年収列を追加（給与×12 + ボーナス×2）\n",
    "df['年収'] = df['給与'] * 12 + df['ボーナス'] * 2\n",
    "\n",
    "print(\"年収列を追加:\")\n",
    "df[['名前', '給与', 'ボーナス', '年収']]"
   ]
  },
  {
   "cell_type": "markdown",
   "id": "section8",
   "metadata": {},
   "source": [
    "## 8. CSVファイルの読み書き - Excelファイルの保存・読み込みのように"
   ]
  },
  {
   "cell_type": "code",
   "execution_count": null,
   "id": "save-csv",
   "metadata": {},
   "outputs": [],
   "source": [
    "# CSVファイルに保存\n",
    "df.to_csv('社員リスト.csv', index=False, encoding='utf-8-sig')\n",
    "print(\"'社員リスト.csv'として保存しました\")"
   ]
  },
  {
   "cell_type": "code",
   "execution_count": null,
   "id": "read-csv",
   "metadata": {},
   "outputs": [],
   "source": [
    "# CSVファイルから読み込み\n",
    "df_読み込み = pd.read_csv('社員リスト.csv')\n",
    "print(\"CSVファイルから読み込み:\")\n",
    "df_読み込み"
   ]
  },
  {
   "cell_type": "markdown",
   "id": "practice",
   "metadata": {},
   "source": [
    "## 🎯 練習問題（簡単なものだけ）"
   ]
  },
  {
   "cell_type": "markdown",
   "id": "exercise1",
   "metadata": {},
   "source": [
    "### 練習1: 商品リストを作成\n",
    "以下のような商品リストを作ってみましょう：\n",
    "- 商品名: りんご、みかん、バナナ、ぶどう、いちご\n",
    "- 価格: 100, 80, 50, 200, 300\n",
    "- 在庫: 50, 100, 80, 30, 20"
   ]
  },
  {
   "cell_type": "code",
   "execution_count": 24,
   "id": "practice1",
   "metadata": {},
   "outputs": [
    {
     "name": "stdout",
     "output_type": "stream",
     "text": [
      "商品データ:\n"
     ]
    },
    {
     "data": {
      "text/html": [
       "<div>\n",
       "<style scoped>\n",
       "    .dataframe tbody tr th:only-of-type {\n",
       "        vertical-align: middle;\n",
       "    }\n",
       "\n",
       "    .dataframe tbody tr th {\n",
       "        vertical-align: top;\n",
       "    }\n",
       "\n",
       "    .dataframe thead th {\n",
       "        text-align: right;\n",
       "    }\n",
       "</style>\n",
       "<table border=\"1\" class=\"dataframe\">\n",
       "  <thead>\n",
       "    <tr style=\"text-align: right;\">\n",
       "      <th></th>\n",
       "      <th>商品名</th>\n",
       "      <th>価格</th>\n",
       "      <th>在庫</th>\n",
       "    </tr>\n",
       "  </thead>\n",
       "  <tbody>\n",
       "    <tr>\n",
       "      <th>0</th>\n",
       "      <td>りんご</td>\n",
       "      <td>100</td>\n",
       "      <td>50</td>\n",
       "    </tr>\n",
       "    <tr>\n",
       "      <th>1</th>\n",
       "      <td>みかん</td>\n",
       "      <td>80</td>\n",
       "      <td>100</td>\n",
       "    </tr>\n",
       "    <tr>\n",
       "      <th>2</th>\n",
       "      <td>バナナ</td>\n",
       "      <td>50</td>\n",
       "      <td>80</td>\n",
       "    </tr>\n",
       "    <tr>\n",
       "      <th>3</th>\n",
       "      <td>ぶどう</td>\n",
       "      <td>200</td>\n",
       "      <td>30</td>\n",
       "    </tr>\n",
       "    <tr>\n",
       "      <th>4</th>\n",
       "      <td>いちご</td>\n",
       "      <td>300</td>\n",
       "      <td>20</td>\n",
       "    </tr>\n",
       "  </tbody>\n",
       "</table>\n",
       "</div>"
      ],
      "text/plain": [
       "   商品名   価格   在庫\n",
       "0  りんご  100   50\n",
       "1  みかん   80  100\n",
       "2  バナナ   50   80\n",
       "3  ぶどう  200   30\n",
       "4  いちご  300   20"
      ]
     },
     "execution_count": 24,
     "metadata": {},
     "output_type": "execute_result"
    }
   ],
   "source": [
    "# ここに練習1のコードを書いてください\n",
    "商品データ = {\n",
    "    '商品名': ['りんご', 'みかん', 'バナナ', 'ぶどう', 'いちご'],\n",
    "    '価格': [100, 80, 50, 200, 300],\n",
    "    '在庫': [50, 100, 80, 30, 20],\n",
    "}\n",
    "\n",
    "df_商品 = pd.DataFrame(商品データ)\n",
    "\n",
    "print(\"商品データ:\")\n",
    "df_商品"
   ]
  },
  {
   "cell_type": "markdown",
   "id": "exercise2",
   "metadata": {},
   "source": [
    "### 練習2: フィルタリングと集計\n",
    "上で作った商品リストから：\n",
    "1. 価格が100円以上の商品を表示\n",
    "2. 全商品の在庫数の合計を計算"
   ]
  },
  {
   "cell_type": "code",
   "execution_count": 31,
   "id": "practice2",
   "metadata": {},
   "outputs": [
    {
     "name": "stdout",
     "output_type": "stream",
     "text": [
      "価格が100円以上:\n",
      "\n",
      "全商品の在庫数合計: 280個\n"
     ]
    }
   ],
   "source": [
    "# ここに練習2のコードを書いてください\n",
    "# 1. 価格が100円以上の商品\n",
    "print(\"価格が100円以上:\")\n",
    "df_商品[df_商品['価格'] >= 100]\n",
    "\n",
    "# 2. 在庫数の合計\n",
    "print(f\"\\n全商品の在庫数合計: {df_商品['在庫'].sum()}個\")"
   ]
  },
  {
   "cell_type": "markdown",
   "id": "solutions",
   "metadata": {},
   "source": [
    "## 💡 練習問題の解答"
   ]
  },
  {
   "cell_type": "code",
   "execution_count": null,
   "id": "solution1",
   "metadata": {},
   "outputs": [],
   "source": [
    "# 練習1の解答\n",
    "商品データ = {\n",
    "    '商品名': ['りんご', 'みかん', 'バナナ', 'ぶどう', 'いちご'],\n",
    "    '価格': [100, 80, 50, 200, 300],\n",
    "    '在庫': [50, 100, 80, 30, 20]\n",
    "}\n",
    "\n",
    "df_商品 = pd.DataFrame(商品データ)\n",
    "print(\"商品リスト:\")\n",
    "df_商品"
   ]
  },
  {
   "cell_type": "code",
   "execution_count": null,
   "id": "solution2",
   "metadata": {},
   "outputs": [],
   "source": [
    "# 練習2の解答\n",
    "# 1. 価格が100円以上の商品\n",
    "print(\"価格が100円以上の商品:\")\n",
    "print(df_商品[df_商品['価格'] >= 100])\n",
    "\n",
    "# 2. 在庫数の合計\n",
    "print(f\"\\n全商品の在庫数合計: {df_商品['在庫'].sum()}個\")"
   ]
  },
  {
   "cell_type": "markdown",
   "id": "summary",
   "metadata": {},
   "source": [
    "## まとめ\n",
    "\n",
    "### 今日覚えたこと（最小限）\n",
    "\n",
    "1. **データを作る**: `pd.DataFrame(辞書)`\n",
    "2. **データを見る**: `df.head()`、`len(df)`\n",
    "3. **列を選ぶ**: `df['列名']`\n",
    "4. **フィルタリング**: `df[df['列'] > 値]`\n",
    "5. **並べ替え**: `df.sort_values('列名')`\n",
    "6. **集計**: `.sum()`、`.mean()`、`.max()`、`.min()`\n",
    "7. **新しい列**: `df['新列'] = 計算式`\n",
    "8. **保存・読込**: `to_csv()`、`read_csv()`\n",
    "\n",
    "### 🎯 次のステップ\n",
    "これらの基本操作を何度も練習して、手が自然に動くようになることが大切です。\n",
    "Excelでできることの多くは、Pandasでも同じようにできます！"
   ]
  }
 ],
 "metadata": {
  "kernelspec": {
   "display_name": "Python 3 (ipykernel)",
   "language": "python",
   "name": "python3"
  },
  "language_info": {
   "codemirror_mode": {
    "name": "ipython",
    "version": 3
   },
   "file_extension": ".py",
   "mimetype": "text/x-python",
   "name": "python",
   "nbconvert_exporter": "python",
   "pygments_lexer": "ipython3",
   "version": "3.11.13"
  }
 },
 "nbformat": 4,
 "nbformat_minor": 5
}
