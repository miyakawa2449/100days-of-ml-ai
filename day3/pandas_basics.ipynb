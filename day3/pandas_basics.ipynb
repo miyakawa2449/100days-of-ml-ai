{
 "cells": [
  {
   "cell_type": "markdown",
   "id": "header",
   "metadata": {},
   "source": [
    "# Day 3: Pandas基礎① - DataFrame操作\n",
    "\n",
    "## 学習目標\n",
    "- PandasのDataFrameの基本的な使い方を理解する\n",
    "- データの作成、選択、フィルタリングを習得する\n",
    "- 統計情報の取得とCSV操作を学ぶ\n",
    "- 実践的なデータ操作スキルを身につける"
   ]
  },
  {
   "cell_type": "markdown",
   "id": "section1",
   "metadata": {},
   "source": [
    "## 1. Pandasのインポートと基本"
   ]
  },
  {
   "cell_type": "code",
   "execution_count": 1,
   "id": "import",
   "metadata": {},
   "outputs": [
    {
     "name": "stdout",
     "output_type": "stream",
     "text": [
      "Pandas version: 2.3.1\n"
     ]
    }
   ],
   "source": [
    "import pandas as pd\n",
    "import numpy as np\n",
    "\n",
    "# Pandasのバージョン確認\n",
    "print(f\"Pandas version: {pd.__version__}\")"
   ]
  },
  {
   "cell_type": "markdown",
   "id": "section2",
   "metadata": {},
   "source": [
    "## 2. DataFrameの作成"
   ]
  },
  {
   "cell_type": "code",
   "execution_count": 2,
   "id": "create-from-dict",
   "metadata": {},
   "outputs": [
    {
     "name": "stdout",
     "output_type": "stream",
     "text": [
      "辞書から作成したDataFrame:\n",
      "      name  age     city  salary\n",
      "0    Alice   25    Tokyo   50000\n",
      "1      Bob   30    Osaka   60000\n",
      "2  Charlie   35    Kyoto   55000\n",
      "3    David   28   Nagoya   52000\n",
      "4      Eve   33  Sapporo   58000\n",
      "\n",
      "型: <class 'pandas.core.frame.DataFrame'>\n",
      "形状: (5, 4)\n",
      "列名: ['name', 'age', 'city', 'salary']\n",
      "インデックス: [0, 1, 2, 3, 4]\n"
     ]
    }
   ],
   "source": [
    "# 辞書からDataFrameを作成\n",
    "data_dict = {\n",
    "    'name': ['Alice', 'Bob', 'Charlie', 'David', 'Eve'],\n",
    "    'age': [25, 30, 35, 28, 33],\n",
    "    'city': ['Tokyo', 'Osaka', 'Kyoto', 'Nagoya', 'Sapporo'],\n",
    "    'salary': [50000, 60000, 55000, 52000, 58000]\n",
    "}\n",
    "\n",
    "df = pd.DataFrame(data_dict)\n",
    "print(\"辞書から作成したDataFrame:\")\n",
    "print(df)\n",
    "print(\"\\n型:\", type(df))\n",
    "print(\"形状:\", df.shape)\n",
    "print(\"列名:\", df.columns.tolist())\n",
    "print(\"インデックス:\", df.index.tolist())"
   ]
  },
  {
   "cell_type": "code",
   "execution_count": 3,
   "id": "create-from-list",
   "metadata": {},
   "outputs": [
    {
     "name": "stdout",
     "output_type": "stream",
     "text": [
      "リストから作成したDataFrame:\n",
      "      name  age    city  salary\n",
      "0    Alice   25   Tokyo   50000\n",
      "1      Bob   30   Osaka   60000\n",
      "2  Charlie   35   Kyoto   55000\n",
      "3    David   28  Nagoya   52000\n"
     ]
    }
   ],
   "source": [
    "# リストからDataFrameを作成\n",
    "data_list = [\n",
    "    ['Alice', 25, 'Tokyo', 50000],\n",
    "    ['Bob', 30, 'Osaka', 60000],\n",
    "    ['Charlie', 35, 'Kyoto', 55000],\n",
    "    ['David', 28, 'Nagoya', 52000]\n",
    "]\n",
    "\n",
    "columns = ['name', 'age', 'city', 'salary']\n",
    "df_from_list = pd.DataFrame(data_list, columns=columns)\n",
    "\n",
    "print(\"リストから作成したDataFrame:\")\n",
    "print(df_from_list)"
   ]
  },
  {
   "cell_type": "code",
   "execution_count": 4,
   "id": "create-from-numpy",
   "metadata": {},
   "outputs": [
    {
     "name": "stdout",
     "output_type": "stream",
     "text": [
      "NumPy配列から作成したDataFrame:\n",
      "       A   B   C   D\n",
      "row1  83  67  33  80\n",
      "row2  32  97  79  67\n",
      "row3  79  86  70  64\n",
      "row4  87  95  58  28\n",
      "row5  42  84   6  55\n"
     ]
    }
   ],
   "source": [
    "# NumPy配列からDataFrameを作成\n",
    "np_data = np.random.randint(1, 100, size=(5, 4))\n",
    "df_from_numpy = pd.DataFrame(\n",
    "    np_data, \n",
    "    columns=['A', 'B', 'C', 'D'],\n",
    "    index=['row1', 'row2', 'row3', 'row4', 'row5']\n",
    ")\n",
    "\n",
    "print(\"NumPy配列から作成したDataFrame:\")\n",
    "print(df_from_numpy)"
   ]
  },
  {
   "cell_type": "code",
   "execution_count": 5,
   "id": "create-empty",
   "metadata": {},
   "outputs": [
    {
     "name": "stdout",
     "output_type": "stream",
     "text": [
      "空のDataFrame:\n",
      "Empty DataFrame\n",
      "Columns: []\n",
      "Index: []\n",
      "\n",
      "日付インデックスのDataFrame:\n",
      "                   A         B         C\n",
      "2025-01-01  1.934462 -0.608731 -0.079724\n",
      "2025-01-02  2.656073  0.482774  0.458227\n",
      "2025-01-03 -0.187513 -0.041333  1.266468\n",
      "2025-01-04  0.126678  0.254965 -0.201742\n",
      "2025-01-05  0.645702  0.040066  0.450757\n"
     ]
    }
   ],
   "source": [
    "# 空のDataFrameや特殊なDataFrameの作成\n",
    "# 空のDataFrame\n",
    "df_empty = pd.DataFrame()\n",
    "print(\"空のDataFrame:\")\n",
    "print(df_empty)\n",
    "\n",
    "# 日付インデックスを持つDataFrame\n",
    "dates = pd.date_range('2025-01-01', periods=5)\n",
    "df_dates = pd.DataFrame(\n",
    "    np.random.randn(5, 3),\n",
    "    index=dates,\n",
    "    columns=['A', 'B', 'C']\n",
    ")\n",
    "print(\"\\n日付インデックスのDataFrame:\")\n",
    "print(df_dates)"
   ]
  },
  {
   "cell_type": "markdown",
   "id": "section3",
   "metadata": {},
   "source": [
    "## 3. DataFrameの基本操作 - データの選択"
   ]
  },
  {
   "cell_type": "code",
   "execution_count": 6,
   "id": "column-selection",
   "metadata": {},
   "outputs": [
    {
     "name": "stdout",
     "output_type": "stream",
     "text": [
      "元のDataFrame:\n",
      "      name  age     city  salary\n",
      "0    Alice   25    Tokyo   50000\n",
      "1      Bob   30    Osaka   60000\n",
      "2  Charlie   35    Kyoto   55000\n",
      "3    David   28   Nagoya   52000\n",
      "4      Eve   33  Sapporo   58000\n",
      "\n",
      "==================================================\n",
      "\n",
      "単一列の選択 - df['name']:\n",
      "0      Alice\n",
      "1        Bob\n",
      "2    Charlie\n",
      "3      David\n",
      "4        Eve\n",
      "Name: name, dtype: object\n",
      "型: <class 'pandas.core.series.Series'>\n",
      "\n",
      "属性アクセス - df.name:\n",
      "0      Alice\n",
      "1        Bob\n",
      "2    Charlie\n",
      "3      David\n",
      "4        Eve\n",
      "Name: name, dtype: object\n"
     ]
    }
   ],
   "source": [
    "# 使用するDataFrame\n",
    "print(\"元のDataFrame:\")\n",
    "print(df)\n",
    "print(\"\\n\" + \"=\"*50 + \"\\n\")\n",
    "\n",
    "# 単一列の選択（Seriesが返される）\n",
    "print(\"単一列の選択 - df['name']:\")\n",
    "print(df['name'])\n",
    "print(\"型:\", type(df['name']))\n",
    "\n",
    "# 別の方法（属性アクセス）\n",
    "print(\"\\n属性アクセス - df.name:\")\n",
    "print(df.name)"
   ]
  },
  {
   "cell_type": "code",
   "execution_count": 7,
   "id": "multiple-columns",
   "metadata": {},
   "outputs": [
    {
     "name": "stdout",
     "output_type": "stream",
     "text": [
      "複数列の選択 - df[['name', 'age']]:\n",
      "      name  age\n",
      "0    Alice   25\n",
      "1      Bob   30\n",
      "2  Charlie   35\n",
      "3    David   28\n",
      "4      Eve   33\n",
      "型: <class 'pandas.core.frame.DataFrame'>\n"
     ]
    }
   ],
   "source": [
    "# 複数列の選択（DataFrameが返される）\n",
    "print(\"複数列の選択 - df[['name', 'age']]:\")\n",
    "selected_cols = df[['name', 'age']]\n",
    "print(selected_cols)\n",
    "print(\"型:\", type(selected_cols))"
   ]
  },
  {
   "cell_type": "code",
   "execution_count": 8,
   "id": "row-selection",
   "metadata": {},
   "outputs": [
    {
     "name": "stdout",
     "output_type": "stream",
     "text": [
      "ilocを使った行選択（位置ベース）:\n",
      "最初の行 - df.iloc[0]:\n",
      "name      Alice\n",
      "age          25\n",
      "city      Tokyo\n",
      "salary    50000\n",
      "Name: 0, dtype: object\n",
      "\n",
      "複数行の選択 - df.iloc[1:3]:\n",
      "      name  age   city  salary\n",
      "1      Bob   30  Osaka   60000\n",
      "2  Charlie   35  Kyoto   55000\n",
      "\n",
      "最後の行 - df.iloc[-1]:\n",
      "name          Eve\n",
      "age            33\n",
      "city      Sapporo\n",
      "salary      58000\n",
      "Name: 4, dtype: object\n"
     ]
    }
   ],
   "source": [
    "# 行の選択 - loc（ラベルベース）とiloc（位置ベース）\n",
    "print(\"ilocを使った行選択（位置ベース）:\")\n",
    "print(\"最初の行 - df.iloc[0]:\")\n",
    "print(df.iloc[0])\n",
    "\n",
    "print(\"\\n複数行の選択 - df.iloc[1:3]:\")\n",
    "print(df.iloc[1:3])\n",
    "\n",
    "print(\"\\n最後の行 - df.iloc[-1]:\")\n",
    "print(df.iloc[-1])"
   ]
  },
  {
   "cell_type": "code",
   "execution_count": 9,
   "id": "loc-selection",
   "metadata": {},
   "outputs": [
    {
     "name": "stdout",
     "output_type": "stream",
     "text": [
      "名前をインデックスに設定したDataFrame:\n",
      "         age     city  salary\n",
      "name                         \n",
      "Alice     25    Tokyo   50000\n",
      "Bob       30    Osaka   60000\n",
      "Charlie   35    Kyoto   55000\n",
      "David     28   Nagoya   52000\n",
      "Eve       33  Sapporo   58000\n",
      "\n",
      "locを使った選択 - df_indexed.loc['Alice']:\n",
      "age          25\n",
      "city      Tokyo\n",
      "salary    50000\n",
      "Name: Alice, dtype: object\n",
      "\n",
      "特定の行と列 - df_indexed.loc['Bob', 'salary']:\n",
      "60000\n"
     ]
    }
   ],
   "source": [
    "# locを使った選択（ラベルベース）\n",
    "# インデックスを設定\n",
    "df_indexed = df.set_index('name')\n",
    "print(\"名前をインデックスに設定したDataFrame:\")\n",
    "print(df_indexed)\n",
    "\n",
    "print(\"\\nlocを使った選択 - df_indexed.loc['Alice']:\")\n",
    "print(df_indexed.loc['Alice'])\n",
    "\n",
    "print(\"\\n特定の行と列 - df_indexed.loc['Bob', 'salary']:\")\n",
    "print(df_indexed.loc['Bob', 'salary'])"
   ]
  },
  {
   "cell_type": "markdown",
   "id": "section4",
   "metadata": {},
   "source": [
    "## 4. 条件によるフィルタリング"
   ]
  },
  {
   "cell_type": "code",
   "execution_count": 10,
   "id": "boolean-indexing",
   "metadata": {},
   "outputs": [
    {
     "name": "stdout",
     "output_type": "stream",
     "text": [
      "元のDataFrame:\n",
      "      name  age     city  salary\n",
      "0    Alice   25    Tokyo   50000\n",
      "1      Bob   30    Osaka   60000\n",
      "2  Charlie   35    Kyoto   55000\n",
      "3    David   28   Nagoya   52000\n",
      "4      Eve   33  Sapporo   58000\n",
      "\n",
      "年齢が30以上の人:\n",
      "      name  age     city  salary\n",
      "1      Bob   30    Osaka   60000\n",
      "2  Charlie   35    Kyoto   55000\n",
      "4      Eve   33  Sapporo   58000\n",
      "\n",
      "条件マスク (df['age'] >= 30):\n",
      "0    False\n",
      "1     True\n",
      "2     True\n",
      "3    False\n",
      "4     True\n",
      "Name: age, dtype: bool\n"
     ]
    }
   ],
   "source": [
    "# 条件によるフィルタリング\n",
    "print(\"元のDataFrame:\")\n",
    "print(df)\n",
    "\n",
    "# 単一条件\n",
    "print(\"\\n年齢が30以上の人:\")\n",
    "age_filter = df[df['age'] >= 30]\n",
    "print(age_filter)\n",
    "\n",
    "# 条件の確認（ブールマスク）\n",
    "print(\"\\n条件マスク (df['age'] >= 30):\")\n",
    "print(df['age'] >= 30)"
   ]
  },
  {
   "cell_type": "code",
   "execution_count": 11,
   "id": "multiple-conditions",
   "metadata": {},
   "outputs": [
    {
     "name": "stdout",
     "output_type": "stream",
     "text": [
      "複数条件でのフィルタリング:\n",
      "\n",
      "年齢30以上 AND 給与55000以上:\n",
      "      name  age     city  salary\n",
      "1      Bob   30    Osaka   60000\n",
      "2  Charlie   35    Kyoto   55000\n",
      "4      Eve   33  Sapporo   58000\n",
      "\n",
      "東京 OR 大阪に住んでいる人:\n",
      "    name  age   city  salary\n",
      "0  Alice   25  Tokyo   50000\n",
      "1    Bob   30  Osaka   60000\n",
      "\n",
      "isinを使った方法:\n",
      "      name  age   city  salary\n",
      "0    Alice   25  Tokyo   50000\n",
      "1      Bob   30  Osaka   60000\n",
      "2  Charlie   35  Kyoto   55000\n"
     ]
    }
   ],
   "source": [
    "# 複数条件\n",
    "print(\"複数条件でのフィルタリング:\")\n",
    "\n",
    "# AND条件\n",
    "print(\"\\n年齢30以上 AND 給与55000以上:\")\n",
    "multi_filter = df[(df['age'] >= 30) & (df['salary'] >= 55000)]\n",
    "print(multi_filter)\n",
    "\n",
    "# OR条件\n",
    "print(\"\\n東京 OR 大阪に住んでいる人:\")\n",
    "city_filter = df[(df['city'] == 'Tokyo') | (df['city'] == 'Osaka')]\n",
    "print(city_filter)\n",
    "\n",
    "# isinを使った複数値の確認\n",
    "print(\"\\nisinを使った方法:\")\n",
    "cities = ['Tokyo', 'Osaka', 'Kyoto']\n",
    "isin_filter = df[df['city'].isin(cities)]\n",
    "print(isin_filter)"
   ]
  },
  {
   "cell_type": "code",
   "execution_count": 12,
   "id": "string-conditions",
   "metadata": {},
   "outputs": [
    {
     "name": "stdout",
     "output_type": "stream",
     "text": [
      "文字列条件:\n",
      "\n",
      "名前が'C'で始まる人:\n",
      "      name  age   city  salary\n",
      "2  Charlie   35  Kyoto   55000\n",
      "\n",
      "都市名が5文字の人:\n",
      "      name  age   city  salary\n",
      "0    Alice   25  Tokyo   50000\n",
      "1      Bob   30  Osaka   60000\n",
      "2  Charlie   35  Kyoto   55000\n"
     ]
    }
   ],
   "source": [
    "# 文字列条件\n",
    "print(\"文字列条件:\")\n",
    "\n",
    "# 文字列メソッドを使った条件\n",
    "print(\"\\n名前が'C'で始まる人:\")\n",
    "name_filter = df[df['name'].str.startswith('C')]\n",
    "print(name_filter)\n",
    "\n",
    "# 文字列の長さ\n",
    "print(\"\\n都市名が5文字の人:\")\n",
    "city_len_filter = df[df['city'].str.len() == 5]\n",
    "print(city_len_filter)"
   ]
  },
  {
   "cell_type": "markdown",
   "id": "section5",
   "metadata": {},
   "source": [
    "## 5. データのソート"
   ]
  },
  {
   "cell_type": "code",
   "execution_count": 13,
   "id": "sorting",
   "metadata": {},
   "outputs": [
    {
     "name": "stdout",
     "output_type": "stream",
     "text": [
      "元のDataFrame:\n",
      "      name  age     city  salary\n",
      "0    Alice   25    Tokyo   50000\n",
      "1      Bob   30    Osaka   60000\n",
      "2  Charlie   35    Kyoto   55000\n",
      "3    David   28   Nagoya   52000\n",
      "4      Eve   33  Sapporo   58000\n",
      "\n",
      "年齢で昇順ソート:\n",
      "      name  age     city  salary\n",
      "0    Alice   25    Tokyo   50000\n",
      "3    David   28   Nagoya   52000\n",
      "1      Bob   30    Osaka   60000\n",
      "4      Eve   33  Sapporo   58000\n",
      "2  Charlie   35    Kyoto   55000\n",
      "\n",
      "給与で降順ソート:\n",
      "      name  age     city  salary\n",
      "1      Bob   30    Osaka   60000\n",
      "4      Eve   33  Sapporo   58000\n",
      "2  Charlie   35    Kyoto   55000\n",
      "3    David   28   Nagoya   52000\n",
      "0    Alice   25    Tokyo   50000\n"
     ]
    }
   ],
   "source": [
    "# ソート\n",
    "print(\"元のDataFrame:\")\n",
    "print(df)\n",
    "\n",
    "# 単一列でソート\n",
    "print(\"\\n年齢で昇順ソート:\")\n",
    "sorted_age = df.sort_values('age')\n",
    "print(sorted_age)\n",
    "\n",
    "# 降順ソート\n",
    "print(\"\\n給与で降順ソート:\")\n",
    "sorted_salary = df.sort_values('salary', ascending=False)\n",
    "print(sorted_salary)"
   ]
  },
  {
   "cell_type": "code",
   "execution_count": 14,
   "id": "multiple-sorting",
   "metadata": {},
   "outputs": [
    {
     "name": "stdout",
     "output_type": "stream",
     "text": [
      "複雑なDataFrame:\n",
      "  department     name  salary\n",
      "0      Sales    Alice   50000\n",
      "1      Sales      Bob   60000\n",
      "2         IT  Charlie   55000\n",
      "3         IT    David   55000\n",
      "4         HR      Eve   52000\n",
      "\n",
      "部署で昇順、給与で降順ソート:\n",
      "  department     name  salary\n",
      "4         HR      Eve   52000\n",
      "2         IT  Charlie   55000\n",
      "3         IT    David   55000\n",
      "1      Sales      Bob   60000\n",
      "0      Sales    Alice   50000\n"
     ]
    }
   ],
   "source": [
    "# 複数列でソート\n",
    "# より複雑なデータを作成\n",
    "df_complex = pd.DataFrame({\n",
    "    'department': ['Sales', 'Sales', 'IT', 'IT', 'HR'],\n",
    "    'name': ['Alice', 'Bob', 'Charlie', 'David', 'Eve'],\n",
    "    'salary': [50000, 60000, 55000, 55000, 52000]\n",
    "})\n",
    "\n",
    "print(\"複雑なDataFrame:\")\n",
    "print(df_complex)\n",
    "\n",
    "print(\"\\n部署で昇順、給与で降順ソート:\")\n",
    "sorted_multi = df_complex.sort_values(['department', 'salary'], \n",
    "                                     ascending=[True, False])\n",
    "print(sorted_multi)"
   ]
  },
  {
   "cell_type": "markdown",
   "id": "section6",
   "metadata": {},
   "source": [
    "## 6. 統計情報の取得"
   ]
  },
  {
   "cell_type": "code",
   "execution_count": 15,
   "id": "basic-stats",
   "metadata": {},
   "outputs": [
    {
     "name": "stdout",
     "output_type": "stream",
     "text": [
      "DataFrameの基本情報:\n",
      "<class 'pandas.core.frame.DataFrame'>\n",
      "RangeIndex: 5 entries, 0 to 4\n",
      "Data columns (total 4 columns):\n",
      " #   Column  Non-Null Count  Dtype \n",
      "---  ------  --------------  ----- \n",
      " 0   name    5 non-null      object\n",
      " 1   age     5 non-null      int64 \n",
      " 2   city    5 non-null      object\n",
      " 3   salary  5 non-null      int64 \n",
      "dtypes: int64(2), object(2)\n",
      "memory usage: 292.0+ bytes\n",
      "None\n",
      "\n",
      "==================================================\n",
      "\n",
      "数値列の統計サマリー:\n",
      "             age        salary\n",
      "count   5.000000      5.000000\n",
      "mean   30.200000  55000.000000\n",
      "std     3.962323   4123.105626\n",
      "min    25.000000  50000.000000\n",
      "25%    28.000000  52000.000000\n",
      "50%    30.000000  55000.000000\n",
      "75%    33.000000  58000.000000\n",
      "max    35.000000  60000.000000\n",
      "\n",
      "全列の統計（include='all'）:\n",
      "         name        age   city        salary\n",
      "count       5   5.000000      5      5.000000\n",
      "unique      5        NaN      5           NaN\n",
      "top     Alice        NaN  Tokyo           NaN\n",
      "freq        1        NaN      1           NaN\n",
      "mean      NaN  30.200000    NaN  55000.000000\n",
      "std       NaN   3.962323    NaN   4123.105626\n",
      "min       NaN  25.000000    NaN  50000.000000\n",
      "25%       NaN  28.000000    NaN  52000.000000\n",
      "50%       NaN  30.000000    NaN  55000.000000\n",
      "75%       NaN  33.000000    NaN  58000.000000\n",
      "max       NaN  35.000000    NaN  60000.000000\n"
     ]
    }
   ],
   "source": [
    "# 基本的な統計情報\n",
    "print(\"DataFrameの基本情報:\")\n",
    "print(df.info())\n",
    "\n",
    "print(\"\\n\" + \"=\"*50)\n",
    "print(\"\\n数値列の統計サマリー:\")\n",
    "print(df.describe())\n",
    "\n",
    "# 全ての列を含むdescribe\n",
    "print(\"\\n全列の統計（include='all'）:\")\n",
    "print(df.describe(include='all'))"
   ]
  },
  {
   "cell_type": "code",
   "execution_count": 16,
   "id": "individual-stats",
   "metadata": {},
   "outputs": [
    {
     "name": "stdout",
     "output_type": "stream",
     "text": [
      "個別の統計量:\n",
      "\n",
      "年齢の平均: 30.20\n",
      "年齢の中央値: 30.0\n",
      "年齢の標準偏差: 3.96\n",
      "年齢の最小値: 25\n",
      "年齢の最大値: 35\n",
      "\n",
      "複数列の統計:\n",
      "age          30.2\n",
      "salary    55000.0\n",
      "dtype: float64\n"
     ]
    }
   ],
   "source": [
    "# 個別の統計量\n",
    "print(\"個別の統計量:\")\n",
    "print(f\"\\n年齢の平均: {df['age'].mean():.2f}\")\n",
    "print(f\"年齢の中央値: {df['age'].median()}\")\n",
    "print(f\"年齢の標準偏差: {df['age'].std():.2f}\")\n",
    "print(f\"年齢の最小値: {df['age'].min()}\")\n",
    "print(f\"年齢の最大値: {df['age'].max()}\")\n",
    "\n",
    "# 複数列の統計\n",
    "print(\"\\n複数列の統計:\")\n",
    "print(df[['age', 'salary']].mean())"
   ]
  },
  {
   "cell_type": "code",
   "execution_count": 17,
   "id": "value-counts",
   "metadata": {},
   "outputs": [
    {
     "name": "stdout",
     "output_type": "stream",
     "text": [
      "都市ごとの人数:\n",
      "city\n",
      "Tokyo      1\n",
      "Osaka      1\n",
      "Kyoto      1\n",
      "Nagoya     1\n",
      "Sapporo    1\n",
      "Name: count, dtype: int64\n",
      "\n",
      "都市ごとの割合:\n",
      "city\n",
      "Tokyo      0.2\n",
      "Osaka      0.2\n",
      "Kyoto      0.2\n",
      "Nagoya     0.2\n",
      "Sapporo    0.2\n",
      "Name: proportion, dtype: float64\n"
     ]
    }
   ],
   "source": [
    "# 値のカウント\n",
    "print(\"都市ごとの人数:\")\n",
    "print(df['city'].value_counts())\n",
    "\n",
    "# 正規化（割合）\n",
    "print(\"\\n都市ごとの割合:\")\n",
    "print(df['city'].value_counts(normalize=True))"
   ]
  },
  {
   "cell_type": "markdown",
   "id": "section7",
   "metadata": {},
   "source": [
    "## 7. グループ化と集計"
   ]
  },
  {
   "cell_type": "code",
   "execution_count": 18,
   "id": "groupby",
   "metadata": {},
   "outputs": [
    {
     "name": "stdout",
     "output_type": "stream",
     "text": [
      "従業員データ:\n",
      "      name department  age  salary\n",
      "0    Alice      Sales   25   50000\n",
      "1      Bob         IT   30   65000\n",
      "2  Charlie      Sales   35   55000\n",
      "3    David         IT   28   60000\n",
      "4      Eve         HR   33   52000\n",
      "5    Frank      Sales   27   48000\n",
      "\n",
      "部署ごとの平均給与:\n",
      "department\n",
      "HR       52000.0\n",
      "IT       62500.0\n",
      "Sales    51000.0\n",
      "Name: salary, dtype: float64\n"
     ]
    }
   ],
   "source": [
    "# より詳細なデータを作成\n",
    "df_employees = pd.DataFrame({\n",
    "    'name': ['Alice', 'Bob', 'Charlie', 'David', 'Eve', 'Frank'],\n",
    "    'department': ['Sales', 'IT', 'Sales', 'IT', 'HR', 'Sales'],\n",
    "    'age': [25, 30, 35, 28, 33, 27],\n",
    "    'salary': [50000, 65000, 55000, 60000, 52000, 48000]\n",
    "})\n",
    "\n",
    "print(\"従業員データ:\")\n",
    "print(df_employees)\n",
    "\n",
    "# グループ化と平均\n",
    "print(\"\\n部署ごとの平均給与:\")\n",
    "dept_avg = df_employees.groupby('department')['salary'].mean()\n",
    "print(dept_avg)"
   ]
  },
  {
   "cell_type": "code",
   "execution_count": 19,
   "id": "multiple-aggregations",
   "metadata": {},
   "outputs": [
    {
     "name": "stdout",
     "output_type": "stream",
     "text": [
      "複数の集計関数:\n",
      "             salary                 age  name\n",
      "               mean    min    max  mean count\n",
      "department                                   \n",
      "HR          52000.0  52000  52000  33.0     1\n",
      "IT          62500.0  60000  65000  29.0     2\n",
      "Sales       51000.0  48000  55000  29.0     3\n",
      "\n",
      "名前付き集計:\n",
      "            avg_salary  max_salary  employee_count\n",
      "department                                        \n",
      "HR             52000.0       52000               1\n",
      "IT             62500.0       65000               2\n",
      "Sales          51000.0       55000               3\n"
     ]
    }
   ],
   "source": [
    "# 複数の集計\n",
    "print(\"複数の集計関数:\")\n",
    "dept_stats = df_employees.groupby('department').agg({\n",
    "    'salary': ['mean', 'min', 'max'],\n",
    "    'age': 'mean',\n",
    "    'name': 'count'\n",
    "})\n",
    "print(dept_stats)\n",
    "\n",
    "# 名前付き集計（pandas 0.25以降）\n",
    "print(\"\\n名前付き集計:\")\n",
    "dept_summary = df_employees.groupby('department').agg(\n",
    "    avg_salary=('salary', 'mean'),\n",
    "    max_salary=('salary', 'max'),\n",
    "    employee_count=('name', 'count')\n",
    ")\n",
    "print(dept_summary)"
   ]
  },
  {
   "cell_type": "markdown",
   "id": "section8",
   "metadata": {},
   "source": [
    "## 8. CSVファイルの読み書き"
   ]
  },
  {
   "cell_type": "code",
   "execution_count": 20,
   "id": "csv-write",
   "metadata": {},
   "outputs": [
    {
     "name": "stdout",
     "output_type": "stream",
     "text": [
      "商品データ:\n",
      "   product_id product_name  price  stock\n",
      "0         101       Laptop  80000     15\n",
      "1         102        Mouse   3000     50\n",
      "2         103     Keyboard   5000     30\n",
      "3         104      Monitor  25000     20\n",
      "4         105    USB Cable   1000    100\n",
      "\n",
      "'products.csv'に保存しました\n"
     ]
    }
   ],
   "source": [
    "# CSVファイルへの書き込み\n",
    "# サンプルデータの作成\n",
    "products_data = pd.DataFrame({\n",
    "    'product_id': [101, 102, 103, 104, 105],\n",
    "    'product_name': ['Laptop', 'Mouse', 'Keyboard', 'Monitor', 'USB Cable'],\n",
    "    'price': [80000, 3000, 5000, 25000, 1000],\n",
    "    'stock': [15, 50, 30, 20, 100]\n",
    "})\n",
    "\n",
    "print(\"商品データ:\")\n",
    "print(products_data)\n",
    "\n",
    "# CSVファイルに保存\n",
    "csv_filename = 'products.csv'\n",
    "products_data.to_csv(csv_filename, index=False, encoding='utf-8')\n",
    "print(f\"\\n'{csv_filename}'に保存しました\")"
   ]
  },
  {
   "cell_type": "code",
   "execution_count": 21,
   "id": "csv-read",
   "metadata": {},
   "outputs": [
    {
     "name": "stdout",
     "output_type": "stream",
     "text": [
      "CSVファイルから読み込み:\n",
      "   product_id product_name  price  stock\n",
      "0         101       Laptop  80000     15\n",
      "1         102        Mouse   3000     50\n",
      "2         103     Keyboard   5000     30\n",
      "3         104      Monitor  25000     20\n",
      "4         105    USB Cable   1000    100\n",
      "\n",
      "データ型:\n",
      "product_id       int64\n",
      "product_name    object\n",
      "price            int64\n",
      "stock            int64\n",
      "dtype: object\n"
     ]
    }
   ],
   "source": [
    "# CSVファイルの読み込み\n",
    "print(\"CSVファイルから読み込み:\")\n",
    "loaded_data = pd.read_csv(csv_filename)\n",
    "print(loaded_data)\n",
    "print(\"\\nデータ型:\")\n",
    "print(loaded_data.dtypes)"
   ]
  },
  {
   "cell_type": "code",
   "execution_count": 22,
   "id": "csv-options",
   "metadata": {},
   "outputs": [
    {
     "name": "stdout",
     "output_type": "stream",
     "text": [
      "特定の列のみ読み込み:\n",
      "  product_name  price\n",
      "0       Laptop  80000\n",
      "1        Mouse   3000\n",
      "2     Keyboard   5000\n",
      "3      Monitor  25000\n",
      "4    USB Cable   1000\n",
      "\n",
      "データ型を指定:\n",
      "product_id      object\n",
      "product_name    object\n",
      "price            int64\n",
      "stock            int64\n",
      "dtype: object\n"
     ]
    }
   ],
   "source": [
    "# 読み込みオプション\n",
    "# 特定の列のみ読み込み\n",
    "print(\"特定の列のみ読み込み:\")\n",
    "partial_data = pd.read_csv(csv_filename, usecols=['product_name', 'price'])\n",
    "print(partial_data)\n",
    "\n",
    "# データ型を指定して読み込み\n",
    "print(\"\\nデータ型を指定:\")\n",
    "dtype_data = pd.read_csv(csv_filename, dtype={'product_id': str})\n",
    "print(dtype_data.dtypes)"
   ]
  },
  {
   "cell_type": "markdown",
   "id": "section9",
   "metadata": {},
   "source": [
    "## 9. データの追加と削除"
   ]
  },
  {
   "cell_type": "code",
   "execution_count": 23,
   "id": "add-column",
   "metadata": {},
   "outputs": [
    {
     "name": "stdout",
     "output_type": "stream",
     "text": [
      "元のDataFrame:\n",
      "   product_id product_name  price  stock\n",
      "0         101       Laptop  80000     15\n",
      "1         102        Mouse   3000     50\n",
      "2         103     Keyboard   5000     30\n",
      "3         104      Monitor  25000     20\n",
      "4         105    USB Cable   1000    100\n",
      "\n",
      "在庫価値を追加:\n",
      "   product_id product_name  price  stock  total_value\n",
      "0         101       Laptop  80000     15      1200000\n",
      "1         102        Mouse   3000     50       150000\n",
      "2         103     Keyboard   5000     30       150000\n",
      "3         104      Monitor  25000     20       500000\n",
      "4         105    USB Cable   1000    100       100000\n",
      "\n",
      "価格カテゴリを追加:\n",
      "   product_id product_name  price  stock  total_value price_category\n",
      "0         101       Laptop  80000     15      1200000           High\n",
      "1         102        Mouse   3000     50       150000            Low\n",
      "2         103     Keyboard   5000     30       150000            Low\n",
      "3         104      Monitor  25000     20       500000           High\n",
      "4         105    USB Cable   1000    100       100000            Low\n"
     ]
    }
   ],
   "source": [
    "# 新しい列の追加\n",
    "print(\"元のDataFrame:\")\n",
    "print(products_data)\n",
    "\n",
    "# 計算による新列追加\n",
    "products_data['total_value'] = products_data['price'] * products_data['stock']\n",
    "print(\"\\n在庫価値を追加:\")\n",
    "print(products_data)\n",
    "\n",
    "# 条件による新列追加\n",
    "products_data['price_category'] = pd.cut(products_data['price'], \n",
    "                                         bins=[0, 5000, 20000, 100000],\n",
    "                                         labels=['Low', 'Medium', 'High'])\n",
    "print(\"\\n価格カテゴリを追加:\")\n",
    "print(products_data)"
   ]
  },
  {
   "cell_type": "code",
   "execution_count": 24,
   "id": "delete-column",
   "metadata": {},
   "outputs": [
    {
     "name": "stdout",
     "output_type": "stream",
     "text": [
      "列を削除（dropメソッド）:\n",
      "   product_id product_name  price  stock  total_value\n",
      "0         101       Laptop  80000     15      1200000\n",
      "1         102        Mouse   3000     50       150000\n",
      "2         103     Keyboard   5000     30       150000\n",
      "3         104      Monitor  25000     20       500000\n",
      "4         105    USB Cable   1000    100       100000\n",
      "\n",
      "inplace=Trueで削除:\n",
      "   product_id product_name  price  stock price_category\n",
      "0         101       Laptop  80000     15           High\n",
      "1         102        Mouse   3000     50            Low\n",
      "2         103     Keyboard   5000     30            Low\n",
      "3         104      Monitor  25000     20           High\n",
      "4         105    USB Cable   1000    100            Low\n"
     ]
    }
   ],
   "source": [
    "# 列の削除\n",
    "# drop（元のDataFrameは変更されない）\n",
    "print(\"列を削除（dropメソッド）:\")\n",
    "df_dropped = products_data.drop('price_category', axis=1)\n",
    "print(df_dropped)\n",
    "\n",
    "# inplace=Trueで元のDataFrameを変更\n",
    "products_copy = products_data.copy()\n",
    "products_copy.drop('total_value', axis=1, inplace=True)\n",
    "print(\"\\ninplace=Trueで削除:\")\n",
    "print(products_copy)"
   ]
  },
  {
   "cell_type": "code",
   "execution_count": 25,
   "id": "add-row",
   "metadata": {},
   "outputs": [
    {
     "name": "stdout",
     "output_type": "stream",
     "text": [
      "新しい商品を追加:\n",
      "   product_id product_name  price  stock price_category\n",
      "0         101       Laptop  80000     15           High\n",
      "1         102        Mouse   3000     50            Low\n",
      "2         103     Keyboard   5000     30            Low\n",
      "3         104      Monitor  25000     20           High\n",
      "4         105    USB Cable   1000    100            Low\n",
      "5         106       Webcam   8000     25            NaN\n"
     ]
    }
   ],
   "source": [
    "# 行の追加\n",
    "new_product = pd.DataFrame({\n",
    "    'product_id': [106],\n",
    "    'product_name': ['Webcam'],\n",
    "    'price': [8000],\n",
    "    'stock': [25]\n",
    "})\n",
    "\n",
    "# concat を使用\n",
    "products_extended = pd.concat([products_copy, new_product], ignore_index=True)\n",
    "print(\"新しい商品を追加:\")\n",
    "print(products_extended)"
   ]
  },
  {
   "cell_type": "markdown",
   "id": "section10",
   "metadata": {},
   "source": [
    "## 10. 欠損値の処理"
   ]
  },
  {
   "cell_type": "code",
   "execution_count": 26,
   "id": "missing-values",
   "metadata": {},
   "outputs": [
    {
     "name": "stdout",
     "output_type": "stream",
     "text": [
      "欠損値を含むDataFrame:\n",
      "     A     B     C    D\n",
      "0  1.0   5.0  10.0    a\n",
      "1  2.0   NaN  20.0    b\n",
      "2  NaN   NaN  30.0  NaN\n",
      "3  4.0   8.0   NaN    d\n",
      "4  5.0  10.0  50.0    e\n",
      "\n",
      "欠損値の確認 (isnull()):\n",
      "       A      B      C      D\n",
      "0  False  False  False  False\n",
      "1  False   True  False  False\n",
      "2   True   True  False   True\n",
      "3  False  False   True  False\n",
      "4  False  False  False  False\n",
      "\n",
      "各列の欠損値数:\n",
      "A    1\n",
      "B    2\n",
      "C    1\n",
      "D    1\n",
      "dtype: int64\n",
      "\n",
      "欠損値の割合:\n",
      "A    20.0\n",
      "B    40.0\n",
      "C    20.0\n",
      "D    20.0\n",
      "dtype: float64\n"
     ]
    }
   ],
   "source": [
    "# 欠損値を含むデータの作成\n",
    "data_with_nan = pd.DataFrame({\n",
    "    'A': [1, 2, np.nan, 4, 5],\n",
    "    'B': [5, np.nan, np.nan, 8, 10],\n",
    "    'C': [10, 20, 30, np.nan, 50],\n",
    "    'D': ['a', 'b', np.nan, 'd', 'e']\n",
    "})\n",
    "\n",
    "print(\"欠損値を含むDataFrame:\")\n",
    "print(data_with_nan)\n",
    "\n",
    "# 欠損値の確認\n",
    "print(\"\\n欠損値の確認 (isnull()):\")\n",
    "print(data_with_nan.isnull())\n",
    "\n",
    "print(\"\\n各列の欠損値数:\")\n",
    "print(data_with_nan.isnull().sum())\n",
    "\n",
    "print(\"\\n欠損値の割合:\")\n",
    "print(data_with_nan.isnull().sum() / len(data_with_nan) * 100)"
   ]
  },
  {
   "cell_type": "code",
   "execution_count": 27,
   "id": "fill-missing",
   "metadata": {},
   "outputs": [
    {
     "name": "stdout",
     "output_type": "stream",
     "text": [
      "欠損値の補完方法:\n",
      "\n",
      "0で補完:\n",
      "     A     B     C  D\n",
      "0  1.0   5.0  10.0  a\n",
      "1  2.0   0.0  20.0  b\n",
      "2  0.0   0.0  30.0  0\n",
      "3  4.0   8.0   0.0  d\n",
      "4  5.0  10.0  50.0  e\n",
      "\n",
      "列ごとに異なる値で補完:\n",
      "     A          B     C        D\n",
      "0  1.0   5.000000  10.0        a\n",
      "1  2.0   7.666667  20.0        b\n",
      "2  0.0   7.666667  30.0  missing\n",
      "3  4.0   8.000000  25.0        d\n",
      "4  5.0  10.000000  50.0        e\n",
      "\n",
      "前方補完:\n",
      "     A     B     C  D\n",
      "0  1.0   5.0  10.0  a\n",
      "1  2.0   5.0  20.0  b\n",
      "2  2.0   5.0  30.0  b\n",
      "3  4.0   8.0  30.0  d\n",
      "4  5.0  10.0  50.0  e\n"
     ]
    },
    {
     "name": "stderr",
     "output_type": "stream",
     "text": [
      "/var/folders/fq/4y03msy94bq1kmg1wt7jjxxr0000gn/T/ipykernel_35239/462281793.py:17: FutureWarning: DataFrame.fillna with 'method' is deprecated and will raise in a future version. Use obj.ffill() or obj.bfill() instead.\n",
      "  filled_ffill = data_with_nan.fillna(method='ffill')\n"
     ]
    }
   ],
   "source": [
    "# 欠損値の補完\n",
    "print(\"欠損値の補完方法:\")\n",
    "\n",
    "# 固定値で補完\n",
    "print(\"\\n0で補完:\")\n",
    "filled_zero = data_with_nan.fillna(0)\n",
    "print(filled_zero)\n",
    "\n",
    "# 列ごとに異なる値で補完\n",
    "print(\"\\n列ごとに異なる値で補完:\")\n",
    "fill_values = {'A': 0, 'B': data_with_nan['B'].mean(), 'C': data_with_nan['C'].median(), 'D': 'missing'}\n",
    "filled_custom = data_with_nan.fillna(value=fill_values)\n",
    "print(filled_custom)\n",
    "\n",
    "# 前方補完（forward fill）\n",
    "print(\"\\n前方補完:\")\n",
    "filled_ffill = data_with_nan.fillna(method='ffill')\n",
    "print(filled_ffill)"
   ]
  },
  {
   "cell_type": "code",
   "execution_count": 28,
   "id": "drop-missing",
   "metadata": {},
   "outputs": [
    {
     "name": "stdout",
     "output_type": "stream",
     "text": [
      "欠損値を含む行の削除:\n",
      "     A     B     C  D\n",
      "0  1.0   5.0  10.0  a\n",
      "4  5.0  10.0  50.0  e\n",
      "\n",
      "特定の列に欠損値がある行を削除:\n",
      "     A     B     C  D\n",
      "0  1.0   5.0  10.0  a\n",
      "3  4.0   8.0   NaN  d\n",
      "4  5.0  10.0  50.0  e\n",
      "\n",
      "欠損値を含む列の削除:\n",
      "Empty DataFrame\n",
      "Columns: []\n",
      "Index: [0, 1, 2, 3, 4]\n"
     ]
    }
   ],
   "source": [
    "# 欠損値を含む行・列の削除\n",
    "print(\"欠損値を含む行の削除:\")\n",
    "dropped_rows = data_with_nan.dropna()\n",
    "print(dropped_rows)\n",
    "\n",
    "print(\"\\n特定の列に欠損値がある行を削除:\")\n",
    "dropped_specific = data_with_nan.dropna(subset=['A', 'B'])\n",
    "print(dropped_specific)\n",
    "\n",
    "print(\"\\n欠損値を含む列の削除:\")\n",
    "dropped_cols = data_with_nan.dropna(axis=1)\n",
    "print(dropped_cols)"
   ]
  },
  {
   "cell_type": "markdown",
   "id": "section11",
   "metadata": {},
   "source": [
    "## 11. 実践演習"
   ]
  },
  {
   "cell_type": "markdown",
   "id": "exercise1",
   "metadata": {},
   "source": [
    "### 演習1: 売上データの分析\n",
    "以下のような売上データを作成し、分析してください：\n",
    "1. 10個の商品の売上データ（商品名、カテゴリ、価格、販売数）を作成\n",
    "2. 売上金額（価格×販売数）を計算して新列として追加\n",
    "3. カテゴリごとの売上合計を計算\n",
    "4. 売上金額TOP5の商品を表示"
   ]
  },
  {
   "cell_type": "code",
   "execution_count": 29,
   "id": "exercise1-solution",
   "metadata": {},
   "outputs": [
    {
     "name": "stdout",
     "output_type": "stream",
     "text": [
      "売上データ:\n",
      "  product category  price  quantity\n",
      "0     商品A     電化製品  15000        61\n",
      "1     商品B       食品    500        24\n",
      "2     商品C     電化製品   8000        81\n",
      "3     商品D       衣類   3000        70\n",
      "4     商品E       食品    800        30\n",
      "5     商品F       衣類   4500        92\n",
      "6     商品G     電化製品  20000        96\n",
      "7     商品H       食品   1200        84\n",
      "8     商品I       衣類   2500        84\n",
      "9     商品J     電化製品  12000        97\n",
      "\n",
      "売上金額を追加:\n",
      "  product category  price  quantity  revenue\n",
      "0     商品A     電化製品  15000        61   915000\n",
      "1     商品B       食品    500        24    12000\n",
      "2     商品C     電化製品   8000        81   648000\n",
      "3     商品D       衣類   3000        70   210000\n",
      "4     商品E       食品    800        30    24000\n",
      "5     商品F       衣類   4500        92   414000\n",
      "6     商品G     電化製品  20000        96  1920000\n",
      "7     商品H       食品   1200        84   100800\n",
      "8     商品I       衣類   2500        84   210000\n",
      "9     商品J     電化製品  12000        97  1164000\n",
      "\n",
      "カテゴリごとの売上合計:\n",
      "category\n",
      "衣類       834000\n",
      "電化製品    4647000\n",
      "食品       136800\n",
      "Name: revenue, dtype: int64\n",
      "\n",
      "売上金額TOP5:\n",
      "  product category  revenue\n",
      "6     商品G     電化製品  1920000\n",
      "9     商品J     電化製品  1164000\n",
      "0     商品A     電化製品   915000\n",
      "2     商品C     電化製品   648000\n",
      "5     商品F       衣類   414000\n"
     ]
    }
   ],
   "source": [
    "# 演習1の解答\n",
    "# ここにコードを書いてください\n",
    "np.random.seed(42)\n",
    "\n",
    "# 1. 売上データの作成\n",
    "sales_data = pd.DataFrame({\n",
    "    'product': ['商品A', '商品B', '商品C', '商品D', '商品E', \n",
    "                '商品F', '商品G', '商品H', '商品I', '商品J'],\n",
    "    'category': ['電化製品', '食品', '電化製品', '衣類', '食品',\n",
    "                 '衣類', '電化製品', '食品', '衣類', '電化製品'],\n",
    "    'price': [15000, 500, 8000, 3000, 800, \n",
    "              4500, 20000, 1200, 2500, 12000],\n",
    "    'quantity': np.random.randint(10, 100, 10)\n",
    "})\n",
    "\n",
    "print(\"売上データ:\")\n",
    "print(sales_data)\n",
    "\n",
    "# 2. 売上金額の計算\n",
    "sales_data['revenue'] = sales_data['price'] * sales_data['quantity']\n",
    "print(\"\\n売上金額を追加:\")\n",
    "print(sales_data)\n",
    "\n",
    "# 3. カテゴリごとの売上合計\n",
    "category_revenue = sales_data.groupby('category')['revenue'].sum()\n",
    "print(\"\\nカテゴリごとの売上合計:\")\n",
    "print(category_revenue)\n",
    "\n",
    "# 4. 売上金額TOP5\n",
    "top5 = sales_data.nlargest(5, 'revenue')\n",
    "print(\"\\n売上金額TOP5:\")\n",
    "print(top5[['product', 'category', 'revenue']])"
   ]
  },
  {
   "cell_type": "markdown",
   "id": "exercise2",
   "metadata": {},
   "source": [
    "### 演習2: 学生の成績データ分析\n",
    "1. 20人の学生データ（名前、数学、英語、理科の点数）を作成\n",
    "2. 各学生の平均点を計算\n",
    "3. 平均点が80点以上の学生を抽出\n",
    "4. 科目ごとの統計情報（平均、最高、最低）を表示"
   ]
  },
  {
   "cell_type": "code",
   "execution_count": 30,
   "id": "exercise2-solution",
   "metadata": {},
   "outputs": [
    {
     "name": "stdout",
     "output_type": "stream",
     "text": [
      "学生の成績データ:\n",
      "   name  math  english  science\n",
      "0   学生1    98       61       68\n",
      "1   学生2    88       80       85\n",
      "2   学生3    74       92       61\n",
      "3   学生4    67       71       79\n",
      "4   学生5    80       81       87\n",
      "5   学生6    98       84       66\n",
      "6   学生7    78       86       67\n",
      "7   学生8    82       87       94\n",
      "8   学生9    70       75       73\n",
      "9  学生10    70       74       76\n",
      "\n",
      "平均点を追加:\n",
      "  name  math  english  science    average\n",
      "0  学生1    98       61       68  75.666667\n",
      "1  学生2    88       80       85  84.333333\n",
      "2  学生3    74       92       61  75.666667\n",
      "3  学生4    67       71       79  72.333333\n",
      "4  学生5    80       81       87  82.666667\n",
      "\n",
      "平均点80点以上の学生（9人）:\n",
      "    name    average\n",
      "11  学生12  96.666667\n",
      "7    学生8  87.666667\n",
      "19  学生20  87.666667\n",
      "18  学生19  86.000000\n",
      "1    学生2  84.333333\n",
      "4    学生5  82.666667\n",
      "5    学生6  82.666667\n",
      "15  学生16  80.666667\n",
      "10  学生11  80.000000\n",
      "\n",
      "科目ごとの統計情報:\n",
      "      math  english  science\n",
      "mean  81.9     77.9    77.25\n",
      "max   99.0     98.0    99.00\n",
      "min   61.0     61.0    61.00\n"
     ]
    }
   ],
   "source": [
    "# 演習2の解答\n",
    "# ここにコードを書いてください\n",
    "np.random.seed(42)\n",
    "\n",
    "# 1. 学生データの作成\n",
    "students = [f'学生{i+1}' for i in range(20)]\n",
    "scores_data = pd.DataFrame({\n",
    "    'name': students,\n",
    "    'math': np.random.randint(60, 101, 20),\n",
    "    'english': np.random.randint(60, 101, 20),\n",
    "    'science': np.random.randint(60, 101, 20)\n",
    "})\n",
    "\n",
    "print(\"学生の成績データ:\")\n",
    "print(scores_data.head(10))\n",
    "\n",
    "# 2. 平均点の計算\n",
    "scores_data['average'] = scores_data[['math', 'english', 'science']].mean(axis=1)\n",
    "print(\"\\n平均点を追加:\")\n",
    "print(scores_data.head())\n",
    "\n",
    "# 3. 平均点80点以上の学生\n",
    "high_performers = scores_data[scores_data['average'] >= 80]\n",
    "print(f\"\\n平均点80点以上の学生（{len(high_performers)}人）:\")\n",
    "print(high_performers[['name', 'average']].sort_values('average', ascending=False))\n",
    "\n",
    "# 4. 科目ごとの統計情報\n",
    "subjects_stats = scores_data[['math', 'english', 'science']].agg(['mean', 'max', 'min'])\n",
    "print(\"\\n科目ごとの統計情報:\")\n",
    "print(subjects_stats)"
   ]
  },
  {
   "cell_type": "markdown",
   "id": "exercise3",
   "metadata": {},
   "source": [
    "### 演習3: 時系列データの処理\n",
    "1. 30日分の架空の株価データ（日付、始値、高値、安値、終値）を作成\n",
    "2. 日付をインデックスに設定\n",
    "3. 5日移動平均を計算\n",
    "4. 終値が最も高かった日と最も低かった日を特定"
   ]
  },
  {
   "cell_type": "code",
   "execution_count": 31,
   "id": "exercise3-solution",
   "metadata": {},
   "outputs": [
    {
     "name": "stdout",
     "output_type": "stream",
     "text": [
      "株価データ（最初の10日）:\n",
      "        date         open         high          low        close\n",
      "0 2025-01-01  1006.925750  1014.726025  1005.954975  1009.934283\n",
      "1 2025-01-02  1016.430388  1018.286978   997.482547  1007.168997\n",
      "2 2025-01-03  1020.055282  1031.186118  1013.034751  1020.122768\n",
      "3 2025-01-04  1045.294810  1062.545431  1042.018189  1050.583365\n",
      "4 2025-01-05  1050.013022  1058.138280  1041.979216  1045.900297\n",
      "5 2025-01-06  1035.113340  1054.779959  1020.478191  1041.217558\n",
      "6 2025-01-07  1073.846133  1074.566234  1069.840612  1072.801815\n",
      "7 2025-01-08  1078.352159  1098.185838  1075.741606  1088.150509\n",
      "8 2025-01-09  1072.120091  1082.377382  1072.068957  1078.761021\n",
      "9 2025-01-10  1090.596529  1097.047726  1087.266351  1089.612222\n",
      "\n",
      "日付をインデックスに設定:\n",
      "                   open         high          low        close\n",
      "date                                                          \n",
      "2025-01-01  1006.925750  1014.726025  1005.954975  1009.934283\n",
      "2025-01-02  1016.430388  1018.286978   997.482547  1007.168997\n",
      "2025-01-03  1020.055282  1031.186118  1013.034751  1020.122768\n",
      "2025-01-04  1045.294810  1062.545431  1042.018189  1050.583365\n",
      "2025-01-05  1050.013022  1058.138280  1041.979216  1045.900297\n",
      "\n",
      "5日移動平均を追加:\n",
      "                  close          MA5\n",
      "date                                \n",
      "2025-01-01  1009.934283          NaN\n",
      "2025-01-02  1007.168997          NaN\n",
      "2025-01-03  1020.122768          NaN\n",
      "2025-01-04  1050.583365          NaN\n",
      "2025-01-05  1045.900297  1026.741942\n",
      "2025-01-06  1041.217558  1032.998597\n",
      "2025-01-07  1072.801815  1046.125161\n",
      "2025-01-08  1088.150509  1059.730709\n",
      "2025-01-09  1078.761021  1065.366240\n",
      "2025-01-10  1089.612222  1074.108625\n",
      "\n",
      "終値が最も高かった日: 2025-01-10\n",
      "終値: 1089.61\n",
      "\n",
      "終値が最も低かった日: 2025-01-30\n",
      "終値: 887.11\n"
     ]
    }
   ],
   "source": [
    "# 演習3の解答\n",
    "# ここにコードを書いてください\n",
    "np.random.seed(42)\n",
    "\n",
    "# 1. 株価データの作成\n",
    "dates = pd.date_range('2025-01-01', periods=30, freq='D')\n",
    "base_price = 1000\n",
    "price_changes = np.random.randn(30) * 20\n",
    "\n",
    "stock_data = pd.DataFrame({\n",
    "    'date': dates,\n",
    "    'close': base_price + np.cumsum(price_changes)\n",
    "})\n",
    "\n",
    "# 始値、高値、安値を終値から生成\n",
    "stock_data['open'] = stock_data['close'] + np.random.randn(30) * 5\n",
    "stock_data['high'] = stock_data[['open', 'close']].max(axis=1) + np.abs(np.random.randn(30) * 10)\n",
    "stock_data['low'] = stock_data[['open', 'close']].min(axis=1) - np.abs(np.random.randn(30) * 10)\n",
    "\n",
    "# 列の順序を整理\n",
    "stock_data = stock_data[['date', 'open', 'high', 'low', 'close']]\n",
    "\n",
    "print(\"株価データ（最初の10日）:\")\n",
    "print(stock_data.head(10))\n",
    "\n",
    "# 2. 日付をインデックスに設定\n",
    "stock_data.set_index('date', inplace=True)\n",
    "print(\"\\n日付をインデックスに設定:\")\n",
    "print(stock_data.head())\n",
    "\n",
    "# 3. 5日移動平均\n",
    "stock_data['MA5'] = stock_data['close'].rolling(window=5).mean()\n",
    "print(\"\\n5日移動平均を追加:\")\n",
    "print(stock_data[['close', 'MA5']].head(10))\n",
    "\n",
    "# 4. 最高値と最安値の日\n",
    "max_day = stock_data['close'].idxmax()\n",
    "min_day = stock_data['close'].idxmin()\n",
    "\n",
    "print(f\"\\n終値が最も高かった日: {max_day.strftime('%Y-%m-%d')}\")\n",
    "print(f\"終値: {stock_data.loc[max_day, 'close']:.2f}\")\n",
    "\n",
    "print(f\"\\n終値が最も低かった日: {min_day.strftime('%Y-%m-%d')}\")\n",
    "print(f\"終値: {stock_data.loc[min_day, 'close']:.2f}\")"
   ]
  },
  {
   "cell_type": "markdown",
   "id": "solutions",
   "metadata": {},
   "source": [
    "## 演習の解答例"
   ]
  },
  {
   "cell_type": "code",
   "execution_count": null,
   "id": "solution1",
   "metadata": {},
   "outputs": [],
   "source": [
    "# 演習1の解答例\n",
    "np.random.seed(42)\n",
    "\n",
    "# 1. 売上データの作成\n",
    "sales_data = pd.DataFrame({\n",
    "    'product': ['商品A', '商品B', '商品C', '商品D', '商品E', \n",
    "                '商品F', '商品G', '商品H', '商品I', '商品J'],\n",
    "    'category': ['電化製品', '食品', '電化製品', '衣類', '食品',\n",
    "                 '衣類', '電化製品', '食品', '衣類', '電化製品'],\n",
    "    'price': [15000, 500, 8000, 3000, 800, \n",
    "              4500, 20000, 1200, 2500, 12000],\n",
    "    'quantity': np.random.randint(10, 100, 10)\n",
    "})\n",
    "\n",
    "print(\"売上データ:\")\n",
    "print(sales_data)\n",
    "\n",
    "# 2. 売上金額の計算\n",
    "sales_data['revenue'] = sales_data['price'] * sales_data['quantity']\n",
    "print(\"\\n売上金額を追加:\")\n",
    "print(sales_data)\n",
    "\n",
    "# 3. カテゴリごとの売上合計\n",
    "category_revenue = sales_data.groupby('category')['revenue'].sum()\n",
    "print(\"\\nカテゴリごとの売上合計:\")\n",
    "print(category_revenue)\n",
    "\n",
    "# 4. 売上金額TOP5\n",
    "top5 = sales_data.nlargest(5, 'revenue')\n",
    "print(\"\\n売上金額TOP5:\")\n",
    "print(top5[['product', 'category', 'revenue']])"
   ]
  },
  {
   "cell_type": "code",
   "execution_count": null,
   "id": "solution2",
   "metadata": {},
   "outputs": [],
   "source": [
    "# 演習2の解答例\n",
    "np.random.seed(42)\n",
    "\n",
    "# 1. 学生データの作成\n",
    "students = [f'学生{i+1}' for i in range(20)]\n",
    "scores_data = pd.DataFrame({\n",
    "    'name': students,\n",
    "    'math': np.random.randint(60, 101, 20),\n",
    "    'english': np.random.randint(60, 101, 20),\n",
    "    'science': np.random.randint(60, 101, 20)\n",
    "})\n",
    "\n",
    "print(\"学生の成績データ:\")\n",
    "print(scores_data.head(10))\n",
    "\n",
    "# 2. 平均点の計算\n",
    "scores_data['average'] = scores_data[['math', 'english', 'science']].mean(axis=1)\n",
    "print(\"\\n平均点を追加:\")\n",
    "print(scores_data.head())\n",
    "\n",
    "# 3. 平均点80点以上の学生\n",
    "high_performers = scores_data[scores_data['average'] >= 80]\n",
    "print(f\"\\n平均点80点以上の学生（{len(high_performers)}人）:\")\n",
    "print(high_performers[['name', 'average']].sort_values('average', ascending=False))\n",
    "\n",
    "# 4. 科目ごとの統計情報\n",
    "subjects_stats = scores_data[['math', 'english', 'science']].agg(['mean', 'max', 'min'])\n",
    "print(\"\\n科目ごとの統計情報:\")\n",
    "print(subjects_stats)"
   ]
  },
  {
   "cell_type": "code",
   "execution_count": null,
   "id": "solution3",
   "metadata": {},
   "outputs": [],
   "source": [
    "# 演習3の解答例\n",
    "np.random.seed(42)\n",
    "\n",
    "# 1. 株価データの作成\n",
    "dates = pd.date_range('2025-01-01', periods=30, freq='D')\n",
    "base_price = 1000\n",
    "price_changes = np.random.randn(30) * 20\n",
    "\n",
    "stock_data = pd.DataFrame({\n",
    "    'date': dates,\n",
    "    'close': base_price + np.cumsum(price_changes)\n",
    "})\n",
    "\n",
    "# 始値、高値、安値を終値から生成\n",
    "stock_data['open'] = stock_data['close'] + np.random.randn(30) * 5\n",
    "stock_data['high'] = stock_data[['open', 'close']].max(axis=1) + np.abs(np.random.randn(30) * 10)\n",
    "stock_data['low'] = stock_data[['open', 'close']].min(axis=1) - np.abs(np.random.randn(30) * 10)\n",
    "\n",
    "# 列の順序を整理\n",
    "stock_data = stock_data[['date', 'open', 'high', 'low', 'close']]\n",
    "\n",
    "print(\"株価データ（最初の10日）:\")\n",
    "print(stock_data.head(10))\n",
    "\n",
    "# 2. 日付をインデックスに設定\n",
    "stock_data.set_index('date', inplace=True)\n",
    "print(\"\\n日付をインデックスに設定:\")\n",
    "print(stock_data.head())\n",
    "\n",
    "# 3. 5日移動平均\n",
    "stock_data['MA5'] = stock_data['close'].rolling(window=5).mean()\n",
    "print(\"\\n5日移動平均を追加:\")\n",
    "print(stock_data[['close', 'MA5']].head(10))\n",
    "\n",
    "# 4. 最高値と最安値の日\n",
    "max_day = stock_data['close'].idxmax()\n",
    "min_day = stock_data['close'].idxmin()\n",
    "\n",
    "print(f\"\\n終値が最も高かった日: {max_day.strftime('%Y-%m-%d')}\")\n",
    "print(f\"終値: {stock_data.loc[max_day, 'close']:.2f}\")\n",
    "\n",
    "print(f\"\\n終値が最も低かった日: {min_day.strftime('%Y-%m-%d')}\")\n",
    "print(f\"終値: {stock_data.loc[min_day, 'close']:.2f}\")"
   ]
  },
  {
   "cell_type": "markdown",
   "id": "summary",
   "metadata": {},
   "source": [
    "## まとめ\n",
    "\n",
    "今日学んだこと：\n",
    "1. **DataFrameの作成**: 辞書、リスト、NumPy配列から作成\n",
    "2. **データの選択**: 列選択、行選択、loc/iloc\n",
    "3. **フィルタリング**: 条件によるデータ抽出\n",
    "4. **ソート**: 単一・複数列でのソート\n",
    "5. **統計情報**: describe、個別統計量、グループ集計\n",
    "6. **CSV操作**: 読み書きとオプション\n",
    "7. **データ操作**: 列の追加・削除、欠損値処理\n",
    "\n",
    "PandasのDataFrameは、データ分析において最も重要なツールの一つです。\n",
    "これらの基本操作を習得することで、実践的なデータ分析が可能になります。\n",
    "\n",
    "次回（Day 4）は、Pandas基礎②としてデータクリーニングについて学習します。"
   ]
  }
 ],
 "metadata": {
  "kernelspec": {
   "display_name": "Python 3 (ipykernel)",
   "language": "python",
   "name": "python3"
  },
  "language_info": {
   "codemirror_mode": {
    "name": "ipython",
    "version": 3
   },
   "file_extension": ".py",
   "mimetype": "text/x-python",
   "name": "python",
   "nbconvert_exporter": "python",
   "pygments_lexer": "ipython3",
   "version": "3.11.13"
  }
 },
 "nbformat": 4,
 "nbformat_minor": 5
}
